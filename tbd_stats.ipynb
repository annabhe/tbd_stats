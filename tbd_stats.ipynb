{
 "cells": [
  {
   "cell_type": "code",
   "execution_count": 640,
   "metadata": {},
   "outputs": [],
   "source": [
    "import numpy as np\n",
    "import datetime as dt \n",
    "import csv\n",
    "import pandas as pd\n",
    "import plotly.express as px\n",
    "import plotly.graph_objects as go\n",
    "from plotly.subplots import make_subplots"
   ]
  },
  {
   "cell_type": "code",
   "execution_count": 641,
   "metadata": {},
   "outputs": [],
   "source": [
    "df = pd.read_csv('tbd_stats.csv')\n",
    "attendance = pd.read_csv('sat_attendance.csv')\n",
    "weather = pd.read_csv('weather.csv')\n",
    "df['date'] = pd.to_datetime(df['date'])\n",
    "attendance['date'] = pd.to_datetime(attendance['date'])\n",
    "weather['date'] = pd.to_datetime(weather['date'])\n",
    "weather = weather.loc[weather[\"date\"].isin(df[\"date\"])]"
   ]
  },
  {
   "cell_type": "code",
   "execution_count": 847,
   "metadata": {},
   "outputs": [
    {
     "name": "stdout",
     "output_type": "stream",
     "text": [
      "21.3075\n",
      "19.7\n",
      "9.95\n",
      "9.5\n"
     ]
    }
   ],
   "source": [
    "print(df['miles'].mean())\n",
    "print(df['miles'].median())\n",
    "print(df['num_riders'].mean())\n",
    "print(df['num_riders'].median())"
   ]
  },
  {
   "cell_type": "markdown",
   "metadata": {},
   "source": [
    "# TBD Attendance\n",
    "The attendance graph and animation"
   ]
  },
  {
   "cell_type": "code",
   "execution_count": 812,
   "metadata": {},
   "outputs": [
    {
     "data": {
      "text/html": [
       "<div>                            <div id=\"684306a6-74b0-45c8-bdcc-b1b5ae74b2bd\" class=\"plotly-graph-div\" style=\"height:800px; width:450px;\"></div>            <script type=\"text/javascript\">                require([\"plotly\"], function(Plotly) {                    window.PLOTLYENV=window.PLOTLYENV || {};                                    if (document.getElementById(\"684306a6-74b0-45c8-bdcc-b1b5ae74b2bd\")) {                    Plotly.newPlot(                        \"684306a6-74b0-45c8-bdcc-b1b5ae74b2bd\",                        [{\"hovertemplate\":\"date=%{x}\\u003cbr\\u003enum_riders=%{y}\\u003cextra\\u003e\\u003c\\u002fextra\\u003e\",\"legendgroup\":\"\",\"line\":{\"color\":\"#636efa\",\"dash\":\"solid\",\"width\":5},\"marker\":{\"symbol\":\"circle\"},\"mode\":\"lines+markers\",\"name\":\"\",\"orientation\":\"v\",\"showlegend\":false,\"x\":[\"2024-01-13T00:00:00\",\"2024-01-20T00:00:00\",\"2024-01-27T00:00:00\",\"2024-02-03T00:00:00\",\"2024-02-10T00:00:00\",\"2024-02-17T00:00:00\",\"2024-02-24T00:00:00\",\"2024-03-02T00:00:00\",\"2024-03-09T00:00:00\",\"2024-03-16T00:00:00\",\"2024-03-23T00:00:00\",\"2024-03-30T00:00:00\",\"2024-04-06T00:00:00\",\"2024-04-13T00:00:00\",\"2024-04-20T00:00:00\",\"2024-04-27T00:00:00\",\"2024-05-04T00:00:00\",\"2024-05-11T00:00:00\",\"2024-05-18T00:00:00\",\"2024-05-25T00:00:00\",\"2024-06-01T00:00:00\",\"2024-06-08T00:00:00\",\"2024-06-15T00:00:00\",\"2024-06-22T00:00:00\",\"2024-06-29T00:00:00\",\"2024-07-06T00:00:00\",\"2024-07-13T00:00:00\",\"2024-07-20T00:00:00\",\"2024-07-27T00:00:00\",\"2024-08-03T00:00:00\",\"2024-08-10T00:00:00\",\"2024-08-17T00:00:00\",\"2024-08-24T00:00:00\",\"2024-08-31T00:00:00\",\"2024-09-07T00:00:00\",\"2024-09-14T00:00:00\",\"2024-09-21T00:00:00\",\"2024-09-28T00:00:00\",\"2024-10-05T00:00:00\",\"2024-10-12T00:00:00\",\"2024-10-19T00:00:00\",\"2024-10-26T00:00:00\",\"2024-11-02T00:00:00\",\"2024-11-09T00:00:00\",\"2024-11-16T00:00:00\",\"2024-11-23T00:00:00\",\"2024-11-30T00:00:00\",\"2024-12-07T00:00:00\",\"2024-12-14T00:00:00\"],\"xaxis\":\"x\",\"y\":[13.0,null,14.0,16.0,12.0,null,7.0,null,null,7.0,7.0,null,6.0,9.0,10.0,null,null,9.0,null,18.0,10.0,6.0,8.0,9.0,3.0,9.0,8.0,null,6.0,10.0,9.0,14.0,8.0,12.0,12.0,9.0,11.0,13.0,14.0,8.0,9.0,6.0,11.0,9.0,11.0,10.0,10.0,null,11.0],\"yaxis\":\"y\",\"type\":\"scatter\",\"connectgaps\":true}],                        {\"template\":{\"data\":{\"histogram2dcontour\":[{\"type\":\"histogram2dcontour\",\"colorbar\":{\"outlinewidth\":0,\"ticks\":\"\"},\"colorscale\":[[0.0,\"#0d0887\"],[0.1111111111111111,\"#46039f\"],[0.2222222222222222,\"#7201a8\"],[0.3333333333333333,\"#9c179e\"],[0.4444444444444444,\"#bd3786\"],[0.5555555555555556,\"#d8576b\"],[0.6666666666666666,\"#ed7953\"],[0.7777777777777778,\"#fb9f3a\"],[0.8888888888888888,\"#fdca26\"],[1.0,\"#f0f921\"]]}],\"choropleth\":[{\"type\":\"choropleth\",\"colorbar\":{\"outlinewidth\":0,\"ticks\":\"\"}}],\"histogram2d\":[{\"type\":\"histogram2d\",\"colorbar\":{\"outlinewidth\":0,\"ticks\":\"\"},\"colorscale\":[[0.0,\"#0d0887\"],[0.1111111111111111,\"#46039f\"],[0.2222222222222222,\"#7201a8\"],[0.3333333333333333,\"#9c179e\"],[0.4444444444444444,\"#bd3786\"],[0.5555555555555556,\"#d8576b\"],[0.6666666666666666,\"#ed7953\"],[0.7777777777777778,\"#fb9f3a\"],[0.8888888888888888,\"#fdca26\"],[1.0,\"#f0f921\"]]}],\"heatmap\":[{\"type\":\"heatmap\",\"colorbar\":{\"outlinewidth\":0,\"ticks\":\"\"},\"colorscale\":[[0.0,\"#0d0887\"],[0.1111111111111111,\"#46039f\"],[0.2222222222222222,\"#7201a8\"],[0.3333333333333333,\"#9c179e\"],[0.4444444444444444,\"#bd3786\"],[0.5555555555555556,\"#d8576b\"],[0.6666666666666666,\"#ed7953\"],[0.7777777777777778,\"#fb9f3a\"],[0.8888888888888888,\"#fdca26\"],[1.0,\"#f0f921\"]]}],\"heatmapgl\":[{\"type\":\"heatmapgl\",\"colorbar\":{\"outlinewidth\":0,\"ticks\":\"\"},\"colorscale\":[[0.0,\"#0d0887\"],[0.1111111111111111,\"#46039f\"],[0.2222222222222222,\"#7201a8\"],[0.3333333333333333,\"#9c179e\"],[0.4444444444444444,\"#bd3786\"],[0.5555555555555556,\"#d8576b\"],[0.6666666666666666,\"#ed7953\"],[0.7777777777777778,\"#fb9f3a\"],[0.8888888888888888,\"#fdca26\"],[1.0,\"#f0f921\"]]}],\"contourcarpet\":[{\"type\":\"contourcarpet\",\"colorbar\":{\"outlinewidth\":0,\"ticks\":\"\"}}],\"contour\":[{\"type\":\"contour\",\"colorbar\":{\"outlinewidth\":0,\"ticks\":\"\"},\"colorscale\":[[0.0,\"#0d0887\"],[0.1111111111111111,\"#46039f\"],[0.2222222222222222,\"#7201a8\"],[0.3333333333333333,\"#9c179e\"],[0.4444444444444444,\"#bd3786\"],[0.5555555555555556,\"#d8576b\"],[0.6666666666666666,\"#ed7953\"],[0.7777777777777778,\"#fb9f3a\"],[0.8888888888888888,\"#fdca26\"],[1.0,\"#f0f921\"]]}],\"surface\":[{\"type\":\"surface\",\"colorbar\":{\"outlinewidth\":0,\"ticks\":\"\"},\"colorscale\":[[0.0,\"#0d0887\"],[0.1111111111111111,\"#46039f\"],[0.2222222222222222,\"#7201a8\"],[0.3333333333333333,\"#9c179e\"],[0.4444444444444444,\"#bd3786\"],[0.5555555555555556,\"#d8576b\"],[0.6666666666666666,\"#ed7953\"],[0.7777777777777778,\"#fb9f3a\"],[0.8888888888888888,\"#fdca26\"],[1.0,\"#f0f921\"]]}],\"mesh3d\":[{\"type\":\"mesh3d\",\"colorbar\":{\"outlinewidth\":0,\"ticks\":\"\"}}],\"scatter\":[{\"fillpattern\":{\"fillmode\":\"overlay\",\"size\":10,\"solidity\":0.2},\"type\":\"scatter\"}],\"parcoords\":[{\"type\":\"parcoords\",\"line\":{\"colorbar\":{\"outlinewidth\":0,\"ticks\":\"\"}}}],\"scatterpolargl\":[{\"type\":\"scatterpolargl\",\"marker\":{\"colorbar\":{\"outlinewidth\":0,\"ticks\":\"\"}}}],\"bar\":[{\"error_x\":{\"color\":\"#2a3f5f\"},\"error_y\":{\"color\":\"#2a3f5f\"},\"marker\":{\"line\":{\"color\":\"#E5ECF6\",\"width\":0.5},\"pattern\":{\"fillmode\":\"overlay\",\"size\":10,\"solidity\":0.2}},\"type\":\"bar\"}],\"scattergeo\":[{\"type\":\"scattergeo\",\"marker\":{\"colorbar\":{\"outlinewidth\":0,\"ticks\":\"\"}}}],\"scatterpolar\":[{\"type\":\"scatterpolar\",\"marker\":{\"colorbar\":{\"outlinewidth\":0,\"ticks\":\"\"}}}],\"histogram\":[{\"marker\":{\"pattern\":{\"fillmode\":\"overlay\",\"size\":10,\"solidity\":0.2}},\"type\":\"histogram\"}],\"scattergl\":[{\"type\":\"scattergl\",\"marker\":{\"colorbar\":{\"outlinewidth\":0,\"ticks\":\"\"}}}],\"scatter3d\":[{\"type\":\"scatter3d\",\"line\":{\"colorbar\":{\"outlinewidth\":0,\"ticks\":\"\"}},\"marker\":{\"colorbar\":{\"outlinewidth\":0,\"ticks\":\"\"}}}],\"scattermapbox\":[{\"type\":\"scattermapbox\",\"marker\":{\"colorbar\":{\"outlinewidth\":0,\"ticks\":\"\"}}}],\"scatterternary\":[{\"type\":\"scatterternary\",\"marker\":{\"colorbar\":{\"outlinewidth\":0,\"ticks\":\"\"}}}],\"scattercarpet\":[{\"type\":\"scattercarpet\",\"marker\":{\"colorbar\":{\"outlinewidth\":0,\"ticks\":\"\"}}}],\"carpet\":[{\"aaxis\":{\"endlinecolor\":\"#2a3f5f\",\"gridcolor\":\"white\",\"linecolor\":\"white\",\"minorgridcolor\":\"white\",\"startlinecolor\":\"#2a3f5f\"},\"baxis\":{\"endlinecolor\":\"#2a3f5f\",\"gridcolor\":\"white\",\"linecolor\":\"white\",\"minorgridcolor\":\"white\",\"startlinecolor\":\"#2a3f5f\"},\"type\":\"carpet\"}],\"table\":[{\"cells\":{\"fill\":{\"color\":\"#EBF0F8\"},\"line\":{\"color\":\"white\"}},\"header\":{\"fill\":{\"color\":\"#C8D4E3\"},\"line\":{\"color\":\"white\"}},\"type\":\"table\"}],\"barpolar\":[{\"marker\":{\"line\":{\"color\":\"#E5ECF6\",\"width\":0.5},\"pattern\":{\"fillmode\":\"overlay\",\"size\":10,\"solidity\":0.2}},\"type\":\"barpolar\"}],\"pie\":[{\"automargin\":true,\"type\":\"pie\"}]},\"layout\":{\"autotypenumbers\":\"strict\",\"colorway\":[\"#636efa\",\"#EF553B\",\"#00cc96\",\"#ab63fa\",\"#FFA15A\",\"#19d3f3\",\"#FF6692\",\"#B6E880\",\"#FF97FF\",\"#FECB52\"],\"font\":{\"color\":\"#2a3f5f\"},\"hovermode\":\"closest\",\"hoverlabel\":{\"align\":\"left\"},\"paper_bgcolor\":\"white\",\"plot_bgcolor\":\"#E5ECF6\",\"polar\":{\"bgcolor\":\"#E5ECF6\",\"angularaxis\":{\"gridcolor\":\"white\",\"linecolor\":\"white\",\"ticks\":\"\"},\"radialaxis\":{\"gridcolor\":\"white\",\"linecolor\":\"white\",\"ticks\":\"\"}},\"ternary\":{\"bgcolor\":\"#E5ECF6\",\"aaxis\":{\"gridcolor\":\"white\",\"linecolor\":\"white\",\"ticks\":\"\"},\"baxis\":{\"gridcolor\":\"white\",\"linecolor\":\"white\",\"ticks\":\"\"},\"caxis\":{\"gridcolor\":\"white\",\"linecolor\":\"white\",\"ticks\":\"\"}},\"coloraxis\":{\"colorbar\":{\"outlinewidth\":0,\"ticks\":\"\"}},\"colorscale\":{\"sequential\":[[0.0,\"#0d0887\"],[0.1111111111111111,\"#46039f\"],[0.2222222222222222,\"#7201a8\"],[0.3333333333333333,\"#9c179e\"],[0.4444444444444444,\"#bd3786\"],[0.5555555555555556,\"#d8576b\"],[0.6666666666666666,\"#ed7953\"],[0.7777777777777778,\"#fb9f3a\"],[0.8888888888888888,\"#fdca26\"],[1.0,\"#f0f921\"]],\"sequentialminus\":[[0.0,\"#0d0887\"],[0.1111111111111111,\"#46039f\"],[0.2222222222222222,\"#7201a8\"],[0.3333333333333333,\"#9c179e\"],[0.4444444444444444,\"#bd3786\"],[0.5555555555555556,\"#d8576b\"],[0.6666666666666666,\"#ed7953\"],[0.7777777777777778,\"#fb9f3a\"],[0.8888888888888888,\"#fdca26\"],[1.0,\"#f0f921\"]],\"diverging\":[[0,\"#8e0152\"],[0.1,\"#c51b7d\"],[0.2,\"#de77ae\"],[0.3,\"#f1b6da\"],[0.4,\"#fde0ef\"],[0.5,\"#f7f7f7\"],[0.6,\"#e6f5d0\"],[0.7,\"#b8e186\"],[0.8,\"#7fbc41\"],[0.9,\"#4d9221\"],[1,\"#276419\"]]},\"xaxis\":{\"gridcolor\":\"white\",\"linecolor\":\"white\",\"ticks\":\"\",\"title\":{\"standoff\":15},\"zerolinecolor\":\"white\",\"automargin\":true,\"zerolinewidth\":2},\"yaxis\":{\"gridcolor\":\"white\",\"linecolor\":\"white\",\"ticks\":\"\",\"title\":{\"standoff\":15},\"zerolinecolor\":\"white\",\"automargin\":true,\"zerolinewidth\":2},\"scene\":{\"xaxis\":{\"backgroundcolor\":\"#E5ECF6\",\"gridcolor\":\"white\",\"linecolor\":\"white\",\"showbackground\":true,\"ticks\":\"\",\"zerolinecolor\":\"white\",\"gridwidth\":2},\"yaxis\":{\"backgroundcolor\":\"#E5ECF6\",\"gridcolor\":\"white\",\"linecolor\":\"white\",\"showbackground\":true,\"ticks\":\"\",\"zerolinecolor\":\"white\",\"gridwidth\":2},\"zaxis\":{\"backgroundcolor\":\"#E5ECF6\",\"gridcolor\":\"white\",\"linecolor\":\"white\",\"showbackground\":true,\"ticks\":\"\",\"zerolinecolor\":\"white\",\"gridwidth\":2}},\"shapedefaults\":{\"line\":{\"color\":\"#2a3f5f\"}},\"annotationdefaults\":{\"arrowcolor\":\"#2a3f5f\",\"arrowhead\":0,\"arrowwidth\":1},\"geo\":{\"bgcolor\":\"white\",\"landcolor\":\"#E5ECF6\",\"subunitcolor\":\"white\",\"showland\":true,\"showlakes\":true,\"lakecolor\":\"white\"},\"title\":{\"x\":0.05},\"mapbox\":{\"style\":\"light\"}}},\"xaxis\":{\"anchor\":\"y\",\"domain\":[0.0,1.0],\"title\":{\"text\":\"Number of Riders\"},\"fixedrange\":false,\"dtick\":\"M1\",\"tickformat\":\"%b\",\"range\":[\"2024-01-01T00:00:00\",\"2024-12-31T00:00:00\"],\"gridcolor\":\"silver\"},\"yaxis\":{\"anchor\":\"x\",\"domain\":[0.0,1.0],\"title\":{},\"dtick\":\"2\",\"range\":[2,19],\"gridcolor\":\"silver\"},\"legend\":{\"tracegroupgap\":0},\"title\":{\"text\":\"TBD 2024 Ride Attendance\",\"x\":0.5},\"margin\":{\"l\":5,\"r\":5,\"t\":50,\"b\":5},\"width\":450,\"height\":800,\"plot_bgcolor\":\"#fffcf7\",\"paper_bgcolor\":\"#fffcf7\"},                        {\"responsive\": true}                    ).then(function(){\n",
       "                            \n",
       "var gd = document.getElementById('684306a6-74b0-45c8-bdcc-b1b5ae74b2bd');\n",
       "var x = new MutationObserver(function (mutations, observer) {{\n",
       "        var display = window.getComputedStyle(gd).display;\n",
       "        if (!display || display === 'none') {{\n",
       "            console.log([gd, 'removed!']);\n",
       "            Plotly.purge(gd);\n",
       "            observer.disconnect();\n",
       "        }}\n",
       "}});\n",
       "\n",
       "// Listen for the removal of the full notebook cells\n",
       "var notebookContainer = gd.closest('#notebook-container');\n",
       "if (notebookContainer) {{\n",
       "    x.observe(notebookContainer, {childList: true});\n",
       "}}\n",
       "\n",
       "// Listen for the clearing of the current output cell\n",
       "var outputEl = gd.closest('.output');\n",
       "if (outputEl) {{\n",
       "    x.observe(outputEl, {childList: true});\n",
       "}}\n",
       "\n",
       "                        })                };                });            </script>        </div>"
      ]
     },
     "metadata": {},
     "output_type": "display_data"
    }
   ],
   "source": [
    "fig = px.line(\n",
    "    df.iloc[1:-2], x=\"date\", y=\"num_riders\", \n",
    "    markers=True, \n",
    "    title=\"TBD 2024 Ride Attendance\",\n",
    "    # line_shape='spline'\n",
    ")\n",
    "fig.update_xaxes(\n",
    "    fixedrange=False,\n",
    "    dtick=\"M1\",\n",
    "    tickformat=\"%b\",\n",
    "    range=[pd.to_datetime('2024-01-01'),pd.to_datetime('2024-12-31')],\n",
    "    gridcolor='silver'\n",
    ")\n",
    "fig.update_yaxes(\n",
    "    dtick=\"2\",\n",
    "    range=[2,19],\n",
    "    gridcolor='silver'\n",
    ")\n",
    "fig.update_layout(\n",
    "    title_x=0.5,\n",
    "    width=450,\n",
    "    height=800,\n",
    "    margin=dict(l=5, r=5, t=50, b=5),  # left, right, top, bottom margins\n",
    "    yaxis=dict(title=None),\n",
    "    xaxis_title='Number of Riders',\n",
    "    plot_bgcolor='#fffcf7',\n",
    "    paper_bgcolor='#fffcf7',\n",
    "    # template='simple_white',\n",
    ")\n",
    "fig.update_traces(\n",
    "    connectgaps=True, \n",
    "    line=dict(width=5),\n",
    ")\n",
    "fig.show()\n",
    "fig.write_image(f'attendance.png', format='png')"
   ]
  },
  {
   "cell_type": "code",
   "execution_count": 743,
   "metadata": {},
   "outputs": [],
   "source": [
    "def more_plots(num_riders, multiplier):\n",
    "    multiplied_riders = []\n",
    "    for i in range(len(num_riders)-1):\n",
    "        next_ride_num = num_riders[i+1]\n",
    "        increment = (next_ride_num - num_riders[i]) / multiplier\n",
    "        new_riders = []\n",
    "        for j in range(multiplier):\n",
    "            new_riders.append(num_riders[i] + j * increment)\n",
    "        multiplied_riders = multiplied_riders + new_riders\n",
    "    multiplied_riders.append(num_riders[-1]) # Add last val\n",
    "    return multiplied_riders"
   ]
  },
  {
   "cell_type": "code",
   "execution_count": 814,
   "metadata": {},
   "outputs": [],
   "source": [
    "multiplier = 1\n",
    "df_x2 = df[['date', 'had_ride', 'num_riders']].dropna()\n",
    "new_num_riders = more_plots(list(df_x2['num_riders']),multiplier)\n",
    "new_date = more_plots(list(df_x2['date']),multiplier)\n",
    "df_x2 = pd.DataFrame(np.repeat(df_x2.values, multiplier, axis=0)).iloc[:(multiplier-1)*-1] # Drop duplicated last row\n",
    "df_x2['num_riders'] = new_num_riders\n",
    "df_x2['date'] = new_date\n",
    "df_x2 = df_x2.rename(columns={1:\"had_ride\"})\n"
   ]
  },
  {
   "cell_type": "code",
   "execution_count": 836,
   "metadata": {},
   "outputs": [
    {
     "data": {
      "text/html": [
       "<div>                            <div id=\"eac3d68c-1f1a-4d30-b19a-dc7ecb575760\" class=\"plotly-graph-div\" style=\"height:400px; width:450px;\"></div>            <script type=\"text/javascript\">                require([\"plotly\"], function(Plotly) {                    window.PLOTLYENV=window.PLOTLYENV || {};                                    if (document.getElementById(\"eac3d68c-1f1a-4d30-b19a-dc7ecb575760\")) {                    Plotly.newPlot(                        \"eac3d68c-1f1a-4d30-b19a-dc7ecb575760\",                        [{\"connectgaps\":true,\"hovertemplate\":\"frame=0\\u003cbr\\u003edate=%{x}\\u003cbr\\u003enum_riders=%{y}\\u003cextra\\u003e\\u003c\\u002fextra\\u003e\",\"legendgroup\":\"\",\"line\":{\"color\":\"#BF3200\",\"dash\":\"solid\",\"width\":5},\"marker\":{\"symbol\":\"circle\",\"size\":20},\"mode\":\"lines\",\"name\":\"\",\"orientation\":\"v\",\"showlegend\":false,\"x\":[\"2024-01-13T00:00:00\"],\"xaxis\":\"x\",\"y\":[13.0],\"yaxis\":\"y\",\"type\":\"scatter\"},{\"hovertemplate\":\"frame=0\\u003cbr\\u003edate=%{x}\\u003cbr\\u003enum_riders=%{y}\\u003cextra\\u003e\\u003c\\u002fextra\\u003e\",\"legendgroup\":\"\",\"marker\":{\"color\":\"#BF3200\",\"symbol\":\"circle\",\"size\":20},\"mode\":\"markers\",\"name\":\"\",\"orientation\":\"v\",\"showlegend\":false,\"x\":[\"2024-01-13T00:00:00\"],\"xaxis\":\"x\",\"y\":[13.0],\"yaxis\":\"y\",\"type\":\"scatter\",\"line\":{\"width\":5}}],                        {\"height\":400,\"legend\":{\"tracegroupgap\":0},\"margin\":{\"t\":50,\"l\":5,\"r\":5,\"b\":5},\"template\":{\"data\":{\"barpolar\":[{\"marker\":{\"line\":{\"color\":\"#E5ECF6\",\"width\":0.5},\"pattern\":{\"fillmode\":\"overlay\",\"size\":10,\"solidity\":0.2}},\"type\":\"barpolar\"}],\"bar\":[{\"error_x\":{\"color\":\"#2a3f5f\"},\"error_y\":{\"color\":\"#2a3f5f\"},\"marker\":{\"line\":{\"color\":\"#E5ECF6\",\"width\":0.5},\"pattern\":{\"fillmode\":\"overlay\",\"size\":10,\"solidity\":0.2}},\"type\":\"bar\"}],\"carpet\":[{\"aaxis\":{\"endlinecolor\":\"#2a3f5f\",\"gridcolor\":\"white\",\"linecolor\":\"white\",\"minorgridcolor\":\"white\",\"startlinecolor\":\"#2a3f5f\"},\"baxis\":{\"endlinecolor\":\"#2a3f5f\",\"gridcolor\":\"white\",\"linecolor\":\"white\",\"minorgridcolor\":\"white\",\"startlinecolor\":\"#2a3f5f\"},\"type\":\"carpet\"}],\"choropleth\":[{\"colorbar\":{\"outlinewidth\":0,\"ticks\":\"\"},\"type\":\"choropleth\"}],\"contourcarpet\":[{\"colorbar\":{\"outlinewidth\":0,\"ticks\":\"\"},\"type\":\"contourcarpet\"}],\"contour\":[{\"colorbar\":{\"outlinewidth\":0,\"ticks\":\"\"},\"colorscale\":[[0.0,\"#0d0887\"],[0.1111111111111111,\"#46039f\"],[0.2222222222222222,\"#7201a8\"],[0.3333333333333333,\"#9c179e\"],[0.4444444444444444,\"#bd3786\"],[0.5555555555555556,\"#d8576b\"],[0.6666666666666666,\"#ed7953\"],[0.7777777777777778,\"#fb9f3a\"],[0.8888888888888888,\"#fdca26\"],[1.0,\"#f0f921\"]],\"type\":\"contour\"}],\"heatmapgl\":[{\"colorbar\":{\"outlinewidth\":0,\"ticks\":\"\"},\"colorscale\":[[0.0,\"#0d0887\"],[0.1111111111111111,\"#46039f\"],[0.2222222222222222,\"#7201a8\"],[0.3333333333333333,\"#9c179e\"],[0.4444444444444444,\"#bd3786\"],[0.5555555555555556,\"#d8576b\"],[0.6666666666666666,\"#ed7953\"],[0.7777777777777778,\"#fb9f3a\"],[0.8888888888888888,\"#fdca26\"],[1.0,\"#f0f921\"]],\"type\":\"heatmapgl\"}],\"heatmap\":[{\"colorbar\":{\"outlinewidth\":0,\"ticks\":\"\"},\"colorscale\":[[0.0,\"#0d0887\"],[0.1111111111111111,\"#46039f\"],[0.2222222222222222,\"#7201a8\"],[0.3333333333333333,\"#9c179e\"],[0.4444444444444444,\"#bd3786\"],[0.5555555555555556,\"#d8576b\"],[0.6666666666666666,\"#ed7953\"],[0.7777777777777778,\"#fb9f3a\"],[0.8888888888888888,\"#fdca26\"],[1.0,\"#f0f921\"]],\"type\":\"heatmap\"}],\"histogram2dcontour\":[{\"colorbar\":{\"outlinewidth\":0,\"ticks\":\"\"},\"colorscale\":[[0.0,\"#0d0887\"],[0.1111111111111111,\"#46039f\"],[0.2222222222222222,\"#7201a8\"],[0.3333333333333333,\"#9c179e\"],[0.4444444444444444,\"#bd3786\"],[0.5555555555555556,\"#d8576b\"],[0.6666666666666666,\"#ed7953\"],[0.7777777777777778,\"#fb9f3a\"],[0.8888888888888888,\"#fdca26\"],[1.0,\"#f0f921\"]],\"type\":\"histogram2dcontour\"}],\"histogram2d\":[{\"colorbar\":{\"outlinewidth\":0,\"ticks\":\"\"},\"colorscale\":[[0.0,\"#0d0887\"],[0.1111111111111111,\"#46039f\"],[0.2222222222222222,\"#7201a8\"],[0.3333333333333333,\"#9c179e\"],[0.4444444444444444,\"#bd3786\"],[0.5555555555555556,\"#d8576b\"],[0.6666666666666666,\"#ed7953\"],[0.7777777777777778,\"#fb9f3a\"],[0.8888888888888888,\"#fdca26\"],[1.0,\"#f0f921\"]],\"type\":\"histogram2d\"}],\"histogram\":[{\"marker\":{\"pattern\":{\"fillmode\":\"overlay\",\"size\":10,\"solidity\":0.2}},\"type\":\"histogram\"}],\"mesh3d\":[{\"colorbar\":{\"outlinewidth\":0,\"ticks\":\"\"},\"type\":\"mesh3d\"}],\"parcoords\":[{\"line\":{\"colorbar\":{\"outlinewidth\":0,\"ticks\":\"\"}},\"type\":\"parcoords\"}],\"pie\":[{\"automargin\":true,\"type\":\"pie\"}],\"scatter3d\":[{\"line\":{\"colorbar\":{\"outlinewidth\":0,\"ticks\":\"\"}},\"marker\":{\"colorbar\":{\"outlinewidth\":0,\"ticks\":\"\"}},\"type\":\"scatter3d\"}],\"scattercarpet\":[{\"marker\":{\"colorbar\":{\"outlinewidth\":0,\"ticks\":\"\"}},\"type\":\"scattercarpet\"}],\"scattergeo\":[{\"marker\":{\"colorbar\":{\"outlinewidth\":0,\"ticks\":\"\"}},\"type\":\"scattergeo\"}],\"scattergl\":[{\"marker\":{\"colorbar\":{\"outlinewidth\":0,\"ticks\":\"\"}},\"type\":\"scattergl\"}],\"scattermapbox\":[{\"marker\":{\"colorbar\":{\"outlinewidth\":0,\"ticks\":\"\"}},\"type\":\"scattermapbox\"}],\"scatterpolargl\":[{\"marker\":{\"colorbar\":{\"outlinewidth\":0,\"ticks\":\"\"}},\"type\":\"scatterpolargl\"}],\"scatterpolar\":[{\"marker\":{\"colorbar\":{\"outlinewidth\":0,\"ticks\":\"\"}},\"type\":\"scatterpolar\"}],\"scatter\":[{\"fillpattern\":{\"fillmode\":\"overlay\",\"size\":10,\"solidity\":0.2},\"type\":\"scatter\"}],\"scatterternary\":[{\"marker\":{\"colorbar\":{\"outlinewidth\":0,\"ticks\":\"\"}},\"type\":\"scatterternary\"}],\"surface\":[{\"colorbar\":{\"outlinewidth\":0,\"ticks\":\"\"},\"colorscale\":[[0.0,\"#0d0887\"],[0.1111111111111111,\"#46039f\"],[0.2222222222222222,\"#7201a8\"],[0.3333333333333333,\"#9c179e\"],[0.4444444444444444,\"#bd3786\"],[0.5555555555555556,\"#d8576b\"],[0.6666666666666666,\"#ed7953\"],[0.7777777777777778,\"#fb9f3a\"],[0.8888888888888888,\"#fdca26\"],[1.0,\"#f0f921\"]],\"type\":\"surface\"}],\"table\":[{\"cells\":{\"fill\":{\"color\":\"#EBF0F8\"},\"line\":{\"color\":\"white\"}},\"header\":{\"fill\":{\"color\":\"#C8D4E3\"},\"line\":{\"color\":\"white\"}},\"type\":\"table\"}]},\"layout\":{\"annotationdefaults\":{\"arrowcolor\":\"#2a3f5f\",\"arrowhead\":0,\"arrowwidth\":1},\"autotypenumbers\":\"strict\",\"coloraxis\":{\"colorbar\":{\"outlinewidth\":0,\"ticks\":\"\"}},\"colorscale\":{\"diverging\":[[0,\"#8e0152\"],[0.1,\"#c51b7d\"],[0.2,\"#de77ae\"],[0.3,\"#f1b6da\"],[0.4,\"#fde0ef\"],[0.5,\"#f7f7f7\"],[0.6,\"#e6f5d0\"],[0.7,\"#b8e186\"],[0.8,\"#7fbc41\"],[0.9,\"#4d9221\"],[1,\"#276419\"]],\"sequential\":[[0.0,\"#0d0887\"],[0.1111111111111111,\"#46039f\"],[0.2222222222222222,\"#7201a8\"],[0.3333333333333333,\"#9c179e\"],[0.4444444444444444,\"#bd3786\"],[0.5555555555555556,\"#d8576b\"],[0.6666666666666666,\"#ed7953\"],[0.7777777777777778,\"#fb9f3a\"],[0.8888888888888888,\"#fdca26\"],[1.0,\"#f0f921\"]],\"sequentialminus\":[[0.0,\"#0d0887\"],[0.1111111111111111,\"#46039f\"],[0.2222222222222222,\"#7201a8\"],[0.3333333333333333,\"#9c179e\"],[0.4444444444444444,\"#bd3786\"],[0.5555555555555556,\"#d8576b\"],[0.6666666666666666,\"#ed7953\"],[0.7777777777777778,\"#fb9f3a\"],[0.8888888888888888,\"#fdca26\"],[1.0,\"#f0f921\"]]},\"colorway\":[\"#636efa\",\"#EF553B\",\"#00cc96\",\"#ab63fa\",\"#FFA15A\",\"#19d3f3\",\"#FF6692\",\"#B6E880\",\"#FF97FF\",\"#FECB52\"],\"font\":{\"color\":\"#2a3f5f\"},\"geo\":{\"bgcolor\":\"white\",\"lakecolor\":\"white\",\"landcolor\":\"#E5ECF6\",\"showlakes\":true,\"showland\":true,\"subunitcolor\":\"white\"},\"hoverlabel\":{\"align\":\"left\"},\"hovermode\":\"closest\",\"mapbox\":{\"style\":\"light\"},\"paper_bgcolor\":\"white\",\"plot_bgcolor\":\"#E5ECF6\",\"polar\":{\"angularaxis\":{\"gridcolor\":\"white\",\"linecolor\":\"white\",\"ticks\":\"\"},\"bgcolor\":\"#E5ECF6\",\"radialaxis\":{\"gridcolor\":\"white\",\"linecolor\":\"white\",\"ticks\":\"\"}},\"scene\":{\"xaxis\":{\"backgroundcolor\":\"#E5ECF6\",\"gridcolor\":\"white\",\"gridwidth\":2,\"linecolor\":\"white\",\"showbackground\":true,\"ticks\":\"\",\"zerolinecolor\":\"white\"},\"yaxis\":{\"backgroundcolor\":\"#E5ECF6\",\"gridcolor\":\"white\",\"gridwidth\":2,\"linecolor\":\"white\",\"showbackground\":true,\"ticks\":\"\",\"zerolinecolor\":\"white\"},\"zaxis\":{\"backgroundcolor\":\"#E5ECF6\",\"gridcolor\":\"white\",\"gridwidth\":2,\"linecolor\":\"white\",\"showbackground\":true,\"ticks\":\"\",\"zerolinecolor\":\"white\"}},\"shapedefaults\":{\"line\":{\"color\":\"#2a3f5f\"}},\"ternary\":{\"aaxis\":{\"gridcolor\":\"white\",\"linecolor\":\"white\",\"ticks\":\"\"},\"baxis\":{\"gridcolor\":\"white\",\"linecolor\":\"white\",\"ticks\":\"\"},\"bgcolor\":\"#E5ECF6\",\"caxis\":{\"gridcolor\":\"white\",\"linecolor\":\"white\",\"ticks\":\"\"}},\"title\":{\"x\":0.05},\"xaxis\":{\"automargin\":true,\"gridcolor\":\"white\",\"linecolor\":\"white\",\"ticks\":\"\",\"title\":{\"standoff\":15},\"zerolinecolor\":\"white\",\"zerolinewidth\":2},\"yaxis\":{\"automargin\":true,\"gridcolor\":\"white\",\"linecolor\":\"white\",\"ticks\":\"\",\"title\":{\"standoff\":15},\"zerolinecolor\":\"white\",\"zerolinewidth\":2}}},\"updatemenus\":[{\"buttons\":[{\"args\":[null,{\"frame\":{\"duration\":150,\"redraw\":false},\"mode\":\"immediate\",\"fromcurrent\":true,\"transition\":{\"duration\":20,\"easing\":\"linear\",\"redraw\":false}}],\"label\":\"&#9654;\",\"method\":\"animate\"},{\"args\":[[null],{\"frame\":{\"duration\":0,\"redraw\":false},\"mode\":\"immediate\",\"fromcurrent\":true,\"transition\":{\"duration\":0,\"easing\":\"linear\"}}],\"label\":\"&#9724;\",\"method\":\"animate\"}],\"direction\":\"left\",\"pad\":{\"r\":10,\"t\":70},\"showactive\":false,\"type\":\"buttons\",\"x\":0.1,\"xanchor\":\"right\",\"y\":0,\"yanchor\":\"top\"}],\"width\":450,\"xaxis\":{\"anchor\":\"y\",\"domain\":[0.0,1.0],\"title\":{\"text\":\"Number of Riders\"},\"fixedrange\":false,\"dtick\":\"M1\",\"tickformat\":\"%b\",\"range\":[\"2024-01-01T00:00:00\",\"2024-12-31T00:00:00\"],\"gridcolor\":\"silver\"},\"yaxis\":{\"anchor\":\"x\",\"domain\":[0.0,1.0],\"title\":{},\"dtick\":\"2\",\"range\":[0,20],\"gridcolor\":\"silver\"},\"plot_bgcolor\":\"#fffcf7\",\"paper_bgcolor\":\"#fffcf7\"},                        {\"responsive\": true}                    ).then(function(){\n",
       "                            Plotly.addFrames('eac3d68c-1f1a-4d30-b19a-dc7ecb575760', [{\"data\":[{\"hovertemplate\":\"frame=0\\u003cbr\\u003edate=%{x}\\u003cbr\\u003enum_riders=%{y}\\u003cextra\\u003e\\u003c\\u002fextra\\u003e\",\"legendgroup\":\"\",\"line\":{\"color\":\"#BF3200\",\"dash\":\"solid\"},\"marker\":{\"symbol\":\"circle\"},\"mode\":\"lines\",\"name\":\"\",\"opacity\":0.8,\"orientation\":\"v\",\"showlegend\":false,\"x\":[\"2024-01-13T00:00:00\"],\"xaxis\":\"x\",\"y\":[13.0],\"yaxis\":\"y\",\"type\":\"scatter\"},{\"hovertemplate\":\"frame=0\\u003cbr\\u003edate=%{x}\\u003cbr\\u003enum_riders=%{y}\\u003cextra\\u003e\\u003c\\u002fextra\\u003e\",\"legendgroup\":\"\",\"marker\":{\"color\":\"#BF3200\",\"symbol\":\"circle\"},\"mode\":\"markers\",\"name\":\"\",\"opacity\":1,\"orientation\":\"v\",\"showlegend\":true,\"x\":[\"2024-01-13T00:00:00\"],\"xaxis\":\"x\",\"y\":[13.0],\"yaxis\":\"y\",\"type\":\"scatter\"}],\"name\":\"0\"},{\"data\":[{\"hovertemplate\":\"frame=1\\u003cbr\\u003edate=%{x}\\u003cbr\\u003enum_riders=%{y}\\u003cextra\\u003e\\u003c\\u002fextra\\u003e\",\"legendgroup\":\"\",\"line\":{\"color\":\"#BF3200\",\"dash\":\"solid\"},\"marker\":{\"symbol\":\"circle\"},\"mode\":\"lines\",\"name\":\"\",\"opacity\":0.8,\"orientation\":\"v\",\"showlegend\":false,\"x\":[\"2024-01-13T00:00:00\",\"2024-01-27T00:00:00\"],\"xaxis\":\"x\",\"y\":[13.0,14.0],\"yaxis\":\"y\",\"type\":\"scatter\"},{\"hovertemplate\":\"frame=1\\u003cbr\\u003edate=%{x}\\u003cbr\\u003enum_riders=%{y}\\u003cextra\\u003e\\u003c\\u002fextra\\u003e\",\"legendgroup\":\"\",\"marker\":{\"color\":\"#BF3200\",\"symbol\":\"circle\"},\"mode\":\"markers\",\"name\":\"\",\"opacity\":1,\"orientation\":\"v\",\"showlegend\":true,\"x\":[\"2024-01-27T00:00:00\"],\"xaxis\":\"x\",\"y\":[14.0],\"yaxis\":\"y\",\"type\":\"scatter\"}],\"name\":\"1\"},{\"data\":[{\"hovertemplate\":\"frame=2\\u003cbr\\u003edate=%{x}\\u003cbr\\u003enum_riders=%{y}\\u003cextra\\u003e\\u003c\\u002fextra\\u003e\",\"legendgroup\":\"\",\"line\":{\"color\":\"#BF3200\",\"dash\":\"solid\"},\"marker\":{\"symbol\":\"circle\"},\"mode\":\"lines\",\"name\":\"\",\"opacity\":0.8,\"orientation\":\"v\",\"showlegend\":false,\"x\":[\"2024-01-13T00:00:00\",\"2024-01-27T00:00:00\",\"2024-02-03T00:00:00\"],\"xaxis\":\"x\",\"y\":[13.0,14.0,16.0],\"yaxis\":\"y\",\"type\":\"scatter\"},{\"hovertemplate\":\"frame=2\\u003cbr\\u003edate=%{x}\\u003cbr\\u003enum_riders=%{y}\\u003cextra\\u003e\\u003c\\u002fextra\\u003e\",\"legendgroup\":\"\",\"marker\":{\"color\":\"#BF3200\",\"symbol\":\"circle\"},\"mode\":\"markers\",\"name\":\"\",\"opacity\":1,\"orientation\":\"v\",\"showlegend\":true,\"x\":[\"2024-02-03T00:00:00\"],\"xaxis\":\"x\",\"y\":[16.0],\"yaxis\":\"y\",\"type\":\"scatter\"}],\"name\":\"2\"},{\"data\":[{\"hovertemplate\":\"frame=3\\u003cbr\\u003edate=%{x}\\u003cbr\\u003enum_riders=%{y}\\u003cextra\\u003e\\u003c\\u002fextra\\u003e\",\"legendgroup\":\"\",\"line\":{\"color\":\"#BF3200\",\"dash\":\"solid\"},\"marker\":{\"symbol\":\"circle\"},\"mode\":\"lines\",\"name\":\"\",\"opacity\":0.8,\"orientation\":\"v\",\"showlegend\":false,\"x\":[\"2024-01-13T00:00:00\",\"2024-01-27T00:00:00\",\"2024-02-03T00:00:00\",\"2024-02-10T00:00:00\"],\"xaxis\":\"x\",\"y\":[13.0,14.0,16.0,12.0],\"yaxis\":\"y\",\"type\":\"scatter\"},{\"hovertemplate\":\"frame=3\\u003cbr\\u003edate=%{x}\\u003cbr\\u003enum_riders=%{y}\\u003cextra\\u003e\\u003c\\u002fextra\\u003e\",\"legendgroup\":\"\",\"marker\":{\"color\":\"#BF3200\",\"symbol\":\"circle\"},\"mode\":\"markers\",\"name\":\"\",\"opacity\":1,\"orientation\":\"v\",\"showlegend\":true,\"x\":[\"2024-02-10T00:00:00\"],\"xaxis\":\"x\",\"y\":[12.0],\"yaxis\":\"y\",\"type\":\"scatter\"}],\"name\":\"3\"},{\"data\":[{\"hovertemplate\":\"frame=4\\u003cbr\\u003edate=%{x}\\u003cbr\\u003enum_riders=%{y}\\u003cextra\\u003e\\u003c\\u002fextra\\u003e\",\"legendgroup\":\"\",\"line\":{\"color\":\"#BF3200\",\"dash\":\"solid\"},\"marker\":{\"symbol\":\"circle\"},\"mode\":\"lines\",\"name\":\"\",\"opacity\":0.8,\"orientation\":\"v\",\"showlegend\":false,\"x\":[\"2024-01-13T00:00:00\",\"2024-01-27T00:00:00\",\"2024-02-03T00:00:00\",\"2024-02-10T00:00:00\",\"2024-02-24T00:00:00\"],\"xaxis\":\"x\",\"y\":[13.0,14.0,16.0,12.0,7.0],\"yaxis\":\"y\",\"type\":\"scatter\"},{\"hovertemplate\":\"frame=4\\u003cbr\\u003edate=%{x}\\u003cbr\\u003enum_riders=%{y}\\u003cextra\\u003e\\u003c\\u002fextra\\u003e\",\"legendgroup\":\"\",\"marker\":{\"color\":\"#BF3200\",\"symbol\":\"circle\"},\"mode\":\"markers\",\"name\":\"\",\"opacity\":1,\"orientation\":\"v\",\"showlegend\":true,\"x\":[\"2024-02-24T00:00:00\"],\"xaxis\":\"x\",\"y\":[7.0],\"yaxis\":\"y\",\"type\":\"scatter\"}],\"name\":\"4\"},{\"data\":[{\"hovertemplate\":\"frame=5\\u003cbr\\u003edate=%{x}\\u003cbr\\u003enum_riders=%{y}\\u003cextra\\u003e\\u003c\\u002fextra\\u003e\",\"legendgroup\":\"\",\"line\":{\"color\":\"#BF3200\",\"dash\":\"solid\"},\"marker\":{\"symbol\":\"circle\"},\"mode\":\"lines\",\"name\":\"\",\"opacity\":0.8,\"orientation\":\"v\",\"showlegend\":false,\"x\":[\"2024-01-13T00:00:00\",\"2024-01-27T00:00:00\",\"2024-02-03T00:00:00\",\"2024-02-10T00:00:00\",\"2024-02-24T00:00:00\",\"2024-03-16T00:00:00\"],\"xaxis\":\"x\",\"y\":[13.0,14.0,16.0,12.0,7.0,7.0],\"yaxis\":\"y\",\"type\":\"scatter\"},{\"hovertemplate\":\"frame=5\\u003cbr\\u003edate=%{x}\\u003cbr\\u003enum_riders=%{y}\\u003cextra\\u003e\\u003c\\u002fextra\\u003e\",\"legendgroup\":\"\",\"marker\":{\"color\":\"#BF3200\",\"symbol\":\"circle\"},\"mode\":\"markers\",\"name\":\"\",\"opacity\":1,\"orientation\":\"v\",\"showlegend\":true,\"x\":[\"2024-03-16T00:00:00\"],\"xaxis\":\"x\",\"y\":[7.0],\"yaxis\":\"y\",\"type\":\"scatter\"}],\"name\":\"5\"},{\"data\":[{\"hovertemplate\":\"frame=6\\u003cbr\\u003edate=%{x}\\u003cbr\\u003enum_riders=%{y}\\u003cextra\\u003e\\u003c\\u002fextra\\u003e\",\"legendgroup\":\"\",\"line\":{\"color\":\"#BF3200\",\"dash\":\"solid\"},\"marker\":{\"symbol\":\"circle\"},\"mode\":\"lines\",\"name\":\"\",\"opacity\":0.8,\"orientation\":\"v\",\"showlegend\":false,\"x\":[\"2024-01-13T00:00:00\",\"2024-01-27T00:00:00\",\"2024-02-03T00:00:00\",\"2024-02-10T00:00:00\",\"2024-02-24T00:00:00\",\"2024-03-16T00:00:00\",\"2024-03-23T00:00:00\"],\"xaxis\":\"x\",\"y\":[13.0,14.0,16.0,12.0,7.0,7.0,7.0],\"yaxis\":\"y\",\"type\":\"scatter\"},{\"hovertemplate\":\"frame=6\\u003cbr\\u003edate=%{x}\\u003cbr\\u003enum_riders=%{y}\\u003cextra\\u003e\\u003c\\u002fextra\\u003e\",\"legendgroup\":\"\",\"marker\":{\"color\":\"#BF3200\",\"symbol\":\"circle\"},\"mode\":\"markers\",\"name\":\"\",\"opacity\":1,\"orientation\":\"v\",\"showlegend\":true,\"x\":[\"2024-03-23T00:00:00\"],\"xaxis\":\"x\",\"y\":[7.0],\"yaxis\":\"y\",\"type\":\"scatter\"}],\"name\":\"6\"},{\"data\":[{\"hovertemplate\":\"frame=7\\u003cbr\\u003edate=%{x}\\u003cbr\\u003enum_riders=%{y}\\u003cextra\\u003e\\u003c\\u002fextra\\u003e\",\"legendgroup\":\"\",\"line\":{\"color\":\"#BF3200\",\"dash\":\"solid\"},\"marker\":{\"symbol\":\"circle\"},\"mode\":\"lines\",\"name\":\"\",\"opacity\":0.8,\"orientation\":\"v\",\"showlegend\":false,\"x\":[\"2024-01-13T00:00:00\",\"2024-01-27T00:00:00\",\"2024-02-03T00:00:00\",\"2024-02-10T00:00:00\",\"2024-02-24T00:00:00\",\"2024-03-16T00:00:00\",\"2024-03-23T00:00:00\",\"2024-04-06T00:00:00\"],\"xaxis\":\"x\",\"y\":[13.0,14.0,16.0,12.0,7.0,7.0,7.0,6.0],\"yaxis\":\"y\",\"type\":\"scatter\"},{\"hovertemplate\":\"frame=7\\u003cbr\\u003edate=%{x}\\u003cbr\\u003enum_riders=%{y}\\u003cextra\\u003e\\u003c\\u002fextra\\u003e\",\"legendgroup\":\"\",\"marker\":{\"color\":\"#BF3200\",\"symbol\":\"circle\"},\"mode\":\"markers\",\"name\":\"\",\"opacity\":1,\"orientation\":\"v\",\"showlegend\":true,\"x\":[\"2024-04-06T00:00:00\"],\"xaxis\":\"x\",\"y\":[6.0],\"yaxis\":\"y\",\"type\":\"scatter\"}],\"name\":\"7\"},{\"data\":[{\"hovertemplate\":\"frame=8\\u003cbr\\u003edate=%{x}\\u003cbr\\u003enum_riders=%{y}\\u003cextra\\u003e\\u003c\\u002fextra\\u003e\",\"legendgroup\":\"\",\"line\":{\"color\":\"#BF3200\",\"dash\":\"solid\"},\"marker\":{\"symbol\":\"circle\"},\"mode\":\"lines\",\"name\":\"\",\"opacity\":0.8,\"orientation\":\"v\",\"showlegend\":false,\"x\":[\"2024-01-13T00:00:00\",\"2024-01-27T00:00:00\",\"2024-02-03T00:00:00\",\"2024-02-10T00:00:00\",\"2024-02-24T00:00:00\",\"2024-03-16T00:00:00\",\"2024-03-23T00:00:00\",\"2024-04-06T00:00:00\",\"2024-04-13T00:00:00\"],\"xaxis\":\"x\",\"y\":[13.0,14.0,16.0,12.0,7.0,7.0,7.0,6.0,9.0],\"yaxis\":\"y\",\"type\":\"scatter\"},{\"hovertemplate\":\"frame=8\\u003cbr\\u003edate=%{x}\\u003cbr\\u003enum_riders=%{y}\\u003cextra\\u003e\\u003c\\u002fextra\\u003e\",\"legendgroup\":\"\",\"marker\":{\"color\":\"#BF3200\",\"symbol\":\"circle\"},\"mode\":\"markers\",\"name\":\"\",\"opacity\":1,\"orientation\":\"v\",\"showlegend\":true,\"x\":[\"2024-04-13T00:00:00\"],\"xaxis\":\"x\",\"y\":[9.0],\"yaxis\":\"y\",\"type\":\"scatter\"}],\"name\":\"8\"},{\"data\":[{\"hovertemplate\":\"frame=9\\u003cbr\\u003edate=%{x}\\u003cbr\\u003enum_riders=%{y}\\u003cextra\\u003e\\u003c\\u002fextra\\u003e\",\"legendgroup\":\"\",\"line\":{\"color\":\"#BF3200\",\"dash\":\"solid\"},\"marker\":{\"symbol\":\"circle\"},\"mode\":\"lines\",\"name\":\"\",\"opacity\":0.8,\"orientation\":\"v\",\"showlegend\":false,\"x\":[\"2024-01-13T00:00:00\",\"2024-01-27T00:00:00\",\"2024-02-03T00:00:00\",\"2024-02-10T00:00:00\",\"2024-02-24T00:00:00\",\"2024-03-16T00:00:00\",\"2024-03-23T00:00:00\",\"2024-04-06T00:00:00\",\"2024-04-13T00:00:00\",\"2024-04-20T00:00:00\"],\"xaxis\":\"x\",\"y\":[13.0,14.0,16.0,12.0,7.0,7.0,7.0,6.0,9.0,10.0],\"yaxis\":\"y\",\"type\":\"scatter\"},{\"hovertemplate\":\"frame=9\\u003cbr\\u003edate=%{x}\\u003cbr\\u003enum_riders=%{y}\\u003cextra\\u003e\\u003c\\u002fextra\\u003e\",\"legendgroup\":\"\",\"marker\":{\"color\":\"#BF3200\",\"symbol\":\"circle\"},\"mode\":\"markers\",\"name\":\"\",\"opacity\":1,\"orientation\":\"v\",\"showlegend\":true,\"x\":[\"2024-04-20T00:00:00\"],\"xaxis\":\"x\",\"y\":[10.0],\"yaxis\":\"y\",\"type\":\"scatter\"}],\"name\":\"9\"},{\"data\":[{\"hovertemplate\":\"frame=10\\u003cbr\\u003edate=%{x}\\u003cbr\\u003enum_riders=%{y}\\u003cextra\\u003e\\u003c\\u002fextra\\u003e\",\"legendgroup\":\"\",\"line\":{\"color\":\"#BF3200\",\"dash\":\"solid\"},\"marker\":{\"symbol\":\"circle\"},\"mode\":\"lines\",\"name\":\"\",\"opacity\":0.8,\"orientation\":\"v\",\"showlegend\":false,\"x\":[\"2024-01-13T00:00:00\",\"2024-01-27T00:00:00\",\"2024-02-03T00:00:00\",\"2024-02-10T00:00:00\",\"2024-02-24T00:00:00\",\"2024-03-16T00:00:00\",\"2024-03-23T00:00:00\",\"2024-04-06T00:00:00\",\"2024-04-13T00:00:00\",\"2024-04-20T00:00:00\",\"2024-05-11T00:00:00\"],\"xaxis\":\"x\",\"y\":[13.0,14.0,16.0,12.0,7.0,7.0,7.0,6.0,9.0,10.0,9.0],\"yaxis\":\"y\",\"type\":\"scatter\"},{\"hovertemplate\":\"frame=10\\u003cbr\\u003edate=%{x}\\u003cbr\\u003enum_riders=%{y}\\u003cextra\\u003e\\u003c\\u002fextra\\u003e\",\"legendgroup\":\"\",\"marker\":{\"color\":\"#BF3200\",\"symbol\":\"circle\"},\"mode\":\"markers\",\"name\":\"\",\"opacity\":1,\"orientation\":\"v\",\"showlegend\":true,\"x\":[\"2024-05-11T00:00:00\"],\"xaxis\":\"x\",\"y\":[9.0],\"yaxis\":\"y\",\"type\":\"scatter\"}],\"name\":\"10\"},{\"data\":[{\"hovertemplate\":\"frame=11\\u003cbr\\u003edate=%{x}\\u003cbr\\u003enum_riders=%{y}\\u003cextra\\u003e\\u003c\\u002fextra\\u003e\",\"legendgroup\":\"\",\"line\":{\"color\":\"#BF3200\",\"dash\":\"solid\"},\"marker\":{\"symbol\":\"circle\"},\"mode\":\"lines\",\"name\":\"\",\"opacity\":0.8,\"orientation\":\"v\",\"showlegend\":false,\"x\":[\"2024-01-13T00:00:00\",\"2024-01-27T00:00:00\",\"2024-02-03T00:00:00\",\"2024-02-10T00:00:00\",\"2024-02-24T00:00:00\",\"2024-03-16T00:00:00\",\"2024-03-23T00:00:00\",\"2024-04-06T00:00:00\",\"2024-04-13T00:00:00\",\"2024-04-20T00:00:00\",\"2024-05-11T00:00:00\",\"2024-05-25T00:00:00\"],\"xaxis\":\"x\",\"y\":[13.0,14.0,16.0,12.0,7.0,7.0,7.0,6.0,9.0,10.0,9.0,18.0],\"yaxis\":\"y\",\"type\":\"scatter\"},{\"hovertemplate\":\"frame=11\\u003cbr\\u003edate=%{x}\\u003cbr\\u003enum_riders=%{y}\\u003cextra\\u003e\\u003c\\u002fextra\\u003e\",\"legendgroup\":\"\",\"marker\":{\"color\":\"#BF3200\",\"symbol\":\"circle\"},\"mode\":\"markers\",\"name\":\"\",\"opacity\":1,\"orientation\":\"v\",\"showlegend\":true,\"x\":[\"2024-05-25T00:00:00\"],\"xaxis\":\"x\",\"y\":[18.0],\"yaxis\":\"y\",\"type\":\"scatter\"}],\"name\":\"11\"},{\"data\":[{\"hovertemplate\":\"frame=12\\u003cbr\\u003edate=%{x}\\u003cbr\\u003enum_riders=%{y}\\u003cextra\\u003e\\u003c\\u002fextra\\u003e\",\"legendgroup\":\"\",\"line\":{\"color\":\"#BF3200\",\"dash\":\"solid\"},\"marker\":{\"symbol\":\"circle\"},\"mode\":\"lines\",\"name\":\"\",\"opacity\":0.8,\"orientation\":\"v\",\"showlegend\":false,\"x\":[\"2024-01-13T00:00:00\",\"2024-01-27T00:00:00\",\"2024-02-03T00:00:00\",\"2024-02-10T00:00:00\",\"2024-02-24T00:00:00\",\"2024-03-16T00:00:00\",\"2024-03-23T00:00:00\",\"2024-04-06T00:00:00\",\"2024-04-13T00:00:00\",\"2024-04-20T00:00:00\",\"2024-05-11T00:00:00\",\"2024-05-25T00:00:00\",\"2024-06-01T00:00:00\"],\"xaxis\":\"x\",\"y\":[13.0,14.0,16.0,12.0,7.0,7.0,7.0,6.0,9.0,10.0,9.0,18.0,10.0],\"yaxis\":\"y\",\"type\":\"scatter\"},{\"hovertemplate\":\"frame=12\\u003cbr\\u003edate=%{x}\\u003cbr\\u003enum_riders=%{y}\\u003cextra\\u003e\\u003c\\u002fextra\\u003e\",\"legendgroup\":\"\",\"marker\":{\"color\":\"#BF3200\",\"symbol\":\"circle\"},\"mode\":\"markers\",\"name\":\"\",\"opacity\":1,\"orientation\":\"v\",\"showlegend\":true,\"x\":[\"2024-06-01T00:00:00\"],\"xaxis\":\"x\",\"y\":[10.0],\"yaxis\":\"y\",\"type\":\"scatter\"}],\"name\":\"12\"},{\"data\":[{\"hovertemplate\":\"frame=13\\u003cbr\\u003edate=%{x}\\u003cbr\\u003enum_riders=%{y}\\u003cextra\\u003e\\u003c\\u002fextra\\u003e\",\"legendgroup\":\"\",\"line\":{\"color\":\"#BF3200\",\"dash\":\"solid\"},\"marker\":{\"symbol\":\"circle\"},\"mode\":\"lines\",\"name\":\"\",\"opacity\":0.8,\"orientation\":\"v\",\"showlegend\":false,\"x\":[\"2024-01-13T00:00:00\",\"2024-01-27T00:00:00\",\"2024-02-03T00:00:00\",\"2024-02-10T00:00:00\",\"2024-02-24T00:00:00\",\"2024-03-16T00:00:00\",\"2024-03-23T00:00:00\",\"2024-04-06T00:00:00\",\"2024-04-13T00:00:00\",\"2024-04-20T00:00:00\",\"2024-05-11T00:00:00\",\"2024-05-25T00:00:00\",\"2024-06-01T00:00:00\",\"2024-06-08T00:00:00\"],\"xaxis\":\"x\",\"y\":[13.0,14.0,16.0,12.0,7.0,7.0,7.0,6.0,9.0,10.0,9.0,18.0,10.0,6.0],\"yaxis\":\"y\",\"type\":\"scatter\"},{\"hovertemplate\":\"frame=13\\u003cbr\\u003edate=%{x}\\u003cbr\\u003enum_riders=%{y}\\u003cextra\\u003e\\u003c\\u002fextra\\u003e\",\"legendgroup\":\"\",\"marker\":{\"color\":\"#BF3200\",\"symbol\":\"circle\"},\"mode\":\"markers\",\"name\":\"\",\"opacity\":1,\"orientation\":\"v\",\"showlegend\":true,\"x\":[\"2024-06-08T00:00:00\"],\"xaxis\":\"x\",\"y\":[6.0],\"yaxis\":\"y\",\"type\":\"scatter\"}],\"name\":\"13\"},{\"data\":[{\"hovertemplate\":\"frame=14\\u003cbr\\u003edate=%{x}\\u003cbr\\u003enum_riders=%{y}\\u003cextra\\u003e\\u003c\\u002fextra\\u003e\",\"legendgroup\":\"\",\"line\":{\"color\":\"#BF3200\",\"dash\":\"solid\"},\"marker\":{\"symbol\":\"circle\"},\"mode\":\"lines\",\"name\":\"\",\"opacity\":0.8,\"orientation\":\"v\",\"showlegend\":false,\"x\":[\"2024-01-13T00:00:00\",\"2024-01-27T00:00:00\",\"2024-02-03T00:00:00\",\"2024-02-10T00:00:00\",\"2024-02-24T00:00:00\",\"2024-03-16T00:00:00\",\"2024-03-23T00:00:00\",\"2024-04-06T00:00:00\",\"2024-04-13T00:00:00\",\"2024-04-20T00:00:00\",\"2024-05-11T00:00:00\",\"2024-05-25T00:00:00\",\"2024-06-01T00:00:00\",\"2024-06-08T00:00:00\",\"2024-06-15T00:00:00\"],\"xaxis\":\"x\",\"y\":[13.0,14.0,16.0,12.0,7.0,7.0,7.0,6.0,9.0,10.0,9.0,18.0,10.0,6.0,8.0],\"yaxis\":\"y\",\"type\":\"scatter\"},{\"hovertemplate\":\"frame=14\\u003cbr\\u003edate=%{x}\\u003cbr\\u003enum_riders=%{y}\\u003cextra\\u003e\\u003c\\u002fextra\\u003e\",\"legendgroup\":\"\",\"marker\":{\"color\":\"#BF3200\",\"symbol\":\"circle\"},\"mode\":\"markers\",\"name\":\"\",\"opacity\":1,\"orientation\":\"v\",\"showlegend\":true,\"x\":[\"2024-06-15T00:00:00\"],\"xaxis\":\"x\",\"y\":[8.0],\"yaxis\":\"y\",\"type\":\"scatter\"}],\"name\":\"14\"},{\"data\":[{\"hovertemplate\":\"frame=15\\u003cbr\\u003edate=%{x}\\u003cbr\\u003enum_riders=%{y}\\u003cextra\\u003e\\u003c\\u002fextra\\u003e\",\"legendgroup\":\"\",\"line\":{\"color\":\"#BF3200\",\"dash\":\"solid\"},\"marker\":{\"symbol\":\"circle\"},\"mode\":\"lines\",\"name\":\"\",\"opacity\":0.8,\"orientation\":\"v\",\"showlegend\":false,\"x\":[\"2024-01-13T00:00:00\",\"2024-01-27T00:00:00\",\"2024-02-03T00:00:00\",\"2024-02-10T00:00:00\",\"2024-02-24T00:00:00\",\"2024-03-16T00:00:00\",\"2024-03-23T00:00:00\",\"2024-04-06T00:00:00\",\"2024-04-13T00:00:00\",\"2024-04-20T00:00:00\",\"2024-05-11T00:00:00\",\"2024-05-25T00:00:00\",\"2024-06-01T00:00:00\",\"2024-06-08T00:00:00\",\"2024-06-15T00:00:00\",\"2024-06-22T00:00:00\"],\"xaxis\":\"x\",\"y\":[13.0,14.0,16.0,12.0,7.0,7.0,7.0,6.0,9.0,10.0,9.0,18.0,10.0,6.0,8.0,9.0],\"yaxis\":\"y\",\"type\":\"scatter\"},{\"hovertemplate\":\"frame=15\\u003cbr\\u003edate=%{x}\\u003cbr\\u003enum_riders=%{y}\\u003cextra\\u003e\\u003c\\u002fextra\\u003e\",\"legendgroup\":\"\",\"marker\":{\"color\":\"#BF3200\",\"symbol\":\"circle\"},\"mode\":\"markers\",\"name\":\"\",\"opacity\":1,\"orientation\":\"v\",\"showlegend\":true,\"x\":[\"2024-06-22T00:00:00\"],\"xaxis\":\"x\",\"y\":[9.0],\"yaxis\":\"y\",\"type\":\"scatter\"}],\"name\":\"15\"},{\"data\":[{\"hovertemplate\":\"frame=16\\u003cbr\\u003edate=%{x}\\u003cbr\\u003enum_riders=%{y}\\u003cextra\\u003e\\u003c\\u002fextra\\u003e\",\"legendgroup\":\"\",\"line\":{\"color\":\"#BF3200\",\"dash\":\"solid\"},\"marker\":{\"symbol\":\"circle\"},\"mode\":\"lines\",\"name\":\"\",\"opacity\":0.8,\"orientation\":\"v\",\"showlegend\":false,\"x\":[\"2024-01-13T00:00:00\",\"2024-01-27T00:00:00\",\"2024-02-03T00:00:00\",\"2024-02-10T00:00:00\",\"2024-02-24T00:00:00\",\"2024-03-16T00:00:00\",\"2024-03-23T00:00:00\",\"2024-04-06T00:00:00\",\"2024-04-13T00:00:00\",\"2024-04-20T00:00:00\",\"2024-05-11T00:00:00\",\"2024-05-25T00:00:00\",\"2024-06-01T00:00:00\",\"2024-06-08T00:00:00\",\"2024-06-15T00:00:00\",\"2024-06-22T00:00:00\",\"2024-06-29T00:00:00\"],\"xaxis\":\"x\",\"y\":[13.0,14.0,16.0,12.0,7.0,7.0,7.0,6.0,9.0,10.0,9.0,18.0,10.0,6.0,8.0,9.0,3.0],\"yaxis\":\"y\",\"type\":\"scatter\"},{\"hovertemplate\":\"frame=16\\u003cbr\\u003edate=%{x}\\u003cbr\\u003enum_riders=%{y}\\u003cextra\\u003e\\u003c\\u002fextra\\u003e\",\"legendgroup\":\"\",\"marker\":{\"color\":\"#BF3200\",\"symbol\":\"circle\"},\"mode\":\"markers\",\"name\":\"\",\"opacity\":1,\"orientation\":\"v\",\"showlegend\":true,\"x\":[\"2024-06-29T00:00:00\"],\"xaxis\":\"x\",\"y\":[3.0],\"yaxis\":\"y\",\"type\":\"scatter\"}],\"name\":\"16\"},{\"data\":[{\"hovertemplate\":\"frame=17\\u003cbr\\u003edate=%{x}\\u003cbr\\u003enum_riders=%{y}\\u003cextra\\u003e\\u003c\\u002fextra\\u003e\",\"legendgroup\":\"\",\"line\":{\"color\":\"#BF3200\",\"dash\":\"solid\"},\"marker\":{\"symbol\":\"circle\"},\"mode\":\"lines\",\"name\":\"\",\"opacity\":0.8,\"orientation\":\"v\",\"showlegend\":false,\"x\":[\"2024-01-13T00:00:00\",\"2024-01-27T00:00:00\",\"2024-02-03T00:00:00\",\"2024-02-10T00:00:00\",\"2024-02-24T00:00:00\",\"2024-03-16T00:00:00\",\"2024-03-23T00:00:00\",\"2024-04-06T00:00:00\",\"2024-04-13T00:00:00\",\"2024-04-20T00:00:00\",\"2024-05-11T00:00:00\",\"2024-05-25T00:00:00\",\"2024-06-01T00:00:00\",\"2024-06-08T00:00:00\",\"2024-06-15T00:00:00\",\"2024-06-22T00:00:00\",\"2024-06-29T00:00:00\",\"2024-07-06T00:00:00\"],\"xaxis\":\"x\",\"y\":[13.0,14.0,16.0,12.0,7.0,7.0,7.0,6.0,9.0,10.0,9.0,18.0,10.0,6.0,8.0,9.0,3.0,9.0],\"yaxis\":\"y\",\"type\":\"scatter\"},{\"hovertemplate\":\"frame=17\\u003cbr\\u003edate=%{x}\\u003cbr\\u003enum_riders=%{y}\\u003cextra\\u003e\\u003c\\u002fextra\\u003e\",\"legendgroup\":\"\",\"marker\":{\"color\":\"#BF3200\",\"symbol\":\"circle\"},\"mode\":\"markers\",\"name\":\"\",\"opacity\":1,\"orientation\":\"v\",\"showlegend\":true,\"x\":[\"2024-07-06T00:00:00\"],\"xaxis\":\"x\",\"y\":[9.0],\"yaxis\":\"y\",\"type\":\"scatter\"}],\"name\":\"17\"},{\"data\":[{\"hovertemplate\":\"frame=18\\u003cbr\\u003edate=%{x}\\u003cbr\\u003enum_riders=%{y}\\u003cextra\\u003e\\u003c\\u002fextra\\u003e\",\"legendgroup\":\"\",\"line\":{\"color\":\"#BF3200\",\"dash\":\"solid\"},\"marker\":{\"symbol\":\"circle\"},\"mode\":\"lines\",\"name\":\"\",\"opacity\":0.8,\"orientation\":\"v\",\"showlegend\":false,\"x\":[\"2024-01-13T00:00:00\",\"2024-01-27T00:00:00\",\"2024-02-03T00:00:00\",\"2024-02-10T00:00:00\",\"2024-02-24T00:00:00\",\"2024-03-16T00:00:00\",\"2024-03-23T00:00:00\",\"2024-04-06T00:00:00\",\"2024-04-13T00:00:00\",\"2024-04-20T00:00:00\",\"2024-05-11T00:00:00\",\"2024-05-25T00:00:00\",\"2024-06-01T00:00:00\",\"2024-06-08T00:00:00\",\"2024-06-15T00:00:00\",\"2024-06-22T00:00:00\",\"2024-06-29T00:00:00\",\"2024-07-06T00:00:00\",\"2024-07-13T00:00:00\"],\"xaxis\":\"x\",\"y\":[13.0,14.0,16.0,12.0,7.0,7.0,7.0,6.0,9.0,10.0,9.0,18.0,10.0,6.0,8.0,9.0,3.0,9.0,8.0],\"yaxis\":\"y\",\"type\":\"scatter\"},{\"hovertemplate\":\"frame=18\\u003cbr\\u003edate=%{x}\\u003cbr\\u003enum_riders=%{y}\\u003cextra\\u003e\\u003c\\u002fextra\\u003e\",\"legendgroup\":\"\",\"marker\":{\"color\":\"#BF3200\",\"symbol\":\"circle\"},\"mode\":\"markers\",\"name\":\"\",\"opacity\":1,\"orientation\":\"v\",\"showlegend\":true,\"x\":[\"2024-07-13T00:00:00\"],\"xaxis\":\"x\",\"y\":[8.0],\"yaxis\":\"y\",\"type\":\"scatter\"}],\"name\":\"18\"},{\"data\":[{\"hovertemplate\":\"frame=19\\u003cbr\\u003edate=%{x}\\u003cbr\\u003enum_riders=%{y}\\u003cextra\\u003e\\u003c\\u002fextra\\u003e\",\"legendgroup\":\"\",\"line\":{\"color\":\"#BF3200\",\"dash\":\"solid\"},\"marker\":{\"symbol\":\"circle\"},\"mode\":\"lines\",\"name\":\"\",\"opacity\":0.8,\"orientation\":\"v\",\"showlegend\":false,\"x\":[\"2024-01-13T00:00:00\",\"2024-01-27T00:00:00\",\"2024-02-03T00:00:00\",\"2024-02-10T00:00:00\",\"2024-02-24T00:00:00\",\"2024-03-16T00:00:00\",\"2024-03-23T00:00:00\",\"2024-04-06T00:00:00\",\"2024-04-13T00:00:00\",\"2024-04-20T00:00:00\",\"2024-05-11T00:00:00\",\"2024-05-25T00:00:00\",\"2024-06-01T00:00:00\",\"2024-06-08T00:00:00\",\"2024-06-15T00:00:00\",\"2024-06-22T00:00:00\",\"2024-06-29T00:00:00\",\"2024-07-06T00:00:00\",\"2024-07-13T00:00:00\",\"2024-07-27T00:00:00\"],\"xaxis\":\"x\",\"y\":[13.0,14.0,16.0,12.0,7.0,7.0,7.0,6.0,9.0,10.0,9.0,18.0,10.0,6.0,8.0,9.0,3.0,9.0,8.0,6.0],\"yaxis\":\"y\",\"type\":\"scatter\"},{\"hovertemplate\":\"frame=19\\u003cbr\\u003edate=%{x}\\u003cbr\\u003enum_riders=%{y}\\u003cextra\\u003e\\u003c\\u002fextra\\u003e\",\"legendgroup\":\"\",\"marker\":{\"color\":\"#BF3200\",\"symbol\":\"circle\"},\"mode\":\"markers\",\"name\":\"\",\"opacity\":1,\"orientation\":\"v\",\"showlegend\":true,\"x\":[\"2024-07-27T00:00:00\"],\"xaxis\":\"x\",\"y\":[6.0],\"yaxis\":\"y\",\"type\":\"scatter\"}],\"name\":\"19\"},{\"data\":[{\"hovertemplate\":\"frame=20\\u003cbr\\u003edate=%{x}\\u003cbr\\u003enum_riders=%{y}\\u003cextra\\u003e\\u003c\\u002fextra\\u003e\",\"legendgroup\":\"\",\"line\":{\"color\":\"#BF3200\",\"dash\":\"solid\"},\"marker\":{\"symbol\":\"circle\"},\"mode\":\"lines\",\"name\":\"\",\"opacity\":0.8,\"orientation\":\"v\",\"showlegend\":false,\"x\":[\"2024-01-13T00:00:00\",\"2024-01-27T00:00:00\",\"2024-02-03T00:00:00\",\"2024-02-10T00:00:00\",\"2024-02-24T00:00:00\",\"2024-03-16T00:00:00\",\"2024-03-23T00:00:00\",\"2024-04-06T00:00:00\",\"2024-04-13T00:00:00\",\"2024-04-20T00:00:00\",\"2024-05-11T00:00:00\",\"2024-05-25T00:00:00\",\"2024-06-01T00:00:00\",\"2024-06-08T00:00:00\",\"2024-06-15T00:00:00\",\"2024-06-22T00:00:00\",\"2024-06-29T00:00:00\",\"2024-07-06T00:00:00\",\"2024-07-13T00:00:00\",\"2024-07-27T00:00:00\",\"2024-08-03T00:00:00\"],\"xaxis\":\"x\",\"y\":[13.0,14.0,16.0,12.0,7.0,7.0,7.0,6.0,9.0,10.0,9.0,18.0,10.0,6.0,8.0,9.0,3.0,9.0,8.0,6.0,10.0],\"yaxis\":\"y\",\"type\":\"scatter\"},{\"hovertemplate\":\"frame=20\\u003cbr\\u003edate=%{x}\\u003cbr\\u003enum_riders=%{y}\\u003cextra\\u003e\\u003c\\u002fextra\\u003e\",\"legendgroup\":\"\",\"marker\":{\"color\":\"#BF3200\",\"symbol\":\"circle\"},\"mode\":\"markers\",\"name\":\"\",\"opacity\":1,\"orientation\":\"v\",\"showlegend\":true,\"x\":[\"2024-08-03T00:00:00\"],\"xaxis\":\"x\",\"y\":[10.0],\"yaxis\":\"y\",\"type\":\"scatter\"}],\"name\":\"20\"},{\"data\":[{\"hovertemplate\":\"frame=21\\u003cbr\\u003edate=%{x}\\u003cbr\\u003enum_riders=%{y}\\u003cextra\\u003e\\u003c\\u002fextra\\u003e\",\"legendgroup\":\"\",\"line\":{\"color\":\"#BF3200\",\"dash\":\"solid\"},\"marker\":{\"symbol\":\"circle\"},\"mode\":\"lines\",\"name\":\"\",\"opacity\":0.8,\"orientation\":\"v\",\"showlegend\":false,\"x\":[\"2024-01-13T00:00:00\",\"2024-01-27T00:00:00\",\"2024-02-03T00:00:00\",\"2024-02-10T00:00:00\",\"2024-02-24T00:00:00\",\"2024-03-16T00:00:00\",\"2024-03-23T00:00:00\",\"2024-04-06T00:00:00\",\"2024-04-13T00:00:00\",\"2024-04-20T00:00:00\",\"2024-05-11T00:00:00\",\"2024-05-25T00:00:00\",\"2024-06-01T00:00:00\",\"2024-06-08T00:00:00\",\"2024-06-15T00:00:00\",\"2024-06-22T00:00:00\",\"2024-06-29T00:00:00\",\"2024-07-06T00:00:00\",\"2024-07-13T00:00:00\",\"2024-07-27T00:00:00\",\"2024-08-03T00:00:00\",\"2024-08-10T00:00:00\"],\"xaxis\":\"x\",\"y\":[13.0,14.0,16.0,12.0,7.0,7.0,7.0,6.0,9.0,10.0,9.0,18.0,10.0,6.0,8.0,9.0,3.0,9.0,8.0,6.0,10.0,9.0],\"yaxis\":\"y\",\"type\":\"scatter\"},{\"hovertemplate\":\"frame=21\\u003cbr\\u003edate=%{x}\\u003cbr\\u003enum_riders=%{y}\\u003cextra\\u003e\\u003c\\u002fextra\\u003e\",\"legendgroup\":\"\",\"marker\":{\"color\":\"#BF3200\",\"symbol\":\"circle\"},\"mode\":\"markers\",\"name\":\"\",\"opacity\":1,\"orientation\":\"v\",\"showlegend\":true,\"x\":[\"2024-08-10T00:00:00\"],\"xaxis\":\"x\",\"y\":[9.0],\"yaxis\":\"y\",\"type\":\"scatter\"}],\"name\":\"21\"},{\"data\":[{\"hovertemplate\":\"frame=22\\u003cbr\\u003edate=%{x}\\u003cbr\\u003enum_riders=%{y}\\u003cextra\\u003e\\u003c\\u002fextra\\u003e\",\"legendgroup\":\"\",\"line\":{\"color\":\"#BF3200\",\"dash\":\"solid\"},\"marker\":{\"symbol\":\"circle\"},\"mode\":\"lines\",\"name\":\"\",\"opacity\":0.8,\"orientation\":\"v\",\"showlegend\":false,\"x\":[\"2024-01-13T00:00:00\",\"2024-01-27T00:00:00\",\"2024-02-03T00:00:00\",\"2024-02-10T00:00:00\",\"2024-02-24T00:00:00\",\"2024-03-16T00:00:00\",\"2024-03-23T00:00:00\",\"2024-04-06T00:00:00\",\"2024-04-13T00:00:00\",\"2024-04-20T00:00:00\",\"2024-05-11T00:00:00\",\"2024-05-25T00:00:00\",\"2024-06-01T00:00:00\",\"2024-06-08T00:00:00\",\"2024-06-15T00:00:00\",\"2024-06-22T00:00:00\",\"2024-06-29T00:00:00\",\"2024-07-06T00:00:00\",\"2024-07-13T00:00:00\",\"2024-07-27T00:00:00\",\"2024-08-03T00:00:00\",\"2024-08-10T00:00:00\",\"2024-08-17T00:00:00\"],\"xaxis\":\"x\",\"y\":[13.0,14.0,16.0,12.0,7.0,7.0,7.0,6.0,9.0,10.0,9.0,18.0,10.0,6.0,8.0,9.0,3.0,9.0,8.0,6.0,10.0,9.0,14.0],\"yaxis\":\"y\",\"type\":\"scatter\"},{\"hovertemplate\":\"frame=22\\u003cbr\\u003edate=%{x}\\u003cbr\\u003enum_riders=%{y}\\u003cextra\\u003e\\u003c\\u002fextra\\u003e\",\"legendgroup\":\"\",\"marker\":{\"color\":\"#BF3200\",\"symbol\":\"circle\"},\"mode\":\"markers\",\"name\":\"\",\"opacity\":1,\"orientation\":\"v\",\"showlegend\":true,\"x\":[\"2024-08-17T00:00:00\"],\"xaxis\":\"x\",\"y\":[14.0],\"yaxis\":\"y\",\"type\":\"scatter\"}],\"name\":\"22\"},{\"data\":[{\"hovertemplate\":\"frame=23\\u003cbr\\u003edate=%{x}\\u003cbr\\u003enum_riders=%{y}\\u003cextra\\u003e\\u003c\\u002fextra\\u003e\",\"legendgroup\":\"\",\"line\":{\"color\":\"#BF3200\",\"dash\":\"solid\"},\"marker\":{\"symbol\":\"circle\"},\"mode\":\"lines\",\"name\":\"\",\"opacity\":0.8,\"orientation\":\"v\",\"showlegend\":false,\"x\":[\"2024-01-13T00:00:00\",\"2024-01-27T00:00:00\",\"2024-02-03T00:00:00\",\"2024-02-10T00:00:00\",\"2024-02-24T00:00:00\",\"2024-03-16T00:00:00\",\"2024-03-23T00:00:00\",\"2024-04-06T00:00:00\",\"2024-04-13T00:00:00\",\"2024-04-20T00:00:00\",\"2024-05-11T00:00:00\",\"2024-05-25T00:00:00\",\"2024-06-01T00:00:00\",\"2024-06-08T00:00:00\",\"2024-06-15T00:00:00\",\"2024-06-22T00:00:00\",\"2024-06-29T00:00:00\",\"2024-07-06T00:00:00\",\"2024-07-13T00:00:00\",\"2024-07-27T00:00:00\",\"2024-08-03T00:00:00\",\"2024-08-10T00:00:00\",\"2024-08-17T00:00:00\",\"2024-08-24T00:00:00\"],\"xaxis\":\"x\",\"y\":[13.0,14.0,16.0,12.0,7.0,7.0,7.0,6.0,9.0,10.0,9.0,18.0,10.0,6.0,8.0,9.0,3.0,9.0,8.0,6.0,10.0,9.0,14.0,8.0],\"yaxis\":\"y\",\"type\":\"scatter\"},{\"hovertemplate\":\"frame=23\\u003cbr\\u003edate=%{x}\\u003cbr\\u003enum_riders=%{y}\\u003cextra\\u003e\\u003c\\u002fextra\\u003e\",\"legendgroup\":\"\",\"marker\":{\"color\":\"#BF3200\",\"symbol\":\"circle\"},\"mode\":\"markers\",\"name\":\"\",\"opacity\":1,\"orientation\":\"v\",\"showlegend\":true,\"x\":[\"2024-08-24T00:00:00\"],\"xaxis\":\"x\",\"y\":[8.0],\"yaxis\":\"y\",\"type\":\"scatter\"}],\"name\":\"23\"},{\"data\":[{\"hovertemplate\":\"frame=24\\u003cbr\\u003edate=%{x}\\u003cbr\\u003enum_riders=%{y}\\u003cextra\\u003e\\u003c\\u002fextra\\u003e\",\"legendgroup\":\"\",\"line\":{\"color\":\"#BF3200\",\"dash\":\"solid\"},\"marker\":{\"symbol\":\"circle\"},\"mode\":\"lines\",\"name\":\"\",\"opacity\":0.8,\"orientation\":\"v\",\"showlegend\":false,\"x\":[\"2024-01-13T00:00:00\",\"2024-01-27T00:00:00\",\"2024-02-03T00:00:00\",\"2024-02-10T00:00:00\",\"2024-02-24T00:00:00\",\"2024-03-16T00:00:00\",\"2024-03-23T00:00:00\",\"2024-04-06T00:00:00\",\"2024-04-13T00:00:00\",\"2024-04-20T00:00:00\",\"2024-05-11T00:00:00\",\"2024-05-25T00:00:00\",\"2024-06-01T00:00:00\",\"2024-06-08T00:00:00\",\"2024-06-15T00:00:00\",\"2024-06-22T00:00:00\",\"2024-06-29T00:00:00\",\"2024-07-06T00:00:00\",\"2024-07-13T00:00:00\",\"2024-07-27T00:00:00\",\"2024-08-03T00:00:00\",\"2024-08-10T00:00:00\",\"2024-08-17T00:00:00\",\"2024-08-24T00:00:00\",\"2024-08-31T00:00:00\"],\"xaxis\":\"x\",\"y\":[13.0,14.0,16.0,12.0,7.0,7.0,7.0,6.0,9.0,10.0,9.0,18.0,10.0,6.0,8.0,9.0,3.0,9.0,8.0,6.0,10.0,9.0,14.0,8.0,12.0],\"yaxis\":\"y\",\"type\":\"scatter\"},{\"hovertemplate\":\"frame=24\\u003cbr\\u003edate=%{x}\\u003cbr\\u003enum_riders=%{y}\\u003cextra\\u003e\\u003c\\u002fextra\\u003e\",\"legendgroup\":\"\",\"marker\":{\"color\":\"#BF3200\",\"symbol\":\"circle\"},\"mode\":\"markers\",\"name\":\"\",\"opacity\":1,\"orientation\":\"v\",\"showlegend\":true,\"x\":[\"2024-08-31T00:00:00\"],\"xaxis\":\"x\",\"y\":[12.0],\"yaxis\":\"y\",\"type\":\"scatter\"}],\"name\":\"24\"},{\"data\":[{\"hovertemplate\":\"frame=25\\u003cbr\\u003edate=%{x}\\u003cbr\\u003enum_riders=%{y}\\u003cextra\\u003e\\u003c\\u002fextra\\u003e\",\"legendgroup\":\"\",\"line\":{\"color\":\"#BF3200\",\"dash\":\"solid\"},\"marker\":{\"symbol\":\"circle\"},\"mode\":\"lines\",\"name\":\"\",\"opacity\":0.8,\"orientation\":\"v\",\"showlegend\":false,\"x\":[\"2024-01-13T00:00:00\",\"2024-01-27T00:00:00\",\"2024-02-03T00:00:00\",\"2024-02-10T00:00:00\",\"2024-02-24T00:00:00\",\"2024-03-16T00:00:00\",\"2024-03-23T00:00:00\",\"2024-04-06T00:00:00\",\"2024-04-13T00:00:00\",\"2024-04-20T00:00:00\",\"2024-05-11T00:00:00\",\"2024-05-25T00:00:00\",\"2024-06-01T00:00:00\",\"2024-06-08T00:00:00\",\"2024-06-15T00:00:00\",\"2024-06-22T00:00:00\",\"2024-06-29T00:00:00\",\"2024-07-06T00:00:00\",\"2024-07-13T00:00:00\",\"2024-07-27T00:00:00\",\"2024-08-03T00:00:00\",\"2024-08-10T00:00:00\",\"2024-08-17T00:00:00\",\"2024-08-24T00:00:00\",\"2024-08-31T00:00:00\",\"2024-09-07T00:00:00\"],\"xaxis\":\"x\",\"y\":[13.0,14.0,16.0,12.0,7.0,7.0,7.0,6.0,9.0,10.0,9.0,18.0,10.0,6.0,8.0,9.0,3.0,9.0,8.0,6.0,10.0,9.0,14.0,8.0,12.0,12.0],\"yaxis\":\"y\",\"type\":\"scatter\"},{\"hovertemplate\":\"frame=25\\u003cbr\\u003edate=%{x}\\u003cbr\\u003enum_riders=%{y}\\u003cextra\\u003e\\u003c\\u002fextra\\u003e\",\"legendgroup\":\"\",\"marker\":{\"color\":\"#BF3200\",\"symbol\":\"circle\"},\"mode\":\"markers\",\"name\":\"\",\"opacity\":1,\"orientation\":\"v\",\"showlegend\":true,\"x\":[\"2024-09-07T00:00:00\"],\"xaxis\":\"x\",\"y\":[12.0],\"yaxis\":\"y\",\"type\":\"scatter\"}],\"name\":\"25\"},{\"data\":[{\"hovertemplate\":\"frame=26\\u003cbr\\u003edate=%{x}\\u003cbr\\u003enum_riders=%{y}\\u003cextra\\u003e\\u003c\\u002fextra\\u003e\",\"legendgroup\":\"\",\"line\":{\"color\":\"#BF3200\",\"dash\":\"solid\"},\"marker\":{\"symbol\":\"circle\"},\"mode\":\"lines\",\"name\":\"\",\"opacity\":0.8,\"orientation\":\"v\",\"showlegend\":false,\"x\":[\"2024-01-13T00:00:00\",\"2024-01-27T00:00:00\",\"2024-02-03T00:00:00\",\"2024-02-10T00:00:00\",\"2024-02-24T00:00:00\",\"2024-03-16T00:00:00\",\"2024-03-23T00:00:00\",\"2024-04-06T00:00:00\",\"2024-04-13T00:00:00\",\"2024-04-20T00:00:00\",\"2024-05-11T00:00:00\",\"2024-05-25T00:00:00\",\"2024-06-01T00:00:00\",\"2024-06-08T00:00:00\",\"2024-06-15T00:00:00\",\"2024-06-22T00:00:00\",\"2024-06-29T00:00:00\",\"2024-07-06T00:00:00\",\"2024-07-13T00:00:00\",\"2024-07-27T00:00:00\",\"2024-08-03T00:00:00\",\"2024-08-10T00:00:00\",\"2024-08-17T00:00:00\",\"2024-08-24T00:00:00\",\"2024-08-31T00:00:00\",\"2024-09-07T00:00:00\",\"2024-09-14T00:00:00\"],\"xaxis\":\"x\",\"y\":[13.0,14.0,16.0,12.0,7.0,7.0,7.0,6.0,9.0,10.0,9.0,18.0,10.0,6.0,8.0,9.0,3.0,9.0,8.0,6.0,10.0,9.0,14.0,8.0,12.0,12.0,9.0],\"yaxis\":\"y\",\"type\":\"scatter\"},{\"hovertemplate\":\"frame=26\\u003cbr\\u003edate=%{x}\\u003cbr\\u003enum_riders=%{y}\\u003cextra\\u003e\\u003c\\u002fextra\\u003e\",\"legendgroup\":\"\",\"marker\":{\"color\":\"#BF3200\",\"symbol\":\"circle\"},\"mode\":\"markers\",\"name\":\"\",\"opacity\":1,\"orientation\":\"v\",\"showlegend\":true,\"x\":[\"2024-09-14T00:00:00\"],\"xaxis\":\"x\",\"y\":[9.0],\"yaxis\":\"y\",\"type\":\"scatter\"}],\"name\":\"26\"},{\"data\":[{\"hovertemplate\":\"frame=27\\u003cbr\\u003edate=%{x}\\u003cbr\\u003enum_riders=%{y}\\u003cextra\\u003e\\u003c\\u002fextra\\u003e\",\"legendgroup\":\"\",\"line\":{\"color\":\"#BF3200\",\"dash\":\"solid\"},\"marker\":{\"symbol\":\"circle\"},\"mode\":\"lines\",\"name\":\"\",\"opacity\":0.8,\"orientation\":\"v\",\"showlegend\":false,\"x\":[\"2024-01-13T00:00:00\",\"2024-01-27T00:00:00\",\"2024-02-03T00:00:00\",\"2024-02-10T00:00:00\",\"2024-02-24T00:00:00\",\"2024-03-16T00:00:00\",\"2024-03-23T00:00:00\",\"2024-04-06T00:00:00\",\"2024-04-13T00:00:00\",\"2024-04-20T00:00:00\",\"2024-05-11T00:00:00\",\"2024-05-25T00:00:00\",\"2024-06-01T00:00:00\",\"2024-06-08T00:00:00\",\"2024-06-15T00:00:00\",\"2024-06-22T00:00:00\",\"2024-06-29T00:00:00\",\"2024-07-06T00:00:00\",\"2024-07-13T00:00:00\",\"2024-07-27T00:00:00\",\"2024-08-03T00:00:00\",\"2024-08-10T00:00:00\",\"2024-08-17T00:00:00\",\"2024-08-24T00:00:00\",\"2024-08-31T00:00:00\",\"2024-09-07T00:00:00\",\"2024-09-14T00:00:00\",\"2024-09-21T00:00:00\"],\"xaxis\":\"x\",\"y\":[13.0,14.0,16.0,12.0,7.0,7.0,7.0,6.0,9.0,10.0,9.0,18.0,10.0,6.0,8.0,9.0,3.0,9.0,8.0,6.0,10.0,9.0,14.0,8.0,12.0,12.0,9.0,11.0],\"yaxis\":\"y\",\"type\":\"scatter\"},{\"hovertemplate\":\"frame=27\\u003cbr\\u003edate=%{x}\\u003cbr\\u003enum_riders=%{y}\\u003cextra\\u003e\\u003c\\u002fextra\\u003e\",\"legendgroup\":\"\",\"marker\":{\"color\":\"#BF3200\",\"symbol\":\"circle\"},\"mode\":\"markers\",\"name\":\"\",\"opacity\":1,\"orientation\":\"v\",\"showlegend\":true,\"x\":[\"2024-09-21T00:00:00\"],\"xaxis\":\"x\",\"y\":[11.0],\"yaxis\":\"y\",\"type\":\"scatter\"}],\"name\":\"27\"},{\"data\":[{\"hovertemplate\":\"frame=28\\u003cbr\\u003edate=%{x}\\u003cbr\\u003enum_riders=%{y}\\u003cextra\\u003e\\u003c\\u002fextra\\u003e\",\"legendgroup\":\"\",\"line\":{\"color\":\"#BF3200\",\"dash\":\"solid\"},\"marker\":{\"symbol\":\"circle\"},\"mode\":\"lines\",\"name\":\"\",\"opacity\":0.8,\"orientation\":\"v\",\"showlegend\":false,\"x\":[\"2024-01-13T00:00:00\",\"2024-01-27T00:00:00\",\"2024-02-03T00:00:00\",\"2024-02-10T00:00:00\",\"2024-02-24T00:00:00\",\"2024-03-16T00:00:00\",\"2024-03-23T00:00:00\",\"2024-04-06T00:00:00\",\"2024-04-13T00:00:00\",\"2024-04-20T00:00:00\",\"2024-05-11T00:00:00\",\"2024-05-25T00:00:00\",\"2024-06-01T00:00:00\",\"2024-06-08T00:00:00\",\"2024-06-15T00:00:00\",\"2024-06-22T00:00:00\",\"2024-06-29T00:00:00\",\"2024-07-06T00:00:00\",\"2024-07-13T00:00:00\",\"2024-07-27T00:00:00\",\"2024-08-03T00:00:00\",\"2024-08-10T00:00:00\",\"2024-08-17T00:00:00\",\"2024-08-24T00:00:00\",\"2024-08-31T00:00:00\",\"2024-09-07T00:00:00\",\"2024-09-14T00:00:00\",\"2024-09-21T00:00:00\",\"2024-09-28T00:00:00\"],\"xaxis\":\"x\",\"y\":[13.0,14.0,16.0,12.0,7.0,7.0,7.0,6.0,9.0,10.0,9.0,18.0,10.0,6.0,8.0,9.0,3.0,9.0,8.0,6.0,10.0,9.0,14.0,8.0,12.0,12.0,9.0,11.0,13.0],\"yaxis\":\"y\",\"type\":\"scatter\"},{\"hovertemplate\":\"frame=28\\u003cbr\\u003edate=%{x}\\u003cbr\\u003enum_riders=%{y}\\u003cextra\\u003e\\u003c\\u002fextra\\u003e\",\"legendgroup\":\"\",\"marker\":{\"color\":\"#BF3200\",\"symbol\":\"circle\"},\"mode\":\"markers\",\"name\":\"\",\"opacity\":1,\"orientation\":\"v\",\"showlegend\":true,\"x\":[\"2024-09-28T00:00:00\"],\"xaxis\":\"x\",\"y\":[13.0],\"yaxis\":\"y\",\"type\":\"scatter\"}],\"name\":\"28\"},{\"data\":[{\"hovertemplate\":\"frame=29\\u003cbr\\u003edate=%{x}\\u003cbr\\u003enum_riders=%{y}\\u003cextra\\u003e\\u003c\\u002fextra\\u003e\",\"legendgroup\":\"\",\"line\":{\"color\":\"#BF3200\",\"dash\":\"solid\"},\"marker\":{\"symbol\":\"circle\"},\"mode\":\"lines\",\"name\":\"\",\"opacity\":0.8,\"orientation\":\"v\",\"showlegend\":false,\"x\":[\"2024-01-13T00:00:00\",\"2024-01-27T00:00:00\",\"2024-02-03T00:00:00\",\"2024-02-10T00:00:00\",\"2024-02-24T00:00:00\",\"2024-03-16T00:00:00\",\"2024-03-23T00:00:00\",\"2024-04-06T00:00:00\",\"2024-04-13T00:00:00\",\"2024-04-20T00:00:00\",\"2024-05-11T00:00:00\",\"2024-05-25T00:00:00\",\"2024-06-01T00:00:00\",\"2024-06-08T00:00:00\",\"2024-06-15T00:00:00\",\"2024-06-22T00:00:00\",\"2024-06-29T00:00:00\",\"2024-07-06T00:00:00\",\"2024-07-13T00:00:00\",\"2024-07-27T00:00:00\",\"2024-08-03T00:00:00\",\"2024-08-10T00:00:00\",\"2024-08-17T00:00:00\",\"2024-08-24T00:00:00\",\"2024-08-31T00:00:00\",\"2024-09-07T00:00:00\",\"2024-09-14T00:00:00\",\"2024-09-21T00:00:00\",\"2024-09-28T00:00:00\",\"2024-10-05T00:00:00\"],\"xaxis\":\"x\",\"y\":[13.0,14.0,16.0,12.0,7.0,7.0,7.0,6.0,9.0,10.0,9.0,18.0,10.0,6.0,8.0,9.0,3.0,9.0,8.0,6.0,10.0,9.0,14.0,8.0,12.0,12.0,9.0,11.0,13.0,14.0],\"yaxis\":\"y\",\"type\":\"scatter\"},{\"hovertemplate\":\"frame=29\\u003cbr\\u003edate=%{x}\\u003cbr\\u003enum_riders=%{y}\\u003cextra\\u003e\\u003c\\u002fextra\\u003e\",\"legendgroup\":\"\",\"marker\":{\"color\":\"#BF3200\",\"symbol\":\"circle\"},\"mode\":\"markers\",\"name\":\"\",\"opacity\":1,\"orientation\":\"v\",\"showlegend\":true,\"x\":[\"2024-10-05T00:00:00\"],\"xaxis\":\"x\",\"y\":[14.0],\"yaxis\":\"y\",\"type\":\"scatter\"}],\"name\":\"29\"},{\"data\":[{\"hovertemplate\":\"frame=30\\u003cbr\\u003edate=%{x}\\u003cbr\\u003enum_riders=%{y}\\u003cextra\\u003e\\u003c\\u002fextra\\u003e\",\"legendgroup\":\"\",\"line\":{\"color\":\"#BF3200\",\"dash\":\"solid\"},\"marker\":{\"symbol\":\"circle\"},\"mode\":\"lines\",\"name\":\"\",\"opacity\":0.8,\"orientation\":\"v\",\"showlegend\":false,\"x\":[\"2024-01-13T00:00:00\",\"2024-01-27T00:00:00\",\"2024-02-03T00:00:00\",\"2024-02-10T00:00:00\",\"2024-02-24T00:00:00\",\"2024-03-16T00:00:00\",\"2024-03-23T00:00:00\",\"2024-04-06T00:00:00\",\"2024-04-13T00:00:00\",\"2024-04-20T00:00:00\",\"2024-05-11T00:00:00\",\"2024-05-25T00:00:00\",\"2024-06-01T00:00:00\",\"2024-06-08T00:00:00\",\"2024-06-15T00:00:00\",\"2024-06-22T00:00:00\",\"2024-06-29T00:00:00\",\"2024-07-06T00:00:00\",\"2024-07-13T00:00:00\",\"2024-07-27T00:00:00\",\"2024-08-03T00:00:00\",\"2024-08-10T00:00:00\",\"2024-08-17T00:00:00\",\"2024-08-24T00:00:00\",\"2024-08-31T00:00:00\",\"2024-09-07T00:00:00\",\"2024-09-14T00:00:00\",\"2024-09-21T00:00:00\",\"2024-09-28T00:00:00\",\"2024-10-05T00:00:00\",\"2024-10-12T00:00:00\"],\"xaxis\":\"x\",\"y\":[13.0,14.0,16.0,12.0,7.0,7.0,7.0,6.0,9.0,10.0,9.0,18.0,10.0,6.0,8.0,9.0,3.0,9.0,8.0,6.0,10.0,9.0,14.0,8.0,12.0,12.0,9.0,11.0,13.0,14.0,8.0],\"yaxis\":\"y\",\"type\":\"scatter\"},{\"hovertemplate\":\"frame=30\\u003cbr\\u003edate=%{x}\\u003cbr\\u003enum_riders=%{y}\\u003cextra\\u003e\\u003c\\u002fextra\\u003e\",\"legendgroup\":\"\",\"marker\":{\"color\":\"#BF3200\",\"symbol\":\"circle\"},\"mode\":\"markers\",\"name\":\"\",\"opacity\":1,\"orientation\":\"v\",\"showlegend\":true,\"x\":[\"2024-10-12T00:00:00\"],\"xaxis\":\"x\",\"y\":[8.0],\"yaxis\":\"y\",\"type\":\"scatter\"}],\"name\":\"30\"},{\"data\":[{\"hovertemplate\":\"frame=31\\u003cbr\\u003edate=%{x}\\u003cbr\\u003enum_riders=%{y}\\u003cextra\\u003e\\u003c\\u002fextra\\u003e\",\"legendgroup\":\"\",\"line\":{\"color\":\"#BF3200\",\"dash\":\"solid\"},\"marker\":{\"symbol\":\"circle\"},\"mode\":\"lines\",\"name\":\"\",\"opacity\":0.8,\"orientation\":\"v\",\"showlegend\":false,\"x\":[\"2024-01-13T00:00:00\",\"2024-01-27T00:00:00\",\"2024-02-03T00:00:00\",\"2024-02-10T00:00:00\",\"2024-02-24T00:00:00\",\"2024-03-16T00:00:00\",\"2024-03-23T00:00:00\",\"2024-04-06T00:00:00\",\"2024-04-13T00:00:00\",\"2024-04-20T00:00:00\",\"2024-05-11T00:00:00\",\"2024-05-25T00:00:00\",\"2024-06-01T00:00:00\",\"2024-06-08T00:00:00\",\"2024-06-15T00:00:00\",\"2024-06-22T00:00:00\",\"2024-06-29T00:00:00\",\"2024-07-06T00:00:00\",\"2024-07-13T00:00:00\",\"2024-07-27T00:00:00\",\"2024-08-03T00:00:00\",\"2024-08-10T00:00:00\",\"2024-08-17T00:00:00\",\"2024-08-24T00:00:00\",\"2024-08-31T00:00:00\",\"2024-09-07T00:00:00\",\"2024-09-14T00:00:00\",\"2024-09-21T00:00:00\",\"2024-09-28T00:00:00\",\"2024-10-05T00:00:00\",\"2024-10-12T00:00:00\",\"2024-10-19T00:00:00\"],\"xaxis\":\"x\",\"y\":[13.0,14.0,16.0,12.0,7.0,7.0,7.0,6.0,9.0,10.0,9.0,18.0,10.0,6.0,8.0,9.0,3.0,9.0,8.0,6.0,10.0,9.0,14.0,8.0,12.0,12.0,9.0,11.0,13.0,14.0,8.0,9.0],\"yaxis\":\"y\",\"type\":\"scatter\"},{\"hovertemplate\":\"frame=31\\u003cbr\\u003edate=%{x}\\u003cbr\\u003enum_riders=%{y}\\u003cextra\\u003e\\u003c\\u002fextra\\u003e\",\"legendgroup\":\"\",\"marker\":{\"color\":\"#BF3200\",\"symbol\":\"circle\"},\"mode\":\"markers\",\"name\":\"\",\"opacity\":1,\"orientation\":\"v\",\"showlegend\":true,\"x\":[\"2024-10-19T00:00:00\"],\"xaxis\":\"x\",\"y\":[9.0],\"yaxis\":\"y\",\"type\":\"scatter\"}],\"name\":\"31\"},{\"data\":[{\"hovertemplate\":\"frame=32\\u003cbr\\u003edate=%{x}\\u003cbr\\u003enum_riders=%{y}\\u003cextra\\u003e\\u003c\\u002fextra\\u003e\",\"legendgroup\":\"\",\"line\":{\"color\":\"#BF3200\",\"dash\":\"solid\"},\"marker\":{\"symbol\":\"circle\"},\"mode\":\"lines\",\"name\":\"\",\"opacity\":0.8,\"orientation\":\"v\",\"showlegend\":false,\"x\":[\"2024-01-13T00:00:00\",\"2024-01-27T00:00:00\",\"2024-02-03T00:00:00\",\"2024-02-10T00:00:00\",\"2024-02-24T00:00:00\",\"2024-03-16T00:00:00\",\"2024-03-23T00:00:00\",\"2024-04-06T00:00:00\",\"2024-04-13T00:00:00\",\"2024-04-20T00:00:00\",\"2024-05-11T00:00:00\",\"2024-05-25T00:00:00\",\"2024-06-01T00:00:00\",\"2024-06-08T00:00:00\",\"2024-06-15T00:00:00\",\"2024-06-22T00:00:00\",\"2024-06-29T00:00:00\",\"2024-07-06T00:00:00\",\"2024-07-13T00:00:00\",\"2024-07-27T00:00:00\",\"2024-08-03T00:00:00\",\"2024-08-10T00:00:00\",\"2024-08-17T00:00:00\",\"2024-08-24T00:00:00\",\"2024-08-31T00:00:00\",\"2024-09-07T00:00:00\",\"2024-09-14T00:00:00\",\"2024-09-21T00:00:00\",\"2024-09-28T00:00:00\",\"2024-10-05T00:00:00\",\"2024-10-12T00:00:00\",\"2024-10-19T00:00:00\",\"2024-10-26T00:00:00\"],\"xaxis\":\"x\",\"y\":[13.0,14.0,16.0,12.0,7.0,7.0,7.0,6.0,9.0,10.0,9.0,18.0,10.0,6.0,8.0,9.0,3.0,9.0,8.0,6.0,10.0,9.0,14.0,8.0,12.0,12.0,9.0,11.0,13.0,14.0,8.0,9.0,6.0],\"yaxis\":\"y\",\"type\":\"scatter\"},{\"hovertemplate\":\"frame=32\\u003cbr\\u003edate=%{x}\\u003cbr\\u003enum_riders=%{y}\\u003cextra\\u003e\\u003c\\u002fextra\\u003e\",\"legendgroup\":\"\",\"marker\":{\"color\":\"#BF3200\",\"symbol\":\"circle\"},\"mode\":\"markers\",\"name\":\"\",\"opacity\":1,\"orientation\":\"v\",\"showlegend\":true,\"x\":[\"2024-10-26T00:00:00\"],\"xaxis\":\"x\",\"y\":[6.0],\"yaxis\":\"y\",\"type\":\"scatter\"}],\"name\":\"32\"},{\"data\":[{\"hovertemplate\":\"frame=33\\u003cbr\\u003edate=%{x}\\u003cbr\\u003enum_riders=%{y}\\u003cextra\\u003e\\u003c\\u002fextra\\u003e\",\"legendgroup\":\"\",\"line\":{\"color\":\"#BF3200\",\"dash\":\"solid\"},\"marker\":{\"symbol\":\"circle\"},\"mode\":\"lines\",\"name\":\"\",\"opacity\":0.8,\"orientation\":\"v\",\"showlegend\":false,\"x\":[\"2024-01-13T00:00:00\",\"2024-01-27T00:00:00\",\"2024-02-03T00:00:00\",\"2024-02-10T00:00:00\",\"2024-02-24T00:00:00\",\"2024-03-16T00:00:00\",\"2024-03-23T00:00:00\",\"2024-04-06T00:00:00\",\"2024-04-13T00:00:00\",\"2024-04-20T00:00:00\",\"2024-05-11T00:00:00\",\"2024-05-25T00:00:00\",\"2024-06-01T00:00:00\",\"2024-06-08T00:00:00\",\"2024-06-15T00:00:00\",\"2024-06-22T00:00:00\",\"2024-06-29T00:00:00\",\"2024-07-06T00:00:00\",\"2024-07-13T00:00:00\",\"2024-07-27T00:00:00\",\"2024-08-03T00:00:00\",\"2024-08-10T00:00:00\",\"2024-08-17T00:00:00\",\"2024-08-24T00:00:00\",\"2024-08-31T00:00:00\",\"2024-09-07T00:00:00\",\"2024-09-14T00:00:00\",\"2024-09-21T00:00:00\",\"2024-09-28T00:00:00\",\"2024-10-05T00:00:00\",\"2024-10-12T00:00:00\",\"2024-10-19T00:00:00\",\"2024-10-26T00:00:00\",\"2024-11-02T00:00:00\"],\"xaxis\":\"x\",\"y\":[13.0,14.0,16.0,12.0,7.0,7.0,7.0,6.0,9.0,10.0,9.0,18.0,10.0,6.0,8.0,9.0,3.0,9.0,8.0,6.0,10.0,9.0,14.0,8.0,12.0,12.0,9.0,11.0,13.0,14.0,8.0,9.0,6.0,11.0],\"yaxis\":\"y\",\"type\":\"scatter\"},{\"hovertemplate\":\"frame=33\\u003cbr\\u003edate=%{x}\\u003cbr\\u003enum_riders=%{y}\\u003cextra\\u003e\\u003c\\u002fextra\\u003e\",\"legendgroup\":\"\",\"marker\":{\"color\":\"#BF3200\",\"symbol\":\"circle\"},\"mode\":\"markers\",\"name\":\"\",\"opacity\":1,\"orientation\":\"v\",\"showlegend\":true,\"x\":[\"2024-11-02T00:00:00\"],\"xaxis\":\"x\",\"y\":[11.0],\"yaxis\":\"y\",\"type\":\"scatter\"}],\"name\":\"33\"},{\"data\":[{\"hovertemplate\":\"frame=34\\u003cbr\\u003edate=%{x}\\u003cbr\\u003enum_riders=%{y}\\u003cextra\\u003e\\u003c\\u002fextra\\u003e\",\"legendgroup\":\"\",\"line\":{\"color\":\"#BF3200\",\"dash\":\"solid\"},\"marker\":{\"symbol\":\"circle\"},\"mode\":\"lines\",\"name\":\"\",\"opacity\":0.8,\"orientation\":\"v\",\"showlegend\":false,\"x\":[\"2024-01-13T00:00:00\",\"2024-01-27T00:00:00\",\"2024-02-03T00:00:00\",\"2024-02-10T00:00:00\",\"2024-02-24T00:00:00\",\"2024-03-16T00:00:00\",\"2024-03-23T00:00:00\",\"2024-04-06T00:00:00\",\"2024-04-13T00:00:00\",\"2024-04-20T00:00:00\",\"2024-05-11T00:00:00\",\"2024-05-25T00:00:00\",\"2024-06-01T00:00:00\",\"2024-06-08T00:00:00\",\"2024-06-15T00:00:00\",\"2024-06-22T00:00:00\",\"2024-06-29T00:00:00\",\"2024-07-06T00:00:00\",\"2024-07-13T00:00:00\",\"2024-07-27T00:00:00\",\"2024-08-03T00:00:00\",\"2024-08-10T00:00:00\",\"2024-08-17T00:00:00\",\"2024-08-24T00:00:00\",\"2024-08-31T00:00:00\",\"2024-09-07T00:00:00\",\"2024-09-14T00:00:00\",\"2024-09-21T00:00:00\",\"2024-09-28T00:00:00\",\"2024-10-05T00:00:00\",\"2024-10-12T00:00:00\",\"2024-10-19T00:00:00\",\"2024-10-26T00:00:00\",\"2024-11-02T00:00:00\",\"2024-11-09T00:00:00\"],\"xaxis\":\"x\",\"y\":[13.0,14.0,16.0,12.0,7.0,7.0,7.0,6.0,9.0,10.0,9.0,18.0,10.0,6.0,8.0,9.0,3.0,9.0,8.0,6.0,10.0,9.0,14.0,8.0,12.0,12.0,9.0,11.0,13.0,14.0,8.0,9.0,6.0,11.0,9.0],\"yaxis\":\"y\",\"type\":\"scatter\"},{\"hovertemplate\":\"frame=34\\u003cbr\\u003edate=%{x}\\u003cbr\\u003enum_riders=%{y}\\u003cextra\\u003e\\u003c\\u002fextra\\u003e\",\"legendgroup\":\"\",\"marker\":{\"color\":\"#BF3200\",\"symbol\":\"circle\"},\"mode\":\"markers\",\"name\":\"\",\"opacity\":1,\"orientation\":\"v\",\"showlegend\":true,\"x\":[\"2024-11-09T00:00:00\"],\"xaxis\":\"x\",\"y\":[9.0],\"yaxis\":\"y\",\"type\":\"scatter\"}],\"name\":\"34\"},{\"data\":[{\"hovertemplate\":\"frame=35\\u003cbr\\u003edate=%{x}\\u003cbr\\u003enum_riders=%{y}\\u003cextra\\u003e\\u003c\\u002fextra\\u003e\",\"legendgroup\":\"\",\"line\":{\"color\":\"#BF3200\",\"dash\":\"solid\"},\"marker\":{\"symbol\":\"circle\"},\"mode\":\"lines\",\"name\":\"\",\"opacity\":0.8,\"orientation\":\"v\",\"showlegend\":false,\"x\":[\"2024-01-13T00:00:00\",\"2024-01-27T00:00:00\",\"2024-02-03T00:00:00\",\"2024-02-10T00:00:00\",\"2024-02-24T00:00:00\",\"2024-03-16T00:00:00\",\"2024-03-23T00:00:00\",\"2024-04-06T00:00:00\",\"2024-04-13T00:00:00\",\"2024-04-20T00:00:00\",\"2024-05-11T00:00:00\",\"2024-05-25T00:00:00\",\"2024-06-01T00:00:00\",\"2024-06-08T00:00:00\",\"2024-06-15T00:00:00\",\"2024-06-22T00:00:00\",\"2024-06-29T00:00:00\",\"2024-07-06T00:00:00\",\"2024-07-13T00:00:00\",\"2024-07-27T00:00:00\",\"2024-08-03T00:00:00\",\"2024-08-10T00:00:00\",\"2024-08-17T00:00:00\",\"2024-08-24T00:00:00\",\"2024-08-31T00:00:00\",\"2024-09-07T00:00:00\",\"2024-09-14T00:00:00\",\"2024-09-21T00:00:00\",\"2024-09-28T00:00:00\",\"2024-10-05T00:00:00\",\"2024-10-12T00:00:00\",\"2024-10-19T00:00:00\",\"2024-10-26T00:00:00\",\"2024-11-02T00:00:00\",\"2024-11-09T00:00:00\",\"2024-11-16T00:00:00\"],\"xaxis\":\"x\",\"y\":[13.0,14.0,16.0,12.0,7.0,7.0,7.0,6.0,9.0,10.0,9.0,18.0,10.0,6.0,8.0,9.0,3.0,9.0,8.0,6.0,10.0,9.0,14.0,8.0,12.0,12.0,9.0,11.0,13.0,14.0,8.0,9.0,6.0,11.0,9.0,11.0],\"yaxis\":\"y\",\"type\":\"scatter\"},{\"hovertemplate\":\"frame=35\\u003cbr\\u003edate=%{x}\\u003cbr\\u003enum_riders=%{y}\\u003cextra\\u003e\\u003c\\u002fextra\\u003e\",\"legendgroup\":\"\",\"marker\":{\"color\":\"#BF3200\",\"symbol\":\"circle\"},\"mode\":\"markers\",\"name\":\"\",\"opacity\":1,\"orientation\":\"v\",\"showlegend\":true,\"x\":[\"2024-11-16T00:00:00\"],\"xaxis\":\"x\",\"y\":[11.0],\"yaxis\":\"y\",\"type\":\"scatter\"}],\"name\":\"35\"},{\"data\":[{\"hovertemplate\":\"frame=36\\u003cbr\\u003edate=%{x}\\u003cbr\\u003enum_riders=%{y}\\u003cextra\\u003e\\u003c\\u002fextra\\u003e\",\"legendgroup\":\"\",\"line\":{\"color\":\"#BF3200\",\"dash\":\"solid\"},\"marker\":{\"symbol\":\"circle\"},\"mode\":\"lines\",\"name\":\"\",\"opacity\":0.8,\"orientation\":\"v\",\"showlegend\":false,\"x\":[\"2024-01-13T00:00:00\",\"2024-01-27T00:00:00\",\"2024-02-03T00:00:00\",\"2024-02-10T00:00:00\",\"2024-02-24T00:00:00\",\"2024-03-16T00:00:00\",\"2024-03-23T00:00:00\",\"2024-04-06T00:00:00\",\"2024-04-13T00:00:00\",\"2024-04-20T00:00:00\",\"2024-05-11T00:00:00\",\"2024-05-25T00:00:00\",\"2024-06-01T00:00:00\",\"2024-06-08T00:00:00\",\"2024-06-15T00:00:00\",\"2024-06-22T00:00:00\",\"2024-06-29T00:00:00\",\"2024-07-06T00:00:00\",\"2024-07-13T00:00:00\",\"2024-07-27T00:00:00\",\"2024-08-03T00:00:00\",\"2024-08-10T00:00:00\",\"2024-08-17T00:00:00\",\"2024-08-24T00:00:00\",\"2024-08-31T00:00:00\",\"2024-09-07T00:00:00\",\"2024-09-14T00:00:00\",\"2024-09-21T00:00:00\",\"2024-09-28T00:00:00\",\"2024-10-05T00:00:00\",\"2024-10-12T00:00:00\",\"2024-10-19T00:00:00\",\"2024-10-26T00:00:00\",\"2024-11-02T00:00:00\",\"2024-11-09T00:00:00\",\"2024-11-16T00:00:00\",\"2024-11-23T00:00:00\"],\"xaxis\":\"x\",\"y\":[13.0,14.0,16.0,12.0,7.0,7.0,7.0,6.0,9.0,10.0,9.0,18.0,10.0,6.0,8.0,9.0,3.0,9.0,8.0,6.0,10.0,9.0,14.0,8.0,12.0,12.0,9.0,11.0,13.0,14.0,8.0,9.0,6.0,11.0,9.0,11.0,10.0],\"yaxis\":\"y\",\"type\":\"scatter\"},{\"hovertemplate\":\"frame=36\\u003cbr\\u003edate=%{x}\\u003cbr\\u003enum_riders=%{y}\\u003cextra\\u003e\\u003c\\u002fextra\\u003e\",\"legendgroup\":\"\",\"marker\":{\"color\":\"#BF3200\",\"symbol\":\"circle\"},\"mode\":\"markers\",\"name\":\"\",\"opacity\":1,\"orientation\":\"v\",\"showlegend\":true,\"x\":[\"2024-11-23T00:00:00\"],\"xaxis\":\"x\",\"y\":[10.0],\"yaxis\":\"y\",\"type\":\"scatter\"}],\"name\":\"36\"},{\"data\":[{\"hovertemplate\":\"frame=37\\u003cbr\\u003edate=%{x}\\u003cbr\\u003enum_riders=%{y}\\u003cextra\\u003e\\u003c\\u002fextra\\u003e\",\"legendgroup\":\"\",\"line\":{\"color\":\"#BF3200\",\"dash\":\"solid\"},\"marker\":{\"symbol\":\"circle\"},\"mode\":\"lines\",\"name\":\"\",\"opacity\":0.8,\"orientation\":\"v\",\"showlegend\":false,\"x\":[\"2024-01-13T00:00:00\",\"2024-01-27T00:00:00\",\"2024-02-03T00:00:00\",\"2024-02-10T00:00:00\",\"2024-02-24T00:00:00\",\"2024-03-16T00:00:00\",\"2024-03-23T00:00:00\",\"2024-04-06T00:00:00\",\"2024-04-13T00:00:00\",\"2024-04-20T00:00:00\",\"2024-05-11T00:00:00\",\"2024-05-25T00:00:00\",\"2024-06-01T00:00:00\",\"2024-06-08T00:00:00\",\"2024-06-15T00:00:00\",\"2024-06-22T00:00:00\",\"2024-06-29T00:00:00\",\"2024-07-06T00:00:00\",\"2024-07-13T00:00:00\",\"2024-07-27T00:00:00\",\"2024-08-03T00:00:00\",\"2024-08-10T00:00:00\",\"2024-08-17T00:00:00\",\"2024-08-24T00:00:00\",\"2024-08-31T00:00:00\",\"2024-09-07T00:00:00\",\"2024-09-14T00:00:00\",\"2024-09-21T00:00:00\",\"2024-09-28T00:00:00\",\"2024-10-05T00:00:00\",\"2024-10-12T00:00:00\",\"2024-10-19T00:00:00\",\"2024-10-26T00:00:00\",\"2024-11-02T00:00:00\",\"2024-11-09T00:00:00\",\"2024-11-16T00:00:00\",\"2024-11-23T00:00:00\",\"2024-11-30T00:00:00\"],\"xaxis\":\"x\",\"y\":[13.0,14.0,16.0,12.0,7.0,7.0,7.0,6.0,9.0,10.0,9.0,18.0,10.0,6.0,8.0,9.0,3.0,9.0,8.0,6.0,10.0,9.0,14.0,8.0,12.0,12.0,9.0,11.0,13.0,14.0,8.0,9.0,6.0,11.0,9.0,11.0,10.0,10.0],\"yaxis\":\"y\",\"type\":\"scatter\"},{\"hovertemplate\":\"frame=37\\u003cbr\\u003edate=%{x}\\u003cbr\\u003enum_riders=%{y}\\u003cextra\\u003e\\u003c\\u002fextra\\u003e\",\"legendgroup\":\"\",\"marker\":{\"color\":\"#BF3200\",\"symbol\":\"circle\"},\"mode\":\"markers\",\"name\":\"\",\"opacity\":1,\"orientation\":\"v\",\"showlegend\":true,\"x\":[\"2024-11-30T00:00:00\"],\"xaxis\":\"x\",\"y\":[10.0],\"yaxis\":\"y\",\"type\":\"scatter\"}],\"name\":\"37\"},{\"data\":[{\"hovertemplate\":\"frame=38\\u003cbr\\u003edate=%{x}\\u003cbr\\u003enum_riders=%{y}\\u003cextra\\u003e\\u003c\\u002fextra\\u003e\",\"legendgroup\":\"\",\"line\":{\"color\":\"#BF3200\",\"dash\":\"solid\"},\"marker\":{\"symbol\":\"circle\"},\"mode\":\"lines\",\"name\":\"\",\"opacity\":0.8,\"orientation\":\"v\",\"showlegend\":false,\"x\":[\"2024-01-13T00:00:00\",\"2024-01-27T00:00:00\",\"2024-02-03T00:00:00\",\"2024-02-10T00:00:00\",\"2024-02-24T00:00:00\",\"2024-03-16T00:00:00\",\"2024-03-23T00:00:00\",\"2024-04-06T00:00:00\",\"2024-04-13T00:00:00\",\"2024-04-20T00:00:00\",\"2024-05-11T00:00:00\",\"2024-05-25T00:00:00\",\"2024-06-01T00:00:00\",\"2024-06-08T00:00:00\",\"2024-06-15T00:00:00\",\"2024-06-22T00:00:00\",\"2024-06-29T00:00:00\",\"2024-07-06T00:00:00\",\"2024-07-13T00:00:00\",\"2024-07-27T00:00:00\",\"2024-08-03T00:00:00\",\"2024-08-10T00:00:00\",\"2024-08-17T00:00:00\",\"2024-08-24T00:00:00\",\"2024-08-31T00:00:00\",\"2024-09-07T00:00:00\",\"2024-09-14T00:00:00\",\"2024-09-21T00:00:00\",\"2024-09-28T00:00:00\",\"2024-10-05T00:00:00\",\"2024-10-12T00:00:00\",\"2024-10-19T00:00:00\",\"2024-10-26T00:00:00\",\"2024-11-02T00:00:00\",\"2024-11-09T00:00:00\",\"2024-11-16T00:00:00\",\"2024-11-23T00:00:00\",\"2024-11-30T00:00:00\",\"2024-12-14T00:00:00\"],\"xaxis\":\"x\",\"y\":[13.0,14.0,16.0,12.0,7.0,7.0,7.0,6.0,9.0,10.0,9.0,18.0,10.0,6.0,8.0,9.0,3.0,9.0,8.0,6.0,10.0,9.0,14.0,8.0,12.0,12.0,9.0,11.0,13.0,14.0,8.0,9.0,6.0,11.0,9.0,11.0,10.0,10.0,11.0],\"yaxis\":\"y\",\"type\":\"scatter\"},{\"hovertemplate\":\"frame=38\\u003cbr\\u003edate=%{x}\\u003cbr\\u003enum_riders=%{y}\\u003cextra\\u003e\\u003c\\u002fextra\\u003e\",\"legendgroup\":\"\",\"marker\":{\"color\":\"#BF3200\",\"symbol\":\"circle\"},\"mode\":\"markers\",\"name\":\"\",\"opacity\":1,\"orientation\":\"v\",\"showlegend\":true,\"x\":[\"2024-12-14T00:00:00\"],\"xaxis\":\"x\",\"y\":[11.0],\"yaxis\":\"y\",\"type\":\"scatter\"}],\"name\":\"38\"},{\"data\":[{\"hovertemplate\":\"frame=39\\u003cbr\\u003edate=%{x}\\u003cbr\\u003enum_riders=%{y}\\u003cextra\\u003e\\u003c\\u002fextra\\u003e\",\"legendgroup\":\"\",\"line\":{\"color\":\"#BF3200\",\"dash\":\"solid\"},\"marker\":{\"symbol\":\"circle\"},\"mode\":\"lines\",\"name\":\"\",\"opacity\":0.8,\"orientation\":\"v\",\"showlegend\":false,\"x\":[\"2024-01-13T00:00:00\",\"2024-01-27T00:00:00\",\"2024-02-03T00:00:00\",\"2024-02-10T00:00:00\",\"2024-02-24T00:00:00\",\"2024-03-16T00:00:00\",\"2024-03-23T00:00:00\",\"2024-04-06T00:00:00\",\"2024-04-13T00:00:00\",\"2024-04-20T00:00:00\",\"2024-05-11T00:00:00\",\"2024-05-25T00:00:00\",\"2024-06-01T00:00:00\",\"2024-06-08T00:00:00\",\"2024-06-15T00:00:00\",\"2024-06-22T00:00:00\",\"2024-06-29T00:00:00\",\"2024-07-06T00:00:00\",\"2024-07-13T00:00:00\",\"2024-07-27T00:00:00\",\"2024-08-03T00:00:00\",\"2024-08-10T00:00:00\",\"2024-08-17T00:00:00\",\"2024-08-24T00:00:00\",\"2024-08-31T00:00:00\",\"2024-09-07T00:00:00\",\"2024-09-14T00:00:00\",\"2024-09-21T00:00:00\",\"2024-09-28T00:00:00\",\"2024-10-05T00:00:00\",\"2024-10-12T00:00:00\",\"2024-10-19T00:00:00\",\"2024-10-26T00:00:00\",\"2024-11-02T00:00:00\",\"2024-11-09T00:00:00\",\"2024-11-16T00:00:00\",\"2024-11-23T00:00:00\",\"2024-11-30T00:00:00\",\"2024-12-14T00:00:00\",\"2024-12-21T00:00:00\"],\"xaxis\":\"x\",\"y\":[13.0,14.0,16.0,12.0,7.0,7.0,7.0,6.0,9.0,10.0,9.0,18.0,10.0,6.0,8.0,9.0,3.0,9.0,8.0,6.0,10.0,9.0,14.0,8.0,12.0,12.0,9.0,11.0,13.0,14.0,8.0,9.0,6.0,11.0,9.0,11.0,10.0,10.0,11.0,14.0],\"yaxis\":\"y\",\"type\":\"scatter\"},{\"hovertemplate\":\"frame=39\\u003cbr\\u003edate=%{x}\\u003cbr\\u003enum_riders=%{y}\\u003cextra\\u003e\\u003c\\u002fextra\\u003e\",\"legendgroup\":\"\",\"marker\":{\"color\":\"#BF3200\",\"symbol\":\"circle\"},\"mode\":\"markers\",\"name\":\"\",\"opacity\":1,\"orientation\":\"v\",\"showlegend\":true,\"x\":[\"2024-12-21T00:00:00\"],\"xaxis\":\"x\",\"y\":[14.0],\"yaxis\":\"y\",\"type\":\"scatter\"}],\"name\":\"39\"}]);\n",
       "                        }).then(function(){\n",
       "                            \n",
       "var gd = document.getElementById('eac3d68c-1f1a-4d30-b19a-dc7ecb575760');\n",
       "var x = new MutationObserver(function (mutations, observer) {{\n",
       "        var display = window.getComputedStyle(gd).display;\n",
       "        if (!display || display === 'none') {{\n",
       "            console.log([gd, 'removed!']);\n",
       "            Plotly.purge(gd);\n",
       "            observer.disconnect();\n",
       "        }}\n",
       "}});\n",
       "\n",
       "// Listen for the removal of the full notebook cells\n",
       "var notebookContainer = gd.closest('#notebook-container');\n",
       "if (notebookContainer) {{\n",
       "    x.observe(notebookContainer, {childList: true});\n",
       "}}\n",
       "\n",
       "// Listen for the clearing of the current output cell\n",
       "var outputEl = gd.closest('.output');\n",
       "if (outputEl) {{\n",
       "    x.observe(outputEl, {childList: true});\n",
       "}}\n",
       "\n",
       "                        })                };                });            </script>        </div>"
      ]
     },
     "metadata": {},
     "output_type": "display_data"
    }
   ],
   "source": [
    "\n",
    "NUM_WEEKS=52\n",
    "RETAIL_COLORS = ['#BF3200'] \n",
    "df_indexed = pd.DataFrame()\n",
    "for index in np.arange(start=0,\n",
    "                       stop=len(df_x2),\n",
    "                       step=1):\n",
    "    if df_x2.iloc[index].had_ride: \n",
    "        df_slicing = df_x2.iloc[:index+1].copy()\n",
    "        df_slicing['frame'] = (index)\n",
    "        df_indexed = pd.concat([df_indexed, df_slicing])\n",
    "\n",
    "scatter_plot = px.scatter(\n",
    "    df_indexed,\n",
    "    y='num_riders',\n",
    "    x='date',\n",
    "    animation_frame='frame',\n",
    "    color_discrete_sequence=RETAIL_COLORS\n",
    ")\n",
    "for frame in scatter_plot.frames:\n",
    "    for data in frame.data:\n",
    "        data.update(mode='markers',\n",
    "                    showlegend=True,\n",
    "                    opacity=1)\n",
    "        data['x'] = np.take(data['x'], [-1])\n",
    "        data['y'] = np.take(data['y'], [-1])\n",
    "\n",
    "line_plot = px.line(\n",
    "    df_indexed,\n",
    "    y='num_riders',\n",
    "    x='date',\n",
    "    animation_frame='frame',\n",
    "    color_discrete_sequence=RETAIL_COLORS,\n",
    "    width=450,\n",
    "    height=400,\n",
    "    # line_shape='spline', # Make a line graph curvy\n",
    ")\n",
    "# Hide line plot legend to avoid duplication with scatter plot's legend\n",
    "line_plot.update_traces(showlegend=False, connectgaps=True,)  \n",
    "\n",
    "for frame in line_plot.frames:\n",
    "    for data in frame.data:\n",
    "        data.update(mode='lines', opacity=0.8, showlegend=False)\n",
    "\n",
    "combined_plot = go.Figure(\n",
    "    data=line_plot.data + scatter_plot.data,\n",
    "    frames=[\n",
    "        go.Frame(data=line_plot.data + scatter_plot.data, name=scatter_plot.name)\n",
    "        for line_plot, scatter_plot in zip(line_plot.frames, scatter_plot.frames)\n",
    "    ],\n",
    "    layout=line_plot.layout\n",
    ")\n",
    "\n",
    "combined_plot.update_xaxes(\n",
    "    fixedrange=False,\n",
    "    dtick=\"M1\",\n",
    "    tickformat=\"%b\",\n",
    "    range=[pd.to_datetime('2024-01-01'), pd.to_datetime('2024-12-31')],\n",
    "    gridcolor='silver'\n",
    ")\n",
    "combined_plot.update_yaxes(dtick=\"2\",range=[0,20],gridcolor='silver')\n",
    "combined_plot.update_traces(\n",
    "    line=dict(width=5),\n",
    "    marker=dict(size=20)) # Play with marker size and line width\n",
    "combined_plot.update_layout(\n",
    "    margin=dict(l=5, r=5, t=50, b=5),  # left, right, top, bottom margins\n",
    "    yaxis=dict(title=None),\n",
    "    xaxis_title='Number of Riders',\n",
    "    plot_bgcolor='#fffcf7',\n",
    "    paper_bgcolor='#fffcf7',\n",
    ")\n",
    "combined_plot['layout'].pop(\"sliders\")\n",
    "combined_plot.layout.updatemenus[0].buttons[0]['args'][1]['frame']['duration'] = 150\n",
    "combined_plot.layout.updatemenus[0].buttons[0]['args'][1]['transition']['duration'] = 20\n",
    "combined_plot.layout.updatemenus[0].buttons[0]['args'][1]['transition']['redraw'] = False\n",
    "combined_plot.show()\n"
   ]
  },
  {
   "cell_type": "code",
   "execution_count": 837,
   "metadata": {},
   "outputs": [
    {
     "name": "stderr",
     "output_type": "stream",
     "text": [
      "/var/folders/6s/2lcz4zcx0515kv6t7ks2qj0h0000gn/T/ipykernel_66213/3583558199.py:2: FutureWarning:\n",
      "\n",
      "Calling int on a single element Series is deprecated and will raise a TypeError in the future. Use int(ser.iloc[0]) instead\n",
      "\n"
     ]
    }
   ],
   "source": [
    "num_frames = df_indexed.iloc[[0.-1]].frame\n",
    "for frame in range(int(num_frames+1)): \n",
    "    fig = px.line(\n",
    "        df_indexed.loc[df_indexed['frame']==frame],\n",
    "        x=\"date\", y=\"num_riders\", \n",
    "        markers=False, \n",
    "        # line_shape='spline',\n",
    "        color_discrete_sequence=['#BF3200'] \n",
    "    )\n",
    "    try:\n",
    "        fig.add_scatter(x = [fig.data[0].x[-1]], y = [fig.data[0].y[-1]],\n",
    "                            mode = 'markers',\n",
    "                            marker = {'size':15, 'color':'#BF3200'},\n",
    "                            showlegend = False,)\n",
    "    except: continue\n",
    "    fig.update_xaxes(\n",
    "        fixedrange=False,\n",
    "        dtick=\"M1\",\n",
    "        tickformat=\"%b\",\n",
    "        # gridcolor='silver',\n",
    "        range=[pd.to_datetime('2024-01-01'),pd.to_datetime('2024-12-31')]\n",
    "    )\n",
    "    fig.update_yaxes(dtick=\"2\",range=[2.1,19],gridcolor='silver',)\n",
    "    fig.update_layout(\n",
    "        width=450,\n",
    "        height=400,\n",
    "        margin=dict(l=5, r=5, t=50, b=5),  # left, right, top, bottom margins\n",
    "        xaxis=dict(title=None),\n",
    "        yaxis_title='Number of Riders',\n",
    "        plot_bgcolor='#fffcf7',\n",
    "        paper_bgcolor='#fffcf7',\n",
    "    )\n",
    "    fig.update_traces(\n",
    "        connectgaps=True, \n",
    "        line=dict(width=5),\n",
    "    )\n",
    "    # fig.show()\n",
    "    fig.write_image(f'attendance_animation/{frame}.png', format='png')\n",
    "\n"
   ]
  },
  {
   "cell_type": "code",
   "execution_count": 838,
   "metadata": {},
   "outputs": [
    {
     "name": "stderr",
     "output_type": "stream",
     "text": [
      "/var/folders/6s/2lcz4zcx0515kv6t7ks2qj0h0000gn/T/ipykernel_66213/240972720.py:3: DeprecationWarning:\n",
      "\n",
      "Starting with ImageIO v3 the behavior of this function will switch to that of iio.v3.imread. To keep the current behavior (and make this warning disappear) use `import imageio.v2 as imageio` or call `imageio.v2.imread` directly.\n",
      "\n"
     ]
    }
   ],
   "source": [
    "import imageio as iio\n",
    "frame_idx = df_indexed.frame\n",
    "frames = np.stack([iio.imread(f\"attendance_animation/{x}.png\") for x in frame_idx], axis=0)\n",
    "iio.mimsave(\"tbd_attendance.gif\", frames, format = 'GIF', duration=5)"
   ]
  },
  {
   "cell_type": "markdown",
   "metadata": {},
   "source": [
    "# Temperature no correlation"
   ]
  },
  {
   "cell_type": "code",
   "execution_count": 859,
   "metadata": {},
   "outputs": [
    {
     "data": {
      "text/html": [
       "<div>                            <div id=\"2b18014b-8a3f-4241-b3ee-71d5ca125f19\" class=\"plotly-graph-div\" style=\"height:525px; width:100%;\"></div>            <script type=\"text/javascript\">                require([\"plotly\"], function(Plotly) {                    window.PLOTLYENV=window.PLOTLYENV || {};                                    if (document.getElementById(\"2b18014b-8a3f-4241-b3ee-71d5ca125f19\")) {                    Plotly.newPlot(                        \"2b18014b-8a3f-4241-b3ee-71d5ca125f19\",                        [{\"name\":\"Number of Riders\",\"x\":[\"2024-01-06T00:00:00\",\"2024-01-13T00:00:00\",\"2024-01-20T00:00:00\",\"2024-01-27T00:00:00\",\"2024-02-03T00:00:00\",\"2024-02-10T00:00:00\",\"2024-02-17T00:00:00\",\"2024-02-24T00:00:00\",\"2024-03-02T00:00:00\",\"2024-03-09T00:00:00\",\"2024-03-16T00:00:00\",\"2024-03-23T00:00:00\",\"2024-03-30T00:00:00\",\"2024-04-06T00:00:00\",\"2024-04-13T00:00:00\",\"2024-04-20T00:00:00\",\"2024-04-27T00:00:00\",\"2024-05-04T00:00:00\",\"2024-05-11T00:00:00\",\"2024-05-18T00:00:00\",\"2024-05-25T00:00:00\",\"2024-06-01T00:00:00\",\"2024-06-08T00:00:00\",\"2024-06-15T00:00:00\",\"2024-06-22T00:00:00\",\"2024-06-29T00:00:00\",\"2024-07-06T00:00:00\",\"2024-07-13T00:00:00\",\"2024-07-20T00:00:00\",\"2024-07-27T00:00:00\",\"2024-08-03T00:00:00\",\"2024-08-10T00:00:00\",\"2024-08-17T00:00:00\",\"2024-08-24T00:00:00\",\"2024-08-31T00:00:00\",\"2024-09-07T00:00:00\",\"2024-09-14T00:00:00\",\"2024-09-21T00:00:00\",\"2024-09-28T00:00:00\",\"2024-10-05T00:00:00\",\"2024-10-12T00:00:00\",\"2024-10-19T00:00:00\",\"2024-10-26T00:00:00\",\"2024-11-02T00:00:00\",\"2024-11-09T00:00:00\",\"2024-11-16T00:00:00\",\"2024-11-23T00:00:00\",\"2024-11-30T00:00:00\",\"2024-12-07T00:00:00\",\"2024-12-14T00:00:00\",\"2024-12-21T00:00:00\",\"2024-12-28T00:00:00\"],\"y\":[null,13.0,null,14.0,16.0,12.0,null,7.0,null,null,7.0,7.0,null,6.0,9.0,10.0,null,null,9.0,null,18.0,10.0,6.0,8.0,9.0,3.0,9.0,8.0,null,6.0,10.0,9.0,14.0,8.0,12.0,12.0,9.0,11.0,13.0,14.0,8.0,9.0,6.0,11.0,9.0,11.0,10.0,10.0,null,11.0,14.0,null],\"type\":\"scatter\",\"xaxis\":\"x\",\"yaxis\":\"y\",\"connectgaps\":true},{\"name\":\"Max Temperature\",\"x\":[\"2024-01-06T00:00:00\",\"2024-01-13T00:00:00\",\"2024-01-20T00:00:00\",\"2024-01-27T00:00:00\",\"2024-02-03T00:00:00\",\"2024-02-10T00:00:00\",\"2024-02-17T00:00:00\",\"2024-02-24T00:00:00\",\"2024-03-02T00:00:00\",\"2024-03-09T00:00:00\",\"2024-03-16T00:00:00\",\"2024-03-23T00:00:00\",\"2024-03-30T00:00:00\",\"2024-04-06T00:00:00\",\"2024-04-13T00:00:00\",\"2024-04-20T00:00:00\",\"2024-04-27T00:00:00\",\"2024-05-04T00:00:00\",\"2024-05-11T00:00:00\",\"2024-05-18T00:00:00\",\"2024-05-25T00:00:00\",\"2024-06-01T00:00:00\",\"2024-06-08T00:00:00\",\"2024-06-15T00:00:00\",\"2024-06-22T00:00:00\",\"2024-06-29T00:00:00\",\"2024-07-06T00:00:00\",\"2024-07-13T00:00:00\",\"2024-07-20T00:00:00\",\"2024-07-27T00:00:00\",\"2024-08-03T00:00:00\",\"2024-08-10T00:00:00\",\"2024-08-17T00:00:00\",\"2024-08-24T00:00:00\",\"2024-08-31T00:00:00\",\"2024-09-07T00:00:00\",\"2024-09-14T00:00:00\",\"2024-09-21T00:00:00\",\"2024-09-28T00:00:00\",\"2024-10-05T00:00:00\",\"2024-10-12T00:00:00\",\"2024-10-19T00:00:00\",\"2024-10-26T00:00:00\",\"2024-11-02T00:00:00\",\"2024-11-09T00:00:00\",\"2024-11-16T00:00:00\",\"2024-11-23T00:00:00\",\"2024-11-30T00:00:00\",\"2024-12-07T00:00:00\",\"2024-12-14T00:00:00\",\"2024-12-21T00:00:00\"],\"y\":[40,55,29,61,51,64,42,53,55,54,66,56,67,57,68,75,60,56,67,65,87,81,86,87,100,93,98,96,87,90,93,91,86,85,82,77,86,83,85,80,82,75,71,66,62,64,58,41,45,43,40],\"type\":\"scatter\",\"xaxis\":\"x\",\"yaxis\":\"y2\",\"connectgaps\":true},{\"name\":\"Avg Temperature\",\"x\":[\"2024-01-06T00:00:00\",\"2024-01-13T00:00:00\",\"2024-01-20T00:00:00\",\"2024-01-27T00:00:00\",\"2024-02-03T00:00:00\",\"2024-02-10T00:00:00\",\"2024-02-17T00:00:00\",\"2024-02-24T00:00:00\",\"2024-03-02T00:00:00\",\"2024-03-09T00:00:00\",\"2024-03-16T00:00:00\",\"2024-03-23T00:00:00\",\"2024-03-30T00:00:00\",\"2024-04-06T00:00:00\",\"2024-04-13T00:00:00\",\"2024-04-20T00:00:00\",\"2024-04-27T00:00:00\",\"2024-05-04T00:00:00\",\"2024-05-11T00:00:00\",\"2024-05-18T00:00:00\",\"2024-05-25T00:00:00\",\"2024-06-01T00:00:00\",\"2024-06-08T00:00:00\",\"2024-06-15T00:00:00\",\"2024-06-22T00:00:00\",\"2024-06-29T00:00:00\",\"2024-07-06T00:00:00\",\"2024-07-13T00:00:00\",\"2024-07-20T00:00:00\",\"2024-07-27T00:00:00\",\"2024-08-03T00:00:00\",\"2024-08-10T00:00:00\",\"2024-08-17T00:00:00\",\"2024-08-24T00:00:00\",\"2024-08-31T00:00:00\",\"2024-09-07T00:00:00\",\"2024-09-14T00:00:00\",\"2024-09-21T00:00:00\",\"2024-09-28T00:00:00\",\"2024-10-05T00:00:00\",\"2024-10-12T00:00:00\",\"2024-10-19T00:00:00\",\"2024-10-26T00:00:00\",\"2024-11-02T00:00:00\",\"2024-11-09T00:00:00\",\"2024-11-16T00:00:00\",\"2024-11-23T00:00:00\",\"2024-11-30T00:00:00\",\"2024-12-07T00:00:00\",\"2024-12-14T00:00:00\",\"2024-12-21T00:00:00\"],\"y\":[36.5,44.5,25.0,51.5,43.0,54.5,36.5,43.0,48.5,49.0,57.0,46.5,53.5,49.0,61.0,65.0,56.0,54.5,57.5,63.5,78.0,69.5,75.0,77.5,88.5,82.0,89.5,85.5,80.5,79.0,84.0,81.5,79.0,75.0,77.0,69.5,75.5,75.5,78.5,70.5,67.0,60.5,61.5,58.0,53.5,56.0,51.0,35.5,36.0,36.5,35.0],\"type\":\"scatter\",\"xaxis\":\"x\",\"yaxis\":\"y2\",\"connectgaps\":true},{\"name\":\"Min Temperature\",\"x\":[\"2024-01-06T00:00:00\",\"2024-01-13T00:00:00\",\"2024-01-20T00:00:00\",\"2024-01-27T00:00:00\",\"2024-02-03T00:00:00\",\"2024-02-10T00:00:00\",\"2024-02-17T00:00:00\",\"2024-02-24T00:00:00\",\"2024-03-02T00:00:00\",\"2024-03-09T00:00:00\",\"2024-03-16T00:00:00\",\"2024-03-23T00:00:00\",\"2024-03-30T00:00:00\",\"2024-04-06T00:00:00\",\"2024-04-13T00:00:00\",\"2024-04-20T00:00:00\",\"2024-04-27T00:00:00\",\"2024-05-04T00:00:00\",\"2024-05-11T00:00:00\",\"2024-05-18T00:00:00\",\"2024-05-25T00:00:00\",\"2024-06-01T00:00:00\",\"2024-06-08T00:00:00\",\"2024-06-15T00:00:00\",\"2024-06-22T00:00:00\",\"2024-06-29T00:00:00\",\"2024-07-06T00:00:00\",\"2024-07-13T00:00:00\",\"2024-07-20T00:00:00\",\"2024-07-27T00:00:00\",\"2024-08-03T00:00:00\",\"2024-08-10T00:00:00\",\"2024-08-17T00:00:00\",\"2024-08-24T00:00:00\",\"2024-08-31T00:00:00\",\"2024-09-07T00:00:00\",\"2024-09-14T00:00:00\",\"2024-09-21T00:00:00\",\"2024-09-28T00:00:00\",\"2024-10-05T00:00:00\",\"2024-10-12T00:00:00\",\"2024-10-19T00:00:00\",\"2024-10-26T00:00:00\",\"2024-11-02T00:00:00\",\"2024-11-09T00:00:00\",\"2024-11-16T00:00:00\",\"2024-11-23T00:00:00\",\"2024-11-30T00:00:00\",\"2024-12-07T00:00:00\",\"2024-12-14T00:00:00\",\"2024-12-21T00:00:00\"],\"y\":[33,34,21,42,35,45,31,33,42,44,48,37,40,41,54,55,52,53,48,62,69,58,64,68,77,71,81,75,74,68,75,72,72,65,72,62,65,68,72,61,52,46,52,50,45,48,44,30,27,30,30],\"type\":\"scatter\",\"xaxis\":\"x\",\"yaxis\":\"y2\",\"connectgaps\":true}],                        {\"template\":{\"data\":{\"histogram2dcontour\":[{\"type\":\"histogram2dcontour\",\"colorbar\":{\"outlinewidth\":0,\"ticks\":\"\"},\"colorscale\":[[0.0,\"#0d0887\"],[0.1111111111111111,\"#46039f\"],[0.2222222222222222,\"#7201a8\"],[0.3333333333333333,\"#9c179e\"],[0.4444444444444444,\"#bd3786\"],[0.5555555555555556,\"#d8576b\"],[0.6666666666666666,\"#ed7953\"],[0.7777777777777778,\"#fb9f3a\"],[0.8888888888888888,\"#fdca26\"],[1.0,\"#f0f921\"]]}],\"choropleth\":[{\"type\":\"choropleth\",\"colorbar\":{\"outlinewidth\":0,\"ticks\":\"\"}}],\"histogram2d\":[{\"type\":\"histogram2d\",\"colorbar\":{\"outlinewidth\":0,\"ticks\":\"\"},\"colorscale\":[[0.0,\"#0d0887\"],[0.1111111111111111,\"#46039f\"],[0.2222222222222222,\"#7201a8\"],[0.3333333333333333,\"#9c179e\"],[0.4444444444444444,\"#bd3786\"],[0.5555555555555556,\"#d8576b\"],[0.6666666666666666,\"#ed7953\"],[0.7777777777777778,\"#fb9f3a\"],[0.8888888888888888,\"#fdca26\"],[1.0,\"#f0f921\"]]}],\"heatmap\":[{\"type\":\"heatmap\",\"colorbar\":{\"outlinewidth\":0,\"ticks\":\"\"},\"colorscale\":[[0.0,\"#0d0887\"],[0.1111111111111111,\"#46039f\"],[0.2222222222222222,\"#7201a8\"],[0.3333333333333333,\"#9c179e\"],[0.4444444444444444,\"#bd3786\"],[0.5555555555555556,\"#d8576b\"],[0.6666666666666666,\"#ed7953\"],[0.7777777777777778,\"#fb9f3a\"],[0.8888888888888888,\"#fdca26\"],[1.0,\"#f0f921\"]]}],\"heatmapgl\":[{\"type\":\"heatmapgl\",\"colorbar\":{\"outlinewidth\":0,\"ticks\":\"\"},\"colorscale\":[[0.0,\"#0d0887\"],[0.1111111111111111,\"#46039f\"],[0.2222222222222222,\"#7201a8\"],[0.3333333333333333,\"#9c179e\"],[0.4444444444444444,\"#bd3786\"],[0.5555555555555556,\"#d8576b\"],[0.6666666666666666,\"#ed7953\"],[0.7777777777777778,\"#fb9f3a\"],[0.8888888888888888,\"#fdca26\"],[1.0,\"#f0f921\"]]}],\"contourcarpet\":[{\"type\":\"contourcarpet\",\"colorbar\":{\"outlinewidth\":0,\"ticks\":\"\"}}],\"contour\":[{\"type\":\"contour\",\"colorbar\":{\"outlinewidth\":0,\"ticks\":\"\"},\"colorscale\":[[0.0,\"#0d0887\"],[0.1111111111111111,\"#46039f\"],[0.2222222222222222,\"#7201a8\"],[0.3333333333333333,\"#9c179e\"],[0.4444444444444444,\"#bd3786\"],[0.5555555555555556,\"#d8576b\"],[0.6666666666666666,\"#ed7953\"],[0.7777777777777778,\"#fb9f3a\"],[0.8888888888888888,\"#fdca26\"],[1.0,\"#f0f921\"]]}],\"surface\":[{\"type\":\"surface\",\"colorbar\":{\"outlinewidth\":0,\"ticks\":\"\"},\"colorscale\":[[0.0,\"#0d0887\"],[0.1111111111111111,\"#46039f\"],[0.2222222222222222,\"#7201a8\"],[0.3333333333333333,\"#9c179e\"],[0.4444444444444444,\"#bd3786\"],[0.5555555555555556,\"#d8576b\"],[0.6666666666666666,\"#ed7953\"],[0.7777777777777778,\"#fb9f3a\"],[0.8888888888888888,\"#fdca26\"],[1.0,\"#f0f921\"]]}],\"mesh3d\":[{\"type\":\"mesh3d\",\"colorbar\":{\"outlinewidth\":0,\"ticks\":\"\"}}],\"scatter\":[{\"fillpattern\":{\"fillmode\":\"overlay\",\"size\":10,\"solidity\":0.2},\"type\":\"scatter\"}],\"parcoords\":[{\"type\":\"parcoords\",\"line\":{\"colorbar\":{\"outlinewidth\":0,\"ticks\":\"\"}}}],\"scatterpolargl\":[{\"type\":\"scatterpolargl\",\"marker\":{\"colorbar\":{\"outlinewidth\":0,\"ticks\":\"\"}}}],\"bar\":[{\"error_x\":{\"color\":\"#2a3f5f\"},\"error_y\":{\"color\":\"#2a3f5f\"},\"marker\":{\"line\":{\"color\":\"#E5ECF6\",\"width\":0.5},\"pattern\":{\"fillmode\":\"overlay\",\"size\":10,\"solidity\":0.2}},\"type\":\"bar\"}],\"scattergeo\":[{\"type\":\"scattergeo\",\"marker\":{\"colorbar\":{\"outlinewidth\":0,\"ticks\":\"\"}}}],\"scatterpolar\":[{\"type\":\"scatterpolar\",\"marker\":{\"colorbar\":{\"outlinewidth\":0,\"ticks\":\"\"}}}],\"histogram\":[{\"marker\":{\"pattern\":{\"fillmode\":\"overlay\",\"size\":10,\"solidity\":0.2}},\"type\":\"histogram\"}],\"scattergl\":[{\"type\":\"scattergl\",\"marker\":{\"colorbar\":{\"outlinewidth\":0,\"ticks\":\"\"}}}],\"scatter3d\":[{\"type\":\"scatter3d\",\"line\":{\"colorbar\":{\"outlinewidth\":0,\"ticks\":\"\"}},\"marker\":{\"colorbar\":{\"outlinewidth\":0,\"ticks\":\"\"}}}],\"scattermapbox\":[{\"type\":\"scattermapbox\",\"marker\":{\"colorbar\":{\"outlinewidth\":0,\"ticks\":\"\"}}}],\"scatterternary\":[{\"type\":\"scatterternary\",\"marker\":{\"colorbar\":{\"outlinewidth\":0,\"ticks\":\"\"}}}],\"scattercarpet\":[{\"type\":\"scattercarpet\",\"marker\":{\"colorbar\":{\"outlinewidth\":0,\"ticks\":\"\"}}}],\"carpet\":[{\"aaxis\":{\"endlinecolor\":\"#2a3f5f\",\"gridcolor\":\"white\",\"linecolor\":\"white\",\"minorgridcolor\":\"white\",\"startlinecolor\":\"#2a3f5f\"},\"baxis\":{\"endlinecolor\":\"#2a3f5f\",\"gridcolor\":\"white\",\"linecolor\":\"white\",\"minorgridcolor\":\"white\",\"startlinecolor\":\"#2a3f5f\"},\"type\":\"carpet\"}],\"table\":[{\"cells\":{\"fill\":{\"color\":\"#EBF0F8\"},\"line\":{\"color\":\"white\"}},\"header\":{\"fill\":{\"color\":\"#C8D4E3\"},\"line\":{\"color\":\"white\"}},\"type\":\"table\"}],\"barpolar\":[{\"marker\":{\"line\":{\"color\":\"#E5ECF6\",\"width\":0.5},\"pattern\":{\"fillmode\":\"overlay\",\"size\":10,\"solidity\":0.2}},\"type\":\"barpolar\"}],\"pie\":[{\"automargin\":true,\"type\":\"pie\"}]},\"layout\":{\"autotypenumbers\":\"strict\",\"colorway\":[\"#636efa\",\"#EF553B\",\"#00cc96\",\"#ab63fa\",\"#FFA15A\",\"#19d3f3\",\"#FF6692\",\"#B6E880\",\"#FF97FF\",\"#FECB52\"],\"font\":{\"color\":\"#2a3f5f\"},\"hovermode\":\"closest\",\"hoverlabel\":{\"align\":\"left\"},\"paper_bgcolor\":\"white\",\"plot_bgcolor\":\"#E5ECF6\",\"polar\":{\"bgcolor\":\"#E5ECF6\",\"angularaxis\":{\"gridcolor\":\"white\",\"linecolor\":\"white\",\"ticks\":\"\"},\"radialaxis\":{\"gridcolor\":\"white\",\"linecolor\":\"white\",\"ticks\":\"\"}},\"ternary\":{\"bgcolor\":\"#E5ECF6\",\"aaxis\":{\"gridcolor\":\"white\",\"linecolor\":\"white\",\"ticks\":\"\"},\"baxis\":{\"gridcolor\":\"white\",\"linecolor\":\"white\",\"ticks\":\"\"},\"caxis\":{\"gridcolor\":\"white\",\"linecolor\":\"white\",\"ticks\":\"\"}},\"coloraxis\":{\"colorbar\":{\"outlinewidth\":0,\"ticks\":\"\"}},\"colorscale\":{\"sequential\":[[0.0,\"#0d0887\"],[0.1111111111111111,\"#46039f\"],[0.2222222222222222,\"#7201a8\"],[0.3333333333333333,\"#9c179e\"],[0.4444444444444444,\"#bd3786\"],[0.5555555555555556,\"#d8576b\"],[0.6666666666666666,\"#ed7953\"],[0.7777777777777778,\"#fb9f3a\"],[0.8888888888888888,\"#fdca26\"],[1.0,\"#f0f921\"]],\"sequentialminus\":[[0.0,\"#0d0887\"],[0.1111111111111111,\"#46039f\"],[0.2222222222222222,\"#7201a8\"],[0.3333333333333333,\"#9c179e\"],[0.4444444444444444,\"#bd3786\"],[0.5555555555555556,\"#d8576b\"],[0.6666666666666666,\"#ed7953\"],[0.7777777777777778,\"#fb9f3a\"],[0.8888888888888888,\"#fdca26\"],[1.0,\"#f0f921\"]],\"diverging\":[[0,\"#8e0152\"],[0.1,\"#c51b7d\"],[0.2,\"#de77ae\"],[0.3,\"#f1b6da\"],[0.4,\"#fde0ef\"],[0.5,\"#f7f7f7\"],[0.6,\"#e6f5d0\"],[0.7,\"#b8e186\"],[0.8,\"#7fbc41\"],[0.9,\"#4d9221\"],[1,\"#276419\"]]},\"xaxis\":{\"gridcolor\":\"white\",\"linecolor\":\"white\",\"ticks\":\"\",\"title\":{\"standoff\":15},\"zerolinecolor\":\"white\",\"automargin\":true,\"zerolinewidth\":2},\"yaxis\":{\"gridcolor\":\"white\",\"linecolor\":\"white\",\"ticks\":\"\",\"title\":{\"standoff\":15},\"zerolinecolor\":\"white\",\"automargin\":true,\"zerolinewidth\":2},\"scene\":{\"xaxis\":{\"backgroundcolor\":\"#E5ECF6\",\"gridcolor\":\"white\",\"linecolor\":\"white\",\"showbackground\":true,\"ticks\":\"\",\"zerolinecolor\":\"white\",\"gridwidth\":2},\"yaxis\":{\"backgroundcolor\":\"#E5ECF6\",\"gridcolor\":\"white\",\"linecolor\":\"white\",\"showbackground\":true,\"ticks\":\"\",\"zerolinecolor\":\"white\",\"gridwidth\":2},\"zaxis\":{\"backgroundcolor\":\"#E5ECF6\",\"gridcolor\":\"white\",\"linecolor\":\"white\",\"showbackground\":true,\"ticks\":\"\",\"zerolinecolor\":\"white\",\"gridwidth\":2}},\"shapedefaults\":{\"line\":{\"color\":\"#2a3f5f\"}},\"annotationdefaults\":{\"arrowcolor\":\"#2a3f5f\",\"arrowhead\":0,\"arrowwidth\":1},\"geo\":{\"bgcolor\":\"white\",\"landcolor\":\"#E5ECF6\",\"subunitcolor\":\"white\",\"showland\":true,\"showlakes\":true,\"lakecolor\":\"white\"},\"title\":{\"x\":0.05},\"mapbox\":{\"style\":\"light\"}}},\"xaxis\":{\"anchor\":\"y\",\"domain\":[0.0,0.94],\"fixedrange\":false,\"dtick\":\"M1\",\"range\":[\"2024-01-01T00:00:00\",\"2024-12-31T00:00:00\"],\"title\":{}},\"yaxis\":{\"anchor\":\"x\",\"domain\":[0.0,1.0],\"title\":{\"text\":\"Number of Riders\"}},\"yaxis2\":{\"anchor\":\"x\",\"overlaying\":\"y\",\"side\":\"right\"},\"title\":{\"x\":0.5},\"margin\":{\"l\":5,\"r\":5,\"t\":35,\"b\":5},\"showlegend\":false},                        {\"responsive\": true}                    ).then(function(){\n",
       "                            \n",
       "var gd = document.getElementById('2b18014b-8a3f-4241-b3ee-71d5ca125f19');\n",
       "var x = new MutationObserver(function (mutations, observer) {{\n",
       "        var display = window.getComputedStyle(gd).display;\n",
       "        if (!display || display === 'none') {{\n",
       "            console.log([gd, 'removed!']);\n",
       "            Plotly.purge(gd);\n",
       "            observer.disconnect();\n",
       "        }}\n",
       "}});\n",
       "\n",
       "// Listen for the removal of the full notebook cells\n",
       "var notebookContainer = gd.closest('#notebook-container');\n",
       "if (notebookContainer) {{\n",
       "    x.observe(notebookContainer, {childList: true});\n",
       "}}\n",
       "\n",
       "// Listen for the clearing of the current output cell\n",
       "var outputEl = gd.closest('.output');\n",
       "if (outputEl) {{\n",
       "    x.observe(outputEl, {childList: true});\n",
       "}}\n",
       "\n",
       "                        })                };                });            </script>        </div>"
      ]
     },
     "metadata": {},
     "output_type": "display_data"
    }
   ],
   "source": [
    "fig = make_subplots(specs=[[{\"secondary_y\": True}]])\n",
    "\n",
    "fig.add_trace(\n",
    "    go.Scatter(x=df[\"date\"], y=df[\"num_riders\"], name=\"Number of Riders\"),\n",
    "    secondary_y=False\n",
    ")\n",
    "\n",
    "fig.add_trace(\n",
    "    go.Scatter(x=weather[\"date\"], y=weather[\" MaxTemperature\"], name=\"Max Temperature\"),\n",
    "    secondary_y=True,\n",
    ")\n",
    "\n",
    "fig.add_trace(\n",
    "    go.Scatter(x=weather[\"date\"], y=weather[\" AvgTemperature\"], name=\"Avg Temperature\"),\n",
    "    secondary_y=True,\n",
    ")\n",
    "\n",
    "fig.add_trace(\n",
    "    go.Scatter(x=weather[\"date\"], y=weather[\" MinTemperature\"], name=\"Min Temperature\"),\n",
    "    secondary_y=True,\n",
    ")\n",
    "\n",
    "fig.update_xaxes(\n",
    "    fixedrange=False,\n",
    "    dtick=\"M1\",\n",
    "    # tickformat=\"%b\",\n",
    "    range=[pd.to_datetime('2024-01-01'),pd.to_datetime('2024-12-31'), ]\n",
    ")\n",
    "fig.update_layout(\n",
    "    title_x=0.5,\n",
    "    # title_text='TBD Ridership and Average Temperature',\n",
    "    # width=450,\n",
    "    # height=800,\n",
    "    margin=dict(l=5, r=5, t=35, b=5),  # left, right, top, bottom margins\n",
    "    xaxis=dict(title=None),\n",
    "    yaxis_title='Number of Riders',\n",
    "    showlegend=False\n",
    ")\n",
    "fig.update_traces(connectgaps=True)\n",
    "fig.show()\n",
    "fig.write_image(f'ridership_vs_temp.png', format='png')"
   ]
  },
  {
   "cell_type": "markdown",
   "metadata": {},
   "source": [
    "## Ride with warmest and coldest temperature\n",
    "\n",
    "Warmest ride: 89.5F\n",
    "\n",
    "Coldest ride: 35F"
   ]
  },
  {
   "cell_type": "markdown",
   "metadata": {},
   "source": [
    "# Sunburst Distribution of Routes and Coffee Shops"
   ]
  },
  {
   "cell_type": "code",
   "execution_count": 649,
   "metadata": {},
   "outputs": [
    {
     "name": "stderr",
     "output_type": "stream",
     "text": [
      "/var/folders/6s/2lcz4zcx0515kv6t7ks2qj0h0000gn/T/ipykernel_66213/3759675856.py:2: SettingWithCopyWarning:\n",
      "\n",
      "\n",
      "A value is trying to be set on a copy of a slice from a DataFrame\n",
      "\n",
      "See the caveats in the documentation: https://pandas.pydata.org/pandas-docs/stable/user_guide/indexing.html#returning-a-view-versus-a-copy\n",
      "\n"
     ]
    }
   ],
   "source": [
    "coffee_shops = df[['coffee_shop', 'route']]\n",
    "coffee_shops.dropna(inplace=True)\n",
    "shops, visit = np.unique(coffee_shops, return_counts=True)"
   ]
  },
  {
   "cell_type": "code",
   "execution_count": 835,
   "metadata": {},
   "outputs": [
    {
     "data": {
      "text/html": [
       "<div>                            <div id=\"ac3b7f9b-d0c5-487a-9d14-4a7107168f98\" class=\"plotly-graph-div\" style=\"height:800px; width:450px;\"></div>            <script type=\"text/javascript\">                require([\"plotly\"], function(Plotly) {                    window.PLOTLYENV=window.PLOTLYENV || {};                                    if (document.getElementById(\"ac3b7f9b-d0c5-487a-9d14-4a7107168f98\")) {                    Plotly.newPlot(                        \"ac3b7f9b-d0c5-487a-9d14-4a7107168f98\",                        [{\"branchvalues\":\"total\",\"domain\":{\"x\":[0.0,1.0],\"y\":[0.0,1.0]},\"hovertemplate\":\"labels=%{label}\\u003cbr\\u003ecount=%{value}\\u003cbr\\u003eparent=%{parent}\\u003cbr\\u003eid=%{id}\\u003cextra\\u003e\\u003c\\u002fextra\\u003e\",\"ids\":[\"MVT Alexandria\\u002fBuzz Bakeshop\",\"WOD\\u002fCaboose\",\"WOD\\u002fCaffe Amouri\",\"CCT-RCP\\u002fCeremony Coffee\",\"ART-MBT\\u002fCity State Brewing Co.\",\"WOD\\u002fEden Center\",\"WOD\\u002fFRAMES\",\"MacArthur-CCT\\u002fGrace Street Coffee\",\"MVT Alexandria\\u002fHyperGoat\",\"Arlington Loop\\u002fJones Pt Park\",\"WOD\\u002fLily's Chocolate\",\"WOD\\u002fNorthside Social\",\"Arlington Loop\\u002fSwing's Coffee\",\"MVT Alexandria\\u002fSwing's Coffee\",\"ART-MBT\\u002fTacos A la Madre\",\"Arlington Loop\\u002fTurkish Cart\",\"MVT Alexandria\\u002fTurkish Lady\",\"ART-MBT\\u002fVigilante Coffee\",\"ART-MBT\",\"Arlington Loop\",\"CCT-RCP\",\"MVT Alexandria\",\"MacArthur-CCT\",\"WOD\"],\"labels\":[\"Buzz Bakeshop\",\"Caboose\",\"Caffe Amouri\",\"Ceremony Coffee\",\"City State Brewing Co.\",\"Eden Center\",\"FRAMES\",\"Grace Street Coffee\",\"HyperGoat\",\"Jones Pt Park\",\"Lily's Chocolate\",\"Northside Social\",\"Swing's Coffee\",\"Swing's Coffee\",\"Tacos A la Madre\",\"Turkish Cart\",\"Turkish Lady\",\"Vigilante Coffee\",\"ART-MBT\",\"Arlington Loop\",\"CCT-RCP\",\"MVT Alexandria\",\"MacArthur-CCT\",\"WOD\"],\"name\":\"\",\"parents\":[\"MVT Alexandria\",\"WOD\",\"WOD\",\"CCT-RCP\",\"ART-MBT\",\"WOD\",\"WOD\",\"MacArthur-CCT\",\"MVT Alexandria\",\"Arlington Loop\",\"WOD\",\"WOD\",\"Arlington Loop\",\"MVT Alexandria\",\"ART-MBT\",\"Arlington Loop\",\"MVT Alexandria\",\"ART-MBT\",\"\",\"\",\"\",\"\",\"\",\"\"],\"values\":[1,2,1,9,1,2,1,1,2,1,1,1,1,3,1,1,1,9,11,3,9,7,1,8],\"type\":\"sunburst\",\"textinfo\":\"label\"}],                        {\"template\":{\"data\":{\"histogram2dcontour\":[{\"type\":\"histogram2dcontour\",\"colorbar\":{\"outlinewidth\":0,\"ticks\":\"\"},\"colorscale\":[[0.0,\"#0d0887\"],[0.1111111111111111,\"#46039f\"],[0.2222222222222222,\"#7201a8\"],[0.3333333333333333,\"#9c179e\"],[0.4444444444444444,\"#bd3786\"],[0.5555555555555556,\"#d8576b\"],[0.6666666666666666,\"#ed7953\"],[0.7777777777777778,\"#fb9f3a\"],[0.8888888888888888,\"#fdca26\"],[1.0,\"#f0f921\"]]}],\"choropleth\":[{\"type\":\"choropleth\",\"colorbar\":{\"outlinewidth\":0,\"ticks\":\"\"}}],\"histogram2d\":[{\"type\":\"histogram2d\",\"colorbar\":{\"outlinewidth\":0,\"ticks\":\"\"},\"colorscale\":[[0.0,\"#0d0887\"],[0.1111111111111111,\"#46039f\"],[0.2222222222222222,\"#7201a8\"],[0.3333333333333333,\"#9c179e\"],[0.4444444444444444,\"#bd3786\"],[0.5555555555555556,\"#d8576b\"],[0.6666666666666666,\"#ed7953\"],[0.7777777777777778,\"#fb9f3a\"],[0.8888888888888888,\"#fdca26\"],[1.0,\"#f0f921\"]]}],\"heatmap\":[{\"type\":\"heatmap\",\"colorbar\":{\"outlinewidth\":0,\"ticks\":\"\"},\"colorscale\":[[0.0,\"#0d0887\"],[0.1111111111111111,\"#46039f\"],[0.2222222222222222,\"#7201a8\"],[0.3333333333333333,\"#9c179e\"],[0.4444444444444444,\"#bd3786\"],[0.5555555555555556,\"#d8576b\"],[0.6666666666666666,\"#ed7953\"],[0.7777777777777778,\"#fb9f3a\"],[0.8888888888888888,\"#fdca26\"],[1.0,\"#f0f921\"]]}],\"heatmapgl\":[{\"type\":\"heatmapgl\",\"colorbar\":{\"outlinewidth\":0,\"ticks\":\"\"},\"colorscale\":[[0.0,\"#0d0887\"],[0.1111111111111111,\"#46039f\"],[0.2222222222222222,\"#7201a8\"],[0.3333333333333333,\"#9c179e\"],[0.4444444444444444,\"#bd3786\"],[0.5555555555555556,\"#d8576b\"],[0.6666666666666666,\"#ed7953\"],[0.7777777777777778,\"#fb9f3a\"],[0.8888888888888888,\"#fdca26\"],[1.0,\"#f0f921\"]]}],\"contourcarpet\":[{\"type\":\"contourcarpet\",\"colorbar\":{\"outlinewidth\":0,\"ticks\":\"\"}}],\"contour\":[{\"type\":\"contour\",\"colorbar\":{\"outlinewidth\":0,\"ticks\":\"\"},\"colorscale\":[[0.0,\"#0d0887\"],[0.1111111111111111,\"#46039f\"],[0.2222222222222222,\"#7201a8\"],[0.3333333333333333,\"#9c179e\"],[0.4444444444444444,\"#bd3786\"],[0.5555555555555556,\"#d8576b\"],[0.6666666666666666,\"#ed7953\"],[0.7777777777777778,\"#fb9f3a\"],[0.8888888888888888,\"#fdca26\"],[1.0,\"#f0f921\"]]}],\"surface\":[{\"type\":\"surface\",\"colorbar\":{\"outlinewidth\":0,\"ticks\":\"\"},\"colorscale\":[[0.0,\"#0d0887\"],[0.1111111111111111,\"#46039f\"],[0.2222222222222222,\"#7201a8\"],[0.3333333333333333,\"#9c179e\"],[0.4444444444444444,\"#bd3786\"],[0.5555555555555556,\"#d8576b\"],[0.6666666666666666,\"#ed7953\"],[0.7777777777777778,\"#fb9f3a\"],[0.8888888888888888,\"#fdca26\"],[1.0,\"#f0f921\"]]}],\"mesh3d\":[{\"type\":\"mesh3d\",\"colorbar\":{\"outlinewidth\":0,\"ticks\":\"\"}}],\"scatter\":[{\"fillpattern\":{\"fillmode\":\"overlay\",\"size\":10,\"solidity\":0.2},\"type\":\"scatter\"}],\"parcoords\":[{\"type\":\"parcoords\",\"line\":{\"colorbar\":{\"outlinewidth\":0,\"ticks\":\"\"}}}],\"scatterpolargl\":[{\"type\":\"scatterpolargl\",\"marker\":{\"colorbar\":{\"outlinewidth\":0,\"ticks\":\"\"}}}],\"bar\":[{\"error_x\":{\"color\":\"#2a3f5f\"},\"error_y\":{\"color\":\"#2a3f5f\"},\"marker\":{\"line\":{\"color\":\"#E5ECF6\",\"width\":0.5},\"pattern\":{\"fillmode\":\"overlay\",\"size\":10,\"solidity\":0.2}},\"type\":\"bar\"}],\"scattergeo\":[{\"type\":\"scattergeo\",\"marker\":{\"colorbar\":{\"outlinewidth\":0,\"ticks\":\"\"}}}],\"scatterpolar\":[{\"type\":\"scatterpolar\",\"marker\":{\"colorbar\":{\"outlinewidth\":0,\"ticks\":\"\"}}}],\"histogram\":[{\"marker\":{\"pattern\":{\"fillmode\":\"overlay\",\"size\":10,\"solidity\":0.2}},\"type\":\"histogram\"}],\"scattergl\":[{\"type\":\"scattergl\",\"marker\":{\"colorbar\":{\"outlinewidth\":0,\"ticks\":\"\"}}}],\"scatter3d\":[{\"type\":\"scatter3d\",\"line\":{\"colorbar\":{\"outlinewidth\":0,\"ticks\":\"\"}},\"marker\":{\"colorbar\":{\"outlinewidth\":0,\"ticks\":\"\"}}}],\"scattermapbox\":[{\"type\":\"scattermapbox\",\"marker\":{\"colorbar\":{\"outlinewidth\":0,\"ticks\":\"\"}}}],\"scatterternary\":[{\"type\":\"scatterternary\",\"marker\":{\"colorbar\":{\"outlinewidth\":0,\"ticks\":\"\"}}}],\"scattercarpet\":[{\"type\":\"scattercarpet\",\"marker\":{\"colorbar\":{\"outlinewidth\":0,\"ticks\":\"\"}}}],\"carpet\":[{\"aaxis\":{\"endlinecolor\":\"#2a3f5f\",\"gridcolor\":\"white\",\"linecolor\":\"white\",\"minorgridcolor\":\"white\",\"startlinecolor\":\"#2a3f5f\"},\"baxis\":{\"endlinecolor\":\"#2a3f5f\",\"gridcolor\":\"white\",\"linecolor\":\"white\",\"minorgridcolor\":\"white\",\"startlinecolor\":\"#2a3f5f\"},\"type\":\"carpet\"}],\"table\":[{\"cells\":{\"fill\":{\"color\":\"#EBF0F8\"},\"line\":{\"color\":\"white\"}},\"header\":{\"fill\":{\"color\":\"#C8D4E3\"},\"line\":{\"color\":\"white\"}},\"type\":\"table\"}],\"barpolar\":[{\"marker\":{\"line\":{\"color\":\"#E5ECF6\",\"width\":0.5},\"pattern\":{\"fillmode\":\"overlay\",\"size\":10,\"solidity\":0.2}},\"type\":\"barpolar\"}],\"pie\":[{\"automargin\":true,\"type\":\"pie\"}]},\"layout\":{\"autotypenumbers\":\"strict\",\"colorway\":[\"#636efa\",\"#EF553B\",\"#00cc96\",\"#ab63fa\",\"#FFA15A\",\"#19d3f3\",\"#FF6692\",\"#B6E880\",\"#FF97FF\",\"#FECB52\"],\"font\":{\"color\":\"#2a3f5f\"},\"hovermode\":\"closest\",\"hoverlabel\":{\"align\":\"left\"},\"paper_bgcolor\":\"white\",\"plot_bgcolor\":\"#E5ECF6\",\"polar\":{\"bgcolor\":\"#E5ECF6\",\"angularaxis\":{\"gridcolor\":\"white\",\"linecolor\":\"white\",\"ticks\":\"\"},\"radialaxis\":{\"gridcolor\":\"white\",\"linecolor\":\"white\",\"ticks\":\"\"}},\"ternary\":{\"bgcolor\":\"#E5ECF6\",\"aaxis\":{\"gridcolor\":\"white\",\"linecolor\":\"white\",\"ticks\":\"\"},\"baxis\":{\"gridcolor\":\"white\",\"linecolor\":\"white\",\"ticks\":\"\"},\"caxis\":{\"gridcolor\":\"white\",\"linecolor\":\"white\",\"ticks\":\"\"}},\"coloraxis\":{\"colorbar\":{\"outlinewidth\":0,\"ticks\":\"\"}},\"colorscale\":{\"sequential\":[[0.0,\"#0d0887\"],[0.1111111111111111,\"#46039f\"],[0.2222222222222222,\"#7201a8\"],[0.3333333333333333,\"#9c179e\"],[0.4444444444444444,\"#bd3786\"],[0.5555555555555556,\"#d8576b\"],[0.6666666666666666,\"#ed7953\"],[0.7777777777777778,\"#fb9f3a\"],[0.8888888888888888,\"#fdca26\"],[1.0,\"#f0f921\"]],\"sequentialminus\":[[0.0,\"#0d0887\"],[0.1111111111111111,\"#46039f\"],[0.2222222222222222,\"#7201a8\"],[0.3333333333333333,\"#9c179e\"],[0.4444444444444444,\"#bd3786\"],[0.5555555555555556,\"#d8576b\"],[0.6666666666666666,\"#ed7953\"],[0.7777777777777778,\"#fb9f3a\"],[0.8888888888888888,\"#fdca26\"],[1.0,\"#f0f921\"]],\"diverging\":[[0,\"#8e0152\"],[0.1,\"#c51b7d\"],[0.2,\"#de77ae\"],[0.3,\"#f1b6da\"],[0.4,\"#fde0ef\"],[0.5,\"#f7f7f7\"],[0.6,\"#e6f5d0\"],[0.7,\"#b8e186\"],[0.8,\"#7fbc41\"],[0.9,\"#4d9221\"],[1,\"#276419\"]]},\"xaxis\":{\"gridcolor\":\"white\",\"linecolor\":\"white\",\"ticks\":\"\",\"title\":{\"standoff\":15},\"zerolinecolor\":\"white\",\"automargin\":true,\"zerolinewidth\":2},\"yaxis\":{\"gridcolor\":\"white\",\"linecolor\":\"white\",\"ticks\":\"\",\"title\":{\"standoff\":15},\"zerolinecolor\":\"white\",\"automargin\":true,\"zerolinewidth\":2},\"scene\":{\"xaxis\":{\"backgroundcolor\":\"#E5ECF6\",\"gridcolor\":\"white\",\"linecolor\":\"white\",\"showbackground\":true,\"ticks\":\"\",\"zerolinecolor\":\"white\",\"gridwidth\":2},\"yaxis\":{\"backgroundcolor\":\"#E5ECF6\",\"gridcolor\":\"white\",\"linecolor\":\"white\",\"showbackground\":true,\"ticks\":\"\",\"zerolinecolor\":\"white\",\"gridwidth\":2},\"zaxis\":{\"backgroundcolor\":\"#E5ECF6\",\"gridcolor\":\"white\",\"linecolor\":\"white\",\"showbackground\":true,\"ticks\":\"\",\"zerolinecolor\":\"white\",\"gridwidth\":2}},\"shapedefaults\":{\"line\":{\"color\":\"#2a3f5f\"}},\"annotationdefaults\":{\"arrowcolor\":\"#2a3f5f\",\"arrowhead\":0,\"arrowwidth\":1},\"geo\":{\"bgcolor\":\"white\",\"landcolor\":\"#E5ECF6\",\"subunitcolor\":\"white\",\"showland\":true,\"showlakes\":true,\"lakecolor\":\"white\"},\"title\":{\"x\":0.05},\"mapbox\":{\"style\":\"light\"}}},\"legend\":{\"tracegroupgap\":0},\"margin\":{\"t\":100,\"l\":5,\"r\":5,\"b\":5},\"width\":450,\"height\":800,\"paper_bgcolor\":\"rgba(0,0,0,0)\",\"plot_bgcolor\":\"rgba(0,0,0,0)\"},                        {\"responsive\": true}                    ).then(function(){\n",
       "                            \n",
       "var gd = document.getElementById('ac3b7f9b-d0c5-487a-9d14-4a7107168f98');\n",
       "var x = new MutationObserver(function (mutations, observer) {{\n",
       "        var display = window.getComputedStyle(gd).display;\n",
       "        if (!display || display === 'none') {{\n",
       "            console.log([gd, 'removed!']);\n",
       "            Plotly.purge(gd);\n",
       "            observer.disconnect();\n",
       "        }}\n",
       "}});\n",
       "\n",
       "// Listen for the removal of the full notebook cells\n",
       "var notebookContainer = gd.closest('#notebook-container');\n",
       "if (notebookContainer) {{\n",
       "    x.observe(notebookContainer, {childList: true});\n",
       "}}\n",
       "\n",
       "// Listen for the clearing of the current output cell\n",
       "var outputEl = gd.closest('.output');\n",
       "if (outputEl) {{\n",
       "    x.observe(outputEl, {childList: true});\n",
       "}}\n",
       "\n",
       "                        })                };                });            </script>        </div>"
      ]
     },
     "metadata": {},
     "output_type": "display_data"
    }
   ],
   "source": [
    "sunburst_coffee = coffee_shops.groupby(['coffee_shop','route']).size().reset_index().rename(columns={0:'count'})\n",
    "fig = px.sunburst(sunburst_coffee, path=['route', 'coffee_shop', ], values='count')\n",
    "fig.update_layout(\n",
    "    width=450,\n",
    "    height=800,\n",
    "    margin=dict(l=5, r=5, t=100, b=5),  # left, right, top, bottom margins\n",
    "    paper_bgcolor='rgba(0,0,0,0)',\n",
    "    plot_bgcolor='rgba(0,0,0,0)',\n",
    ")\n",
    "fig.update_traces(textinfo='label')\n",
    "fig.show()\n",
    "fig.write_image(f'coffee_distribution.png', format='png')\n"
   ]
  },
  {
   "cell_type": "markdown",
   "metadata": {},
   "source": [
    "# Attendance Dataframe Setup\n",
    "Setting up two dataframes for rider leaderboard activity \n",
    "- attendance_leaderboard df for all riders\n",
    "- attendance_regular df for riders who joined more than 3 times this year\n"
   ]
  },
  {
   "cell_type": "code",
   "execution_count": 651,
   "metadata": {},
   "outputs": [],
   "source": [
    "result = [attendance.loc[i, :].values.tolist()[2:] for i in df.index]\n",
    "# Cleaning 'nan' and unknown names (??) from data\n",
    "arr = np.array(result)\n",
    "arr = arr.flatten()\n",
    "arr = arr[arr != 'nan']\n",
    "arr = arr[arr != '??']\n",
    "names, counts = np.unique(arr, return_counts=True)\n",
    "# Creating dataframes\n",
    "attendance_leaderboard = pd.DataFrame({'Name': names, 'Count': counts})\n",
    "attendance_leaderboard = attendance_leaderboard.sort_values(['Count'], ascending=[False])\n",
    "attendance_leaderboard = attendance_leaderboard.reset_index(drop=True)"
   ]
  },
  {
   "cell_type": "code",
   "execution_count": 652,
   "metadata": {},
   "outputs": [],
   "source": [
    "# Calculating data for riding streak and hiatus streak\n",
    "\n",
    "weekly_attendance = pd.Series(result)\n",
    "best_streak = {}\n",
    "longest_break = {}\n",
    "for name in names:\n",
    "    attended = 0\n",
    "    absent = np.nan\n",
    "    longest_streak = 0\n",
    "    longest_hiatus = 0\n",
    "    for week in weekly_attendance:\n",
    "        week = pd.Series(week)\n",
    "        if pd.isnull(week[0]): \n",
    "            continue\n",
    "        elif week.str.contains(name, regex=False).any(): \n",
    "            attended += 1\n",
    "            if attended > longest_streak: longest_streak = attended\n",
    "            if not pd.isnull(absent) and absent > longest_hiatus: longest_hiatus = absent\n",
    "            absent = 0\n",
    "        else: \n",
    "            attended = 0\n",
    "            absent += 1\n",
    "    if absent > longest_hiatus: longest_hiatus = absent # Include current hiatus streak\n",
    "    best_streak[name] = longest_streak\n",
    "    longest_break[name] = longest_hiatus"
   ]
  },
  {
   "cell_type": "code",
   "execution_count": 653,
   "metadata": {},
   "outputs": [],
   "source": [
    "# Adding streak column\n",
    "streak_df = pd.DataFrame.from_dict(best_streak, orient='index', columns=['Streak'] )\n",
    "streak_df = streak_df.sort_values(['Streak'], ascending=[False]).reset_index()\n",
    "streak_df = streak_df.rename(columns={\"index\": \"Name\", \"Streak\":\"Streak\"})\n",
    "attendance_leaderboard = attendance_leaderboard.merge(streak_df, on=\"Name\", how='left')"
   ]
  },
  {
   "cell_type": "code",
   "execution_count": 654,
   "metadata": {},
   "outputs": [],
   "source": [
    "# Adding hiatus column \n",
    "hiatus_df = pd.DataFrame.from_dict(longest_break, orient='index', columns=['Hiatus'] )\n",
    "hiatus_df = hiatus_df.sort_values(['Hiatus'], ascending=[False]).reset_index()\n",
    "hiatus_df = hiatus_df.rename(columns={\"index\": \"Name\", \"Hiatus\":\"Hiatus\"})\n",
    "attendance_leaderboard = attendance_leaderboard.merge(hiatus_df, on=\"Name\", how='left')\n"
   ]
  },
  {
   "cell_type": "code",
   "execution_count": 851,
   "metadata": {},
   "outputs": [],
   "source": [
    "# Creating df for regular (ride count > 3)\n",
    "attendance_regular = attendance_leaderboard[attendance_leaderboard.Count > 5]"
   ]
  },
  {
   "cell_type": "markdown",
   "metadata": {},
   "source": [
    "# Rider Leaderboards\n",
    "- Rider Attendance\n",
    "- Rider Streak\n",
    "- Rider Hiatus Streak"
   ]
  },
  {
   "cell_type": "code",
   "execution_count": null,
   "metadata": {},
   "outputs": [
    {
     "data": {
      "text/html": [
       "<div>                            <div id=\"393b1f0b-92cc-4685-8d50-cdd77f373268\" class=\"plotly-graph-div\" style=\"height:800px; width:600px;\"></div>            <script type=\"text/javascript\">                require([\"plotly\"], function(Plotly) {                    window.PLOTLYENV=window.PLOTLYENV || {};                                    if (document.getElementById(\"393b1f0b-92cc-4685-8d50-cdd77f373268\")) {                    Plotly.newPlot(                        \"393b1f0b-92cc-4685-8d50-cdd77f373268\",                        [{\"alignmentgroup\":\"True\",\"hovertemplate\":\"Count=%{x}\\u003cbr\\u003eName=%{y}\\u003cextra\\u003e\\u003c\\u002fextra\\u003e\",\"legendgroup\":\"\",\"marker\":{\"color\":\"#636efa\",\"pattern\":{\"shape\":\"\"}},\"name\":\"\",\"offsetgroup\":\"\",\"orientation\":\"h\",\"showlegend\":false,\"textposition\":\"auto\",\"texttemplate\":\"%{x}\",\"x\":[32,25,22,19,19,18,16,10,10,9,9,9,9,9,8,8,8,7,7,6,6,6,6],\"xaxis\":\"x\",\"y\":[\"Anna\",\"David K\",\"Josh\",\"Wenbo\",\"Sten\",\"David M\",\"Will\",\"Ben Lin\",\"Apple\",\"Evan\",\"Bonnie\",\"Vignesh\",\"Constance\",\"Katie\",\"Thu\",\"Michael\",\"Jing\",\"Ben Law\",\"Hardy\",\"Jarrett\",\"Louie\",\"Ilana\",\"Alex\"],\"yaxis\":\"y\",\"type\":\"bar\"}],                        {\"template\":{\"data\":{\"histogram2dcontour\":[{\"type\":\"histogram2dcontour\",\"colorbar\":{\"outlinewidth\":0,\"ticks\":\"\"},\"colorscale\":[[0.0,\"#0d0887\"],[0.1111111111111111,\"#46039f\"],[0.2222222222222222,\"#7201a8\"],[0.3333333333333333,\"#9c179e\"],[0.4444444444444444,\"#bd3786\"],[0.5555555555555556,\"#d8576b\"],[0.6666666666666666,\"#ed7953\"],[0.7777777777777778,\"#fb9f3a\"],[0.8888888888888888,\"#fdca26\"],[1.0,\"#f0f921\"]]}],\"choropleth\":[{\"type\":\"choropleth\",\"colorbar\":{\"outlinewidth\":0,\"ticks\":\"\"}}],\"histogram2d\":[{\"type\":\"histogram2d\",\"colorbar\":{\"outlinewidth\":0,\"ticks\":\"\"},\"colorscale\":[[0.0,\"#0d0887\"],[0.1111111111111111,\"#46039f\"],[0.2222222222222222,\"#7201a8\"],[0.3333333333333333,\"#9c179e\"],[0.4444444444444444,\"#bd3786\"],[0.5555555555555556,\"#d8576b\"],[0.6666666666666666,\"#ed7953\"],[0.7777777777777778,\"#fb9f3a\"],[0.8888888888888888,\"#fdca26\"],[1.0,\"#f0f921\"]]}],\"heatmap\":[{\"type\":\"heatmap\",\"colorbar\":{\"outlinewidth\":0,\"ticks\":\"\"},\"colorscale\":[[0.0,\"#0d0887\"],[0.1111111111111111,\"#46039f\"],[0.2222222222222222,\"#7201a8\"],[0.3333333333333333,\"#9c179e\"],[0.4444444444444444,\"#bd3786\"],[0.5555555555555556,\"#d8576b\"],[0.6666666666666666,\"#ed7953\"],[0.7777777777777778,\"#fb9f3a\"],[0.8888888888888888,\"#fdca26\"],[1.0,\"#f0f921\"]]}],\"heatmapgl\":[{\"type\":\"heatmapgl\",\"colorbar\":{\"outlinewidth\":0,\"ticks\":\"\"},\"colorscale\":[[0.0,\"#0d0887\"],[0.1111111111111111,\"#46039f\"],[0.2222222222222222,\"#7201a8\"],[0.3333333333333333,\"#9c179e\"],[0.4444444444444444,\"#bd3786\"],[0.5555555555555556,\"#d8576b\"],[0.6666666666666666,\"#ed7953\"],[0.7777777777777778,\"#fb9f3a\"],[0.8888888888888888,\"#fdca26\"],[1.0,\"#f0f921\"]]}],\"contourcarpet\":[{\"type\":\"contourcarpet\",\"colorbar\":{\"outlinewidth\":0,\"ticks\":\"\"}}],\"contour\":[{\"type\":\"contour\",\"colorbar\":{\"outlinewidth\":0,\"ticks\":\"\"},\"colorscale\":[[0.0,\"#0d0887\"],[0.1111111111111111,\"#46039f\"],[0.2222222222222222,\"#7201a8\"],[0.3333333333333333,\"#9c179e\"],[0.4444444444444444,\"#bd3786\"],[0.5555555555555556,\"#d8576b\"],[0.6666666666666666,\"#ed7953\"],[0.7777777777777778,\"#fb9f3a\"],[0.8888888888888888,\"#fdca26\"],[1.0,\"#f0f921\"]]}],\"surface\":[{\"type\":\"surface\",\"colorbar\":{\"outlinewidth\":0,\"ticks\":\"\"},\"colorscale\":[[0.0,\"#0d0887\"],[0.1111111111111111,\"#46039f\"],[0.2222222222222222,\"#7201a8\"],[0.3333333333333333,\"#9c179e\"],[0.4444444444444444,\"#bd3786\"],[0.5555555555555556,\"#d8576b\"],[0.6666666666666666,\"#ed7953\"],[0.7777777777777778,\"#fb9f3a\"],[0.8888888888888888,\"#fdca26\"],[1.0,\"#f0f921\"]]}],\"mesh3d\":[{\"type\":\"mesh3d\",\"colorbar\":{\"outlinewidth\":0,\"ticks\":\"\"}}],\"scatter\":[{\"fillpattern\":{\"fillmode\":\"overlay\",\"size\":10,\"solidity\":0.2},\"type\":\"scatter\"}],\"parcoords\":[{\"type\":\"parcoords\",\"line\":{\"colorbar\":{\"outlinewidth\":0,\"ticks\":\"\"}}}],\"scatterpolargl\":[{\"type\":\"scatterpolargl\",\"marker\":{\"colorbar\":{\"outlinewidth\":0,\"ticks\":\"\"}}}],\"bar\":[{\"error_x\":{\"color\":\"#2a3f5f\"},\"error_y\":{\"color\":\"#2a3f5f\"},\"marker\":{\"line\":{\"color\":\"#E5ECF6\",\"width\":0.5},\"pattern\":{\"fillmode\":\"overlay\",\"size\":10,\"solidity\":0.2}},\"type\":\"bar\"}],\"scattergeo\":[{\"type\":\"scattergeo\",\"marker\":{\"colorbar\":{\"outlinewidth\":0,\"ticks\":\"\"}}}],\"scatterpolar\":[{\"type\":\"scatterpolar\",\"marker\":{\"colorbar\":{\"outlinewidth\":0,\"ticks\":\"\"}}}],\"histogram\":[{\"marker\":{\"pattern\":{\"fillmode\":\"overlay\",\"size\":10,\"solidity\":0.2}},\"type\":\"histogram\"}],\"scattergl\":[{\"type\":\"scattergl\",\"marker\":{\"colorbar\":{\"outlinewidth\":0,\"ticks\":\"\"}}}],\"scatter3d\":[{\"type\":\"scatter3d\",\"line\":{\"colorbar\":{\"outlinewidth\":0,\"ticks\":\"\"}},\"marker\":{\"colorbar\":{\"outlinewidth\":0,\"ticks\":\"\"}}}],\"scattermapbox\":[{\"type\":\"scattermapbox\",\"marker\":{\"colorbar\":{\"outlinewidth\":0,\"ticks\":\"\"}}}],\"scatterternary\":[{\"type\":\"scatterternary\",\"marker\":{\"colorbar\":{\"outlinewidth\":0,\"ticks\":\"\"}}}],\"scattercarpet\":[{\"type\":\"scattercarpet\",\"marker\":{\"colorbar\":{\"outlinewidth\":0,\"ticks\":\"\"}}}],\"carpet\":[{\"aaxis\":{\"endlinecolor\":\"#2a3f5f\",\"gridcolor\":\"white\",\"linecolor\":\"white\",\"minorgridcolor\":\"white\",\"startlinecolor\":\"#2a3f5f\"},\"baxis\":{\"endlinecolor\":\"#2a3f5f\",\"gridcolor\":\"white\",\"linecolor\":\"white\",\"minorgridcolor\":\"white\",\"startlinecolor\":\"#2a3f5f\"},\"type\":\"carpet\"}],\"table\":[{\"cells\":{\"fill\":{\"color\":\"#EBF0F8\"},\"line\":{\"color\":\"white\"}},\"header\":{\"fill\":{\"color\":\"#C8D4E3\"},\"line\":{\"color\":\"white\"}},\"type\":\"table\"}],\"barpolar\":[{\"marker\":{\"line\":{\"color\":\"#E5ECF6\",\"width\":0.5},\"pattern\":{\"fillmode\":\"overlay\",\"size\":10,\"solidity\":0.2}},\"type\":\"barpolar\"}],\"pie\":[{\"automargin\":true,\"type\":\"pie\"}]},\"layout\":{\"autotypenumbers\":\"strict\",\"colorway\":[\"#636efa\",\"#EF553B\",\"#00cc96\",\"#ab63fa\",\"#FFA15A\",\"#19d3f3\",\"#FF6692\",\"#B6E880\",\"#FF97FF\",\"#FECB52\"],\"font\":{\"color\":\"#2a3f5f\"},\"hovermode\":\"closest\",\"hoverlabel\":{\"align\":\"left\"},\"paper_bgcolor\":\"white\",\"plot_bgcolor\":\"#E5ECF6\",\"polar\":{\"bgcolor\":\"#E5ECF6\",\"angularaxis\":{\"gridcolor\":\"white\",\"linecolor\":\"white\",\"ticks\":\"\"},\"radialaxis\":{\"gridcolor\":\"white\",\"linecolor\":\"white\",\"ticks\":\"\"}},\"ternary\":{\"bgcolor\":\"#E5ECF6\",\"aaxis\":{\"gridcolor\":\"white\",\"linecolor\":\"white\",\"ticks\":\"\"},\"baxis\":{\"gridcolor\":\"white\",\"linecolor\":\"white\",\"ticks\":\"\"},\"caxis\":{\"gridcolor\":\"white\",\"linecolor\":\"white\",\"ticks\":\"\"}},\"coloraxis\":{\"colorbar\":{\"outlinewidth\":0,\"ticks\":\"\"}},\"colorscale\":{\"sequential\":[[0.0,\"#0d0887\"],[0.1111111111111111,\"#46039f\"],[0.2222222222222222,\"#7201a8\"],[0.3333333333333333,\"#9c179e\"],[0.4444444444444444,\"#bd3786\"],[0.5555555555555556,\"#d8576b\"],[0.6666666666666666,\"#ed7953\"],[0.7777777777777778,\"#fb9f3a\"],[0.8888888888888888,\"#fdca26\"],[1.0,\"#f0f921\"]],\"sequentialminus\":[[0.0,\"#0d0887\"],[0.1111111111111111,\"#46039f\"],[0.2222222222222222,\"#7201a8\"],[0.3333333333333333,\"#9c179e\"],[0.4444444444444444,\"#bd3786\"],[0.5555555555555556,\"#d8576b\"],[0.6666666666666666,\"#ed7953\"],[0.7777777777777778,\"#fb9f3a\"],[0.8888888888888888,\"#fdca26\"],[1.0,\"#f0f921\"]],\"diverging\":[[0,\"#8e0152\"],[0.1,\"#c51b7d\"],[0.2,\"#de77ae\"],[0.3,\"#f1b6da\"],[0.4,\"#fde0ef\"],[0.5,\"#f7f7f7\"],[0.6,\"#e6f5d0\"],[0.7,\"#b8e186\"],[0.8,\"#7fbc41\"],[0.9,\"#4d9221\"],[1,\"#276419\"]]},\"xaxis\":{\"gridcolor\":\"white\",\"linecolor\":\"white\",\"ticks\":\"\",\"title\":{\"standoff\":15},\"zerolinecolor\":\"white\",\"automargin\":true,\"zerolinewidth\":2},\"yaxis\":{\"gridcolor\":\"white\",\"linecolor\":\"white\",\"ticks\":\"\",\"title\":{\"standoff\":15},\"zerolinecolor\":\"white\",\"automargin\":true,\"zerolinewidth\":2},\"scene\":{\"xaxis\":{\"backgroundcolor\":\"#E5ECF6\",\"gridcolor\":\"white\",\"linecolor\":\"white\",\"showbackground\":true,\"ticks\":\"\",\"zerolinecolor\":\"white\",\"gridwidth\":2},\"yaxis\":{\"backgroundcolor\":\"#E5ECF6\",\"gridcolor\":\"white\",\"linecolor\":\"white\",\"showbackground\":true,\"ticks\":\"\",\"zerolinecolor\":\"white\",\"gridwidth\":2},\"zaxis\":{\"backgroundcolor\":\"#E5ECF6\",\"gridcolor\":\"white\",\"linecolor\":\"white\",\"showbackground\":true,\"ticks\":\"\",\"zerolinecolor\":\"white\",\"gridwidth\":2}},\"shapedefaults\":{\"line\":{\"color\":\"#2a3f5f\"}},\"annotationdefaults\":{\"arrowcolor\":\"#2a3f5f\",\"arrowhead\":0,\"arrowwidth\":1},\"geo\":{\"bgcolor\":\"white\",\"landcolor\":\"#E5ECF6\",\"subunitcolor\":\"white\",\"showland\":true,\"showlakes\":true,\"lakecolor\":\"white\"},\"title\":{\"x\":0.05},\"mapbox\":{\"style\":\"light\"}}},\"xaxis\":{\"anchor\":\"y\",\"domain\":[0.0,1.0],\"title\":{\"text\":\"Number of Rides\"}},\"yaxis\":{\"anchor\":\"x\",\"domain\":[0.0,1.0],\"title\":{},\"categoryorder\":\"total ascending\"},\"legend\":{\"tracegroupgap\":0},\"title\":{\"text\":\"Rider Attendance Leaderboard\",\"x\":0.5},\"barmode\":\"stack\",\"margin\":{\"l\":5,\"r\":5,\"t\":50,\"b\":5},\"width\":600,\"height\":800,\"paper_bgcolor\":\"rgba(0,0,0,0)\",\"plot_bgcolor\":\"rgba(0,0,0,0)\"},                        {\"responsive\": true}                    ).then(function(){\n",
       "                            \n",
       "var gd = document.getElementById('393b1f0b-92cc-4685-8d50-cdd77f373268');\n",
       "var x = new MutationObserver(function (mutations, observer) {{\n",
       "        var display = window.getComputedStyle(gd).display;\n",
       "        if (!display || display === 'none') {{\n",
       "            console.log([gd, 'removed!']);\n",
       "            Plotly.purge(gd);\n",
       "            observer.disconnect();\n",
       "        }}\n",
       "}});\n",
       "\n",
       "// Listen for the removal of the full notebook cells\n",
       "var notebookContainer = gd.closest('#notebook-container');\n",
       "if (notebookContainer) {{\n",
       "    x.observe(notebookContainer, {childList: true});\n",
       "}}\n",
       "\n",
       "// Listen for the clearing of the current output cell\n",
       "var outputEl = gd.closest('.output');\n",
       "if (outputEl) {{\n",
       "    x.observe(outputEl, {childList: true});\n",
       "}}\n",
       "\n",
       "                        })                };                });            </script>        </div>"
      ]
     },
     "metadata": {},
     "output_type": "display_data"
    }
   ],
   "source": [
    "fig = px.bar(\n",
    "    attendance_regular, \n",
    "    y=\"Name\", x=\"Count\",\n",
    "    title=\"Rider Attendance Leaderboard\", \n",
    "    text_auto=True)\n",
    "fig.update_layout(\n",
    "    title_x=0.5,\n",
    "    width=600,\n",
    "    height=800,\n",
    "    margin=dict(l=5, r=5, t=50, b=5),  # left, right, top, bottom margins\n",
    "    yaxis=dict(title=None, categoryorder='total ascending'),\n",
    "    xaxis_title='Number of Rides',\n",
    "    barmode='stack',\n",
    "    paper_bgcolor='rgba(0,0,0,0)',\n",
    "    plot_bgcolor='rgba(0,0,0,0)',\n",
    ")\n",
    "\n",
    "fig.show()\n",
    "fig.write_image(f'attendance_leaderboard.png', format='png')"
   ]
  },
  {
   "cell_type": "code",
   "execution_count": 853,
   "metadata": {},
   "outputs": [
    {
     "data": {
      "text/html": [
       "<div>                            <div id=\"0de2b29a-494a-4823-be13-f3965fef6760\" class=\"plotly-graph-div\" style=\"height:800px; width:600px;\"></div>            <script type=\"text/javascript\">                require([\"plotly\"], function(Plotly) {                    window.PLOTLYENV=window.PLOTLYENV || {};                                    if (document.getElementById(\"0de2b29a-494a-4823-be13-f3965fef6760\")) {                    Plotly.newPlot(                        \"0de2b29a-494a-4823-be13-f3965fef6760\",                        [{\"alignmentgroup\":\"True\",\"hovertemplate\":\"Streak=%{x}\\u003cbr\\u003eName=%{y}\\u003cextra\\u003e\\u003c\\u002fextra\\u003e\",\"legendgroup\":\"\",\"marker\":{\"color\":\"#636efa\",\"pattern\":{\"shape\":\"\"}},\"name\":\"\",\"offsetgroup\":\"\",\"orientation\":\"h\",\"showlegend\":false,\"textposition\":\"auto\",\"texttemplate\":\"%{x}\",\"x\":[7,4,6,6,4,6,2,4,3,2,2,8,3,3,7,7,2,3,3,3,2,2,3],\"xaxis\":\"x\",\"y\":[\"Anna\",\"David K\",\"Josh\",\"Wenbo\",\"Sten\",\"David M\",\"Will\",\"Ben Lin\",\"Apple\",\"Evan\",\"Bonnie\",\"Vignesh\",\"Constance\",\"Katie\",\"Thu\",\"Michael\",\"Jing\",\"Ben Law\",\"Hardy\",\"Jarrett\",\"Louie\",\"Ilana\",\"Alex\"],\"yaxis\":\"y\",\"type\":\"bar\"}],                        {\"template\":{\"data\":{\"histogram2dcontour\":[{\"type\":\"histogram2dcontour\",\"colorbar\":{\"outlinewidth\":0,\"ticks\":\"\"},\"colorscale\":[[0.0,\"#0d0887\"],[0.1111111111111111,\"#46039f\"],[0.2222222222222222,\"#7201a8\"],[0.3333333333333333,\"#9c179e\"],[0.4444444444444444,\"#bd3786\"],[0.5555555555555556,\"#d8576b\"],[0.6666666666666666,\"#ed7953\"],[0.7777777777777778,\"#fb9f3a\"],[0.8888888888888888,\"#fdca26\"],[1.0,\"#f0f921\"]]}],\"choropleth\":[{\"type\":\"choropleth\",\"colorbar\":{\"outlinewidth\":0,\"ticks\":\"\"}}],\"histogram2d\":[{\"type\":\"histogram2d\",\"colorbar\":{\"outlinewidth\":0,\"ticks\":\"\"},\"colorscale\":[[0.0,\"#0d0887\"],[0.1111111111111111,\"#46039f\"],[0.2222222222222222,\"#7201a8\"],[0.3333333333333333,\"#9c179e\"],[0.4444444444444444,\"#bd3786\"],[0.5555555555555556,\"#d8576b\"],[0.6666666666666666,\"#ed7953\"],[0.7777777777777778,\"#fb9f3a\"],[0.8888888888888888,\"#fdca26\"],[1.0,\"#f0f921\"]]}],\"heatmap\":[{\"type\":\"heatmap\",\"colorbar\":{\"outlinewidth\":0,\"ticks\":\"\"},\"colorscale\":[[0.0,\"#0d0887\"],[0.1111111111111111,\"#46039f\"],[0.2222222222222222,\"#7201a8\"],[0.3333333333333333,\"#9c179e\"],[0.4444444444444444,\"#bd3786\"],[0.5555555555555556,\"#d8576b\"],[0.6666666666666666,\"#ed7953\"],[0.7777777777777778,\"#fb9f3a\"],[0.8888888888888888,\"#fdca26\"],[1.0,\"#f0f921\"]]}],\"heatmapgl\":[{\"type\":\"heatmapgl\",\"colorbar\":{\"outlinewidth\":0,\"ticks\":\"\"},\"colorscale\":[[0.0,\"#0d0887\"],[0.1111111111111111,\"#46039f\"],[0.2222222222222222,\"#7201a8\"],[0.3333333333333333,\"#9c179e\"],[0.4444444444444444,\"#bd3786\"],[0.5555555555555556,\"#d8576b\"],[0.6666666666666666,\"#ed7953\"],[0.7777777777777778,\"#fb9f3a\"],[0.8888888888888888,\"#fdca26\"],[1.0,\"#f0f921\"]]}],\"contourcarpet\":[{\"type\":\"contourcarpet\",\"colorbar\":{\"outlinewidth\":0,\"ticks\":\"\"}}],\"contour\":[{\"type\":\"contour\",\"colorbar\":{\"outlinewidth\":0,\"ticks\":\"\"},\"colorscale\":[[0.0,\"#0d0887\"],[0.1111111111111111,\"#46039f\"],[0.2222222222222222,\"#7201a8\"],[0.3333333333333333,\"#9c179e\"],[0.4444444444444444,\"#bd3786\"],[0.5555555555555556,\"#d8576b\"],[0.6666666666666666,\"#ed7953\"],[0.7777777777777778,\"#fb9f3a\"],[0.8888888888888888,\"#fdca26\"],[1.0,\"#f0f921\"]]}],\"surface\":[{\"type\":\"surface\",\"colorbar\":{\"outlinewidth\":0,\"ticks\":\"\"},\"colorscale\":[[0.0,\"#0d0887\"],[0.1111111111111111,\"#46039f\"],[0.2222222222222222,\"#7201a8\"],[0.3333333333333333,\"#9c179e\"],[0.4444444444444444,\"#bd3786\"],[0.5555555555555556,\"#d8576b\"],[0.6666666666666666,\"#ed7953\"],[0.7777777777777778,\"#fb9f3a\"],[0.8888888888888888,\"#fdca26\"],[1.0,\"#f0f921\"]]}],\"mesh3d\":[{\"type\":\"mesh3d\",\"colorbar\":{\"outlinewidth\":0,\"ticks\":\"\"}}],\"scatter\":[{\"fillpattern\":{\"fillmode\":\"overlay\",\"size\":10,\"solidity\":0.2},\"type\":\"scatter\"}],\"parcoords\":[{\"type\":\"parcoords\",\"line\":{\"colorbar\":{\"outlinewidth\":0,\"ticks\":\"\"}}}],\"scatterpolargl\":[{\"type\":\"scatterpolargl\",\"marker\":{\"colorbar\":{\"outlinewidth\":0,\"ticks\":\"\"}}}],\"bar\":[{\"error_x\":{\"color\":\"#2a3f5f\"},\"error_y\":{\"color\":\"#2a3f5f\"},\"marker\":{\"line\":{\"color\":\"#E5ECF6\",\"width\":0.5},\"pattern\":{\"fillmode\":\"overlay\",\"size\":10,\"solidity\":0.2}},\"type\":\"bar\"}],\"scattergeo\":[{\"type\":\"scattergeo\",\"marker\":{\"colorbar\":{\"outlinewidth\":0,\"ticks\":\"\"}}}],\"scatterpolar\":[{\"type\":\"scatterpolar\",\"marker\":{\"colorbar\":{\"outlinewidth\":0,\"ticks\":\"\"}}}],\"histogram\":[{\"marker\":{\"pattern\":{\"fillmode\":\"overlay\",\"size\":10,\"solidity\":0.2}},\"type\":\"histogram\"}],\"scattergl\":[{\"type\":\"scattergl\",\"marker\":{\"colorbar\":{\"outlinewidth\":0,\"ticks\":\"\"}}}],\"scatter3d\":[{\"type\":\"scatter3d\",\"line\":{\"colorbar\":{\"outlinewidth\":0,\"ticks\":\"\"}},\"marker\":{\"colorbar\":{\"outlinewidth\":0,\"ticks\":\"\"}}}],\"scattermapbox\":[{\"type\":\"scattermapbox\",\"marker\":{\"colorbar\":{\"outlinewidth\":0,\"ticks\":\"\"}}}],\"scatterternary\":[{\"type\":\"scatterternary\",\"marker\":{\"colorbar\":{\"outlinewidth\":0,\"ticks\":\"\"}}}],\"scattercarpet\":[{\"type\":\"scattercarpet\",\"marker\":{\"colorbar\":{\"outlinewidth\":0,\"ticks\":\"\"}}}],\"carpet\":[{\"aaxis\":{\"endlinecolor\":\"#2a3f5f\",\"gridcolor\":\"white\",\"linecolor\":\"white\",\"minorgridcolor\":\"white\",\"startlinecolor\":\"#2a3f5f\"},\"baxis\":{\"endlinecolor\":\"#2a3f5f\",\"gridcolor\":\"white\",\"linecolor\":\"white\",\"minorgridcolor\":\"white\",\"startlinecolor\":\"#2a3f5f\"},\"type\":\"carpet\"}],\"table\":[{\"cells\":{\"fill\":{\"color\":\"#EBF0F8\"},\"line\":{\"color\":\"white\"}},\"header\":{\"fill\":{\"color\":\"#C8D4E3\"},\"line\":{\"color\":\"white\"}},\"type\":\"table\"}],\"barpolar\":[{\"marker\":{\"line\":{\"color\":\"#E5ECF6\",\"width\":0.5},\"pattern\":{\"fillmode\":\"overlay\",\"size\":10,\"solidity\":0.2}},\"type\":\"barpolar\"}],\"pie\":[{\"automargin\":true,\"type\":\"pie\"}]},\"layout\":{\"autotypenumbers\":\"strict\",\"colorway\":[\"#636efa\",\"#EF553B\",\"#00cc96\",\"#ab63fa\",\"#FFA15A\",\"#19d3f3\",\"#FF6692\",\"#B6E880\",\"#FF97FF\",\"#FECB52\"],\"font\":{\"color\":\"#2a3f5f\"},\"hovermode\":\"closest\",\"hoverlabel\":{\"align\":\"left\"},\"paper_bgcolor\":\"white\",\"plot_bgcolor\":\"#E5ECF6\",\"polar\":{\"bgcolor\":\"#E5ECF6\",\"angularaxis\":{\"gridcolor\":\"white\",\"linecolor\":\"white\",\"ticks\":\"\"},\"radialaxis\":{\"gridcolor\":\"white\",\"linecolor\":\"white\",\"ticks\":\"\"}},\"ternary\":{\"bgcolor\":\"#E5ECF6\",\"aaxis\":{\"gridcolor\":\"white\",\"linecolor\":\"white\",\"ticks\":\"\"},\"baxis\":{\"gridcolor\":\"white\",\"linecolor\":\"white\",\"ticks\":\"\"},\"caxis\":{\"gridcolor\":\"white\",\"linecolor\":\"white\",\"ticks\":\"\"}},\"coloraxis\":{\"colorbar\":{\"outlinewidth\":0,\"ticks\":\"\"}},\"colorscale\":{\"sequential\":[[0.0,\"#0d0887\"],[0.1111111111111111,\"#46039f\"],[0.2222222222222222,\"#7201a8\"],[0.3333333333333333,\"#9c179e\"],[0.4444444444444444,\"#bd3786\"],[0.5555555555555556,\"#d8576b\"],[0.6666666666666666,\"#ed7953\"],[0.7777777777777778,\"#fb9f3a\"],[0.8888888888888888,\"#fdca26\"],[1.0,\"#f0f921\"]],\"sequentialminus\":[[0.0,\"#0d0887\"],[0.1111111111111111,\"#46039f\"],[0.2222222222222222,\"#7201a8\"],[0.3333333333333333,\"#9c179e\"],[0.4444444444444444,\"#bd3786\"],[0.5555555555555556,\"#d8576b\"],[0.6666666666666666,\"#ed7953\"],[0.7777777777777778,\"#fb9f3a\"],[0.8888888888888888,\"#fdca26\"],[1.0,\"#f0f921\"]],\"diverging\":[[0,\"#8e0152\"],[0.1,\"#c51b7d\"],[0.2,\"#de77ae\"],[0.3,\"#f1b6da\"],[0.4,\"#fde0ef\"],[0.5,\"#f7f7f7\"],[0.6,\"#e6f5d0\"],[0.7,\"#b8e186\"],[0.8,\"#7fbc41\"],[0.9,\"#4d9221\"],[1,\"#276419\"]]},\"xaxis\":{\"gridcolor\":\"white\",\"linecolor\":\"white\",\"ticks\":\"\",\"title\":{\"standoff\":15},\"zerolinecolor\":\"white\",\"automargin\":true,\"zerolinewidth\":2},\"yaxis\":{\"gridcolor\":\"white\",\"linecolor\":\"white\",\"ticks\":\"\",\"title\":{\"standoff\":15},\"zerolinecolor\":\"white\",\"automargin\":true,\"zerolinewidth\":2},\"scene\":{\"xaxis\":{\"backgroundcolor\":\"#E5ECF6\",\"gridcolor\":\"white\",\"linecolor\":\"white\",\"showbackground\":true,\"ticks\":\"\",\"zerolinecolor\":\"white\",\"gridwidth\":2},\"yaxis\":{\"backgroundcolor\":\"#E5ECF6\",\"gridcolor\":\"white\",\"linecolor\":\"white\",\"showbackground\":true,\"ticks\":\"\",\"zerolinecolor\":\"white\",\"gridwidth\":2},\"zaxis\":{\"backgroundcolor\":\"#E5ECF6\",\"gridcolor\":\"white\",\"linecolor\":\"white\",\"showbackground\":true,\"ticks\":\"\",\"zerolinecolor\":\"white\",\"gridwidth\":2}},\"shapedefaults\":{\"line\":{\"color\":\"#2a3f5f\"}},\"annotationdefaults\":{\"arrowcolor\":\"#2a3f5f\",\"arrowhead\":0,\"arrowwidth\":1},\"geo\":{\"bgcolor\":\"white\",\"landcolor\":\"#E5ECF6\",\"subunitcolor\":\"white\",\"showland\":true,\"showlakes\":true,\"lakecolor\":\"white\"},\"title\":{\"x\":0.05},\"mapbox\":{\"style\":\"light\"}}},\"xaxis\":{\"anchor\":\"y\",\"domain\":[0.0,1.0],\"title\":{\"text\":\"Longest Ride Streak\"}},\"yaxis\":{\"anchor\":\"x\",\"domain\":[0.0,1.0],\"title\":{},\"categoryorder\":\"total ascending\"},\"legend\":{\"tracegroupgap\":0},\"margin\":{\"t\":50,\"l\":10,\"r\":10,\"b\":10},\"barmode\":\"stack\",\"title\":{\"x\":0.5},\"width\":600,\"height\":800,\"paper_bgcolor\":\"rgba(0,0,0,0)\",\"plot_bgcolor\":\"rgba(0,0,0,0)\"},                        {\"responsive\": true}                    ).then(function(){\n",
       "                            \n",
       "var gd = document.getElementById('0de2b29a-494a-4823-be13-f3965fef6760');\n",
       "var x = new MutationObserver(function (mutations, observer) {{\n",
       "        var display = window.getComputedStyle(gd).display;\n",
       "        if (!display || display === 'none') {{\n",
       "            console.log([gd, 'removed!']);\n",
       "            Plotly.purge(gd);\n",
       "            observer.disconnect();\n",
       "        }}\n",
       "}});\n",
       "\n",
       "// Listen for the removal of the full notebook cells\n",
       "var notebookContainer = gd.closest('#notebook-container');\n",
       "if (notebookContainer) {{\n",
       "    x.observe(notebookContainer, {childList: true});\n",
       "}}\n",
       "\n",
       "// Listen for the clearing of the current output cell\n",
       "var outputEl = gd.closest('.output');\n",
       "if (outputEl) {{\n",
       "    x.observe(outputEl, {childList: true});\n",
       "}}\n",
       "\n",
       "                        })                };                });            </script>        </div>"
      ]
     },
     "metadata": {},
     "output_type": "display_data"
    }
   ],
   "source": [
    "# Rider Streak Leaderboard\n",
    "fig = px.bar(attendance_regular, y=\"Name\", x=\"Streak\", text_auto=True)\n",
    "fig.update_layout(\n",
    "    title_x=0.5,\n",
    "    width=600,\n",
    "    height=800,\n",
    "    margin=dict(l=10, r=10, t=50, b=10),  # left, right, top, bottom margins\n",
    "    yaxis=dict(title=None, categoryorder='total ascending'),\n",
    "    xaxis_title='Ride Streak Length',\n",
    "    barmode='stack', \n",
    "    paper_bgcolor='rgba(0,0,0,0)',\n",
    "    plot_bgcolor='rgba(0,0,0,0)',\n",
    ")\n",
    "fig.show()\n",
    "fig.write_image(f'streak_leaderboard.png', format='png')\n"
   ]
  },
  {
   "cell_type": "code",
   "execution_count": 855,
   "metadata": {},
   "outputs": [
    {
     "data": {
      "text/html": [
       "<div>                            <div id=\"e6b9c728-5986-43f9-a7f3-96d33b7dcba1\" class=\"plotly-graph-div\" style=\"height:800px; width:600px;\"></div>            <script type=\"text/javascript\">                require([\"plotly\"], function(Plotly) {                    window.PLOTLYENV=window.PLOTLYENV || {};                                    if (document.getElementById(\"e6b9c728-5986-43f9-a7f3-96d33b7dcba1\")) {                    Plotly.newPlot(                        \"e6b9c728-5986-43f9-a7f3-96d33b7dcba1\",                        [{\"alignmentgroup\":\"True\",\"hovertemplate\":\"Hiatus=%{x}\\u003cbr\\u003eName=%{y}\\u003cextra\\u003e\\u003c\\u002fextra\\u003e\",\"legendgroup\":\"\",\"marker\":{\"color\":\"#636efa\",\"pattern\":{\"shape\":\"\"}},\"name\":\"\",\"offsetgroup\":\"\",\"orientation\":\"h\",\"showlegend\":false,\"textposition\":\"auto\",\"texttemplate\":\"%{x}\",\"x\":[3,4,7,8,5,5,5,5,2,10,9,3,14,5,28,28,13,7,12,5,23,12,2],\"xaxis\":\"x\",\"y\":[\"Anna\",\"David K\",\"Josh\",\"Wenbo\",\"Sten\",\"David M\",\"Will\",\"Ben Lin\",\"Apple\",\"Evan\",\"Bonnie\",\"Vignesh\",\"Constance\",\"Katie\",\"Thu\",\"Michael\",\"Jing\",\"Ben Law\",\"Hardy\",\"Jarrett\",\"Louie\",\"Ilana\",\"Alex\"],\"yaxis\":\"y\",\"type\":\"bar\"}],                        {\"template\":{\"data\":{\"histogram2dcontour\":[{\"type\":\"histogram2dcontour\",\"colorbar\":{\"outlinewidth\":0,\"ticks\":\"\"},\"colorscale\":[[0.0,\"#0d0887\"],[0.1111111111111111,\"#46039f\"],[0.2222222222222222,\"#7201a8\"],[0.3333333333333333,\"#9c179e\"],[0.4444444444444444,\"#bd3786\"],[0.5555555555555556,\"#d8576b\"],[0.6666666666666666,\"#ed7953\"],[0.7777777777777778,\"#fb9f3a\"],[0.8888888888888888,\"#fdca26\"],[1.0,\"#f0f921\"]]}],\"choropleth\":[{\"type\":\"choropleth\",\"colorbar\":{\"outlinewidth\":0,\"ticks\":\"\"}}],\"histogram2d\":[{\"type\":\"histogram2d\",\"colorbar\":{\"outlinewidth\":0,\"ticks\":\"\"},\"colorscale\":[[0.0,\"#0d0887\"],[0.1111111111111111,\"#46039f\"],[0.2222222222222222,\"#7201a8\"],[0.3333333333333333,\"#9c179e\"],[0.4444444444444444,\"#bd3786\"],[0.5555555555555556,\"#d8576b\"],[0.6666666666666666,\"#ed7953\"],[0.7777777777777778,\"#fb9f3a\"],[0.8888888888888888,\"#fdca26\"],[1.0,\"#f0f921\"]]}],\"heatmap\":[{\"type\":\"heatmap\",\"colorbar\":{\"outlinewidth\":0,\"ticks\":\"\"},\"colorscale\":[[0.0,\"#0d0887\"],[0.1111111111111111,\"#46039f\"],[0.2222222222222222,\"#7201a8\"],[0.3333333333333333,\"#9c179e\"],[0.4444444444444444,\"#bd3786\"],[0.5555555555555556,\"#d8576b\"],[0.6666666666666666,\"#ed7953\"],[0.7777777777777778,\"#fb9f3a\"],[0.8888888888888888,\"#fdca26\"],[1.0,\"#f0f921\"]]}],\"heatmapgl\":[{\"type\":\"heatmapgl\",\"colorbar\":{\"outlinewidth\":0,\"ticks\":\"\"},\"colorscale\":[[0.0,\"#0d0887\"],[0.1111111111111111,\"#46039f\"],[0.2222222222222222,\"#7201a8\"],[0.3333333333333333,\"#9c179e\"],[0.4444444444444444,\"#bd3786\"],[0.5555555555555556,\"#d8576b\"],[0.6666666666666666,\"#ed7953\"],[0.7777777777777778,\"#fb9f3a\"],[0.8888888888888888,\"#fdca26\"],[1.0,\"#f0f921\"]]}],\"contourcarpet\":[{\"type\":\"contourcarpet\",\"colorbar\":{\"outlinewidth\":0,\"ticks\":\"\"}}],\"contour\":[{\"type\":\"contour\",\"colorbar\":{\"outlinewidth\":0,\"ticks\":\"\"},\"colorscale\":[[0.0,\"#0d0887\"],[0.1111111111111111,\"#46039f\"],[0.2222222222222222,\"#7201a8\"],[0.3333333333333333,\"#9c179e\"],[0.4444444444444444,\"#bd3786\"],[0.5555555555555556,\"#d8576b\"],[0.6666666666666666,\"#ed7953\"],[0.7777777777777778,\"#fb9f3a\"],[0.8888888888888888,\"#fdca26\"],[1.0,\"#f0f921\"]]}],\"surface\":[{\"type\":\"surface\",\"colorbar\":{\"outlinewidth\":0,\"ticks\":\"\"},\"colorscale\":[[0.0,\"#0d0887\"],[0.1111111111111111,\"#46039f\"],[0.2222222222222222,\"#7201a8\"],[0.3333333333333333,\"#9c179e\"],[0.4444444444444444,\"#bd3786\"],[0.5555555555555556,\"#d8576b\"],[0.6666666666666666,\"#ed7953\"],[0.7777777777777778,\"#fb9f3a\"],[0.8888888888888888,\"#fdca26\"],[1.0,\"#f0f921\"]]}],\"mesh3d\":[{\"type\":\"mesh3d\",\"colorbar\":{\"outlinewidth\":0,\"ticks\":\"\"}}],\"scatter\":[{\"fillpattern\":{\"fillmode\":\"overlay\",\"size\":10,\"solidity\":0.2},\"type\":\"scatter\"}],\"parcoords\":[{\"type\":\"parcoords\",\"line\":{\"colorbar\":{\"outlinewidth\":0,\"ticks\":\"\"}}}],\"scatterpolargl\":[{\"type\":\"scatterpolargl\",\"marker\":{\"colorbar\":{\"outlinewidth\":0,\"ticks\":\"\"}}}],\"bar\":[{\"error_x\":{\"color\":\"#2a3f5f\"},\"error_y\":{\"color\":\"#2a3f5f\"},\"marker\":{\"line\":{\"color\":\"#E5ECF6\",\"width\":0.5},\"pattern\":{\"fillmode\":\"overlay\",\"size\":10,\"solidity\":0.2}},\"type\":\"bar\"}],\"scattergeo\":[{\"type\":\"scattergeo\",\"marker\":{\"colorbar\":{\"outlinewidth\":0,\"ticks\":\"\"}}}],\"scatterpolar\":[{\"type\":\"scatterpolar\",\"marker\":{\"colorbar\":{\"outlinewidth\":0,\"ticks\":\"\"}}}],\"histogram\":[{\"marker\":{\"pattern\":{\"fillmode\":\"overlay\",\"size\":10,\"solidity\":0.2}},\"type\":\"histogram\"}],\"scattergl\":[{\"type\":\"scattergl\",\"marker\":{\"colorbar\":{\"outlinewidth\":0,\"ticks\":\"\"}}}],\"scatter3d\":[{\"type\":\"scatter3d\",\"line\":{\"colorbar\":{\"outlinewidth\":0,\"ticks\":\"\"}},\"marker\":{\"colorbar\":{\"outlinewidth\":0,\"ticks\":\"\"}}}],\"scattermapbox\":[{\"type\":\"scattermapbox\",\"marker\":{\"colorbar\":{\"outlinewidth\":0,\"ticks\":\"\"}}}],\"scatterternary\":[{\"type\":\"scatterternary\",\"marker\":{\"colorbar\":{\"outlinewidth\":0,\"ticks\":\"\"}}}],\"scattercarpet\":[{\"type\":\"scattercarpet\",\"marker\":{\"colorbar\":{\"outlinewidth\":0,\"ticks\":\"\"}}}],\"carpet\":[{\"aaxis\":{\"endlinecolor\":\"#2a3f5f\",\"gridcolor\":\"white\",\"linecolor\":\"white\",\"minorgridcolor\":\"white\",\"startlinecolor\":\"#2a3f5f\"},\"baxis\":{\"endlinecolor\":\"#2a3f5f\",\"gridcolor\":\"white\",\"linecolor\":\"white\",\"minorgridcolor\":\"white\",\"startlinecolor\":\"#2a3f5f\"},\"type\":\"carpet\"}],\"table\":[{\"cells\":{\"fill\":{\"color\":\"#EBF0F8\"},\"line\":{\"color\":\"white\"}},\"header\":{\"fill\":{\"color\":\"#C8D4E3\"},\"line\":{\"color\":\"white\"}},\"type\":\"table\"}],\"barpolar\":[{\"marker\":{\"line\":{\"color\":\"#E5ECF6\",\"width\":0.5},\"pattern\":{\"fillmode\":\"overlay\",\"size\":10,\"solidity\":0.2}},\"type\":\"barpolar\"}],\"pie\":[{\"automargin\":true,\"type\":\"pie\"}]},\"layout\":{\"autotypenumbers\":\"strict\",\"colorway\":[\"#636efa\",\"#EF553B\",\"#00cc96\",\"#ab63fa\",\"#FFA15A\",\"#19d3f3\",\"#FF6692\",\"#B6E880\",\"#FF97FF\",\"#FECB52\"],\"font\":{\"color\":\"#2a3f5f\"},\"hovermode\":\"closest\",\"hoverlabel\":{\"align\":\"left\"},\"paper_bgcolor\":\"white\",\"plot_bgcolor\":\"#E5ECF6\",\"polar\":{\"bgcolor\":\"#E5ECF6\",\"angularaxis\":{\"gridcolor\":\"white\",\"linecolor\":\"white\",\"ticks\":\"\"},\"radialaxis\":{\"gridcolor\":\"white\",\"linecolor\":\"white\",\"ticks\":\"\"}},\"ternary\":{\"bgcolor\":\"#E5ECF6\",\"aaxis\":{\"gridcolor\":\"white\",\"linecolor\":\"white\",\"ticks\":\"\"},\"baxis\":{\"gridcolor\":\"white\",\"linecolor\":\"white\",\"ticks\":\"\"},\"caxis\":{\"gridcolor\":\"white\",\"linecolor\":\"white\",\"ticks\":\"\"}},\"coloraxis\":{\"colorbar\":{\"outlinewidth\":0,\"ticks\":\"\"}},\"colorscale\":{\"sequential\":[[0.0,\"#0d0887\"],[0.1111111111111111,\"#46039f\"],[0.2222222222222222,\"#7201a8\"],[0.3333333333333333,\"#9c179e\"],[0.4444444444444444,\"#bd3786\"],[0.5555555555555556,\"#d8576b\"],[0.6666666666666666,\"#ed7953\"],[0.7777777777777778,\"#fb9f3a\"],[0.8888888888888888,\"#fdca26\"],[1.0,\"#f0f921\"]],\"sequentialminus\":[[0.0,\"#0d0887\"],[0.1111111111111111,\"#46039f\"],[0.2222222222222222,\"#7201a8\"],[0.3333333333333333,\"#9c179e\"],[0.4444444444444444,\"#bd3786\"],[0.5555555555555556,\"#d8576b\"],[0.6666666666666666,\"#ed7953\"],[0.7777777777777778,\"#fb9f3a\"],[0.8888888888888888,\"#fdca26\"],[1.0,\"#f0f921\"]],\"diverging\":[[0,\"#8e0152\"],[0.1,\"#c51b7d\"],[0.2,\"#de77ae\"],[0.3,\"#f1b6da\"],[0.4,\"#fde0ef\"],[0.5,\"#f7f7f7\"],[0.6,\"#e6f5d0\"],[0.7,\"#b8e186\"],[0.8,\"#7fbc41\"],[0.9,\"#4d9221\"],[1,\"#276419\"]]},\"xaxis\":{\"gridcolor\":\"white\",\"linecolor\":\"white\",\"ticks\":\"\",\"title\":{\"standoff\":15},\"zerolinecolor\":\"white\",\"automargin\":true,\"zerolinewidth\":2},\"yaxis\":{\"gridcolor\":\"white\",\"linecolor\":\"white\",\"ticks\":\"\",\"title\":{\"standoff\":15},\"zerolinecolor\":\"white\",\"automargin\":true,\"zerolinewidth\":2},\"scene\":{\"xaxis\":{\"backgroundcolor\":\"#E5ECF6\",\"gridcolor\":\"white\",\"linecolor\":\"white\",\"showbackground\":true,\"ticks\":\"\",\"zerolinecolor\":\"white\",\"gridwidth\":2},\"yaxis\":{\"backgroundcolor\":\"#E5ECF6\",\"gridcolor\":\"white\",\"linecolor\":\"white\",\"showbackground\":true,\"ticks\":\"\",\"zerolinecolor\":\"white\",\"gridwidth\":2},\"zaxis\":{\"backgroundcolor\":\"#E5ECF6\",\"gridcolor\":\"white\",\"linecolor\":\"white\",\"showbackground\":true,\"ticks\":\"\",\"zerolinecolor\":\"white\",\"gridwidth\":2}},\"shapedefaults\":{\"line\":{\"color\":\"#2a3f5f\"}},\"annotationdefaults\":{\"arrowcolor\":\"#2a3f5f\",\"arrowhead\":0,\"arrowwidth\":1},\"geo\":{\"bgcolor\":\"white\",\"landcolor\":\"#E5ECF6\",\"subunitcolor\":\"white\",\"showland\":true,\"showlakes\":true,\"lakecolor\":\"white\"},\"title\":{\"x\":0.05},\"mapbox\":{\"style\":\"light\"}}},\"xaxis\":{\"anchor\":\"y\",\"domain\":[0.0,1.0],\"title\":{\"text\":\"Ride Hiatus Length\"}},\"yaxis\":{\"anchor\":\"x\",\"domain\":[0.0,1.0],\"title\":{},\"categoryorder\":\"total descending\"},\"legend\":{\"tracegroupgap\":0},\"margin\":{\"t\":50,\"l\":10,\"r\":10,\"b\":10},\"barmode\":\"stack\",\"title\":{\"x\":0.5},\"width\":600,\"height\":800,\"paper_bgcolor\":\"rgba(0,0,0,0)\",\"plot_bgcolor\":\"rgba(0,0,0,0)\"},                        {\"responsive\": true}                    ).then(function(){\n",
       "                            \n",
       "var gd = document.getElementById('e6b9c728-5986-43f9-a7f3-96d33b7dcba1');\n",
       "var x = new MutationObserver(function (mutations, observer) {{\n",
       "        var display = window.getComputedStyle(gd).display;\n",
       "        if (!display || display === 'none') {{\n",
       "            console.log([gd, 'removed!']);\n",
       "            Plotly.purge(gd);\n",
       "            observer.disconnect();\n",
       "        }}\n",
       "}});\n",
       "\n",
       "// Listen for the removal of the full notebook cells\n",
       "var notebookContainer = gd.closest('#notebook-container');\n",
       "if (notebookContainer) {{\n",
       "    x.observe(notebookContainer, {childList: true});\n",
       "}}\n",
       "\n",
       "// Listen for the clearing of the current output cell\n",
       "var outputEl = gd.closest('.output');\n",
       "if (outputEl) {{\n",
       "    x.observe(outputEl, {childList: true});\n",
       "}}\n",
       "\n",
       "                        })                };                });            </script>        </div>"
      ]
     },
     "metadata": {},
     "output_type": "display_data"
    }
   ],
   "source": [
    "# Shortest Rider Hiatus\n",
    "fig = px.bar(attendance_regular, y=\"Name\", x=\"Hiatus\", text_auto=True)\n",
    "fig.update_layout(\n",
    "    title_x=0.5,\n",
    "    width=600,\n",
    "    height=800,\n",
    "    margin=dict(l=10, r=10, t=50, b=10),  # left, right, top, bottom margins\n",
    "    yaxis=dict(title=None, categoryorder='total descending'),\n",
    "    xaxis_title='Ride Hiatus Length',\n",
    "    barmode='stack', \n",
    "    paper_bgcolor='rgba(0,0,0,0)',\n",
    "    plot_bgcolor='rgba(0,0,0,0)',\n",
    ")\n",
    "\n",
    "fig.show()\n",
    "fig.write_image(f'hiatus_leaderboard.png', format='png')\n"
   ]
  },
  {
   "cell_type": "code",
   "execution_count": 659,
   "metadata": {},
   "outputs": [],
   "source": [
    "attendance_by_rider = attendance.drop('had_ride', axis=1, inplace=False)\n",
    "attendance_by_rider = attendance_by_rider.set_index('date')\n",
    "attendance_by_rider = attendance_by_rider.merge(df[['date', 'coffee_shop', 'route']], how='inner', on='date')\n",
    "attendance_by_rider = attendance_by_rider[attendance_by_rider['Unnamed: 2'].notna()]\n",
    "attendance_dict = attendance_by_rider.to_dict('split')"
   ]
  },
  {
   "cell_type": "code",
   "execution_count": 660,
   "metadata": {},
   "outputs": [],
   "source": [
    "attendance_by_rider_dict = {}\n",
    "for name in attendance_leaderboard[attendance_leaderboard.Count > 2]['Name']: \n",
    "    attendance_arr = []\n",
    "    for _, rows in attendance_by_rider.iterrows():\n",
    "        if name in rows.values: attendance_arr.append(True)\n",
    "        else: attendance_arr.append(False)\n",
    "    attendance_by_rider_dict[name] = attendance_arr\n",
    "regular_rider_attendance = pd.DataFrame(attendance_by_rider_dict)\n",
    "regular_rider_attendance = regular_rider_attendance.set_index(attendance_by_rider['date'])"
   ]
  },
  {
   "cell_type": "code",
   "execution_count": 842,
   "metadata": {},
   "outputs": [
    {
     "data": {
      "text/plain": [
       "(40, 36)"
      ]
     },
     "execution_count": 842,
     "metadata": {},
     "output_type": "execute_result"
    }
   ],
   "source": [
    "regular_rider_attendance.shape"
   ]
  },
  {
   "cell_type": "markdown",
   "metadata": {},
   "source": [
    "## Individual Sunbursts"
   ]
  },
  {
   "cell_type": "code",
   "execution_count": 661,
   "metadata": {},
   "outputs": [],
   "source": [
    "for name in attendance_regular['Name']: \n",
    "    rider_dist = regular_rider_attendance[[name]].merge(df[['date', 'coffee_shop', 'route']], how='inner', on='date')\n",
    "    rider_dist = rider_dist.loc[rider_dist[name]==True]\n",
    "    rider_coffee = rider_dist.groupby(['coffee_shop', 'route']).size().reset_index().rename(columns={0:'count'})\n",
    "    rider_coffee['name'] = name\n",
    "    fig = px.sunburst(rider_coffee, path=['name', 'route', 'coffee_shop', ], values='count')\n",
    "\n",
    "    fig.update_traces(insidetextorientation='horizontal')\n",
    "    fig.update_layout(\n",
    "        width=450,\n",
    "        height=800,\n",
    "        margin=dict(l=5, r=5, t=5, b=5),  # left, right, top, bottom margins\n",
    "    )\n",
    "    # fig.show()\n",
    "    # fig.write_image(f'rider_sunbursts/{name}_ride_sunbursts.png', format='png')\n"
   ]
  },
  {
   "cell_type": "markdown",
   "metadata": {},
   "source": [
    "## New Riders"
   ]
  },
  {
   "cell_type": "code",
   "execution_count": 662,
   "metadata": {},
   "outputs": [],
   "source": [
    "new_rider=[False, False, False, False, False, True, False, True, True, False, True, True, False, True, False, False, False, True, False, True, False, False, True, True, True, True, True, True, False, True, False, False, False, True, True, False]\n",
    "first_ride = pd.DataFrame(regular_rider_attendance.idxmax()).reset_index().rename(columns={\"index\": \"name\"}).merge(pd.DataFrame(data={'name':regular_rider_attendance.columns, 'new_rider':new_rider}), on='name').rename(columns={0: \"date\"})\n",
    "first_ride=first_ride[first_ride['new_rider']==True]\n",
    "first_ride=first_ride.merge(df)\n",
    "first_ride_count = first_ride.groupby(['date']).size().reset_index().rename(columns={0:'count'})"
   ]
  },
  {
   "cell_type": "code",
   "execution_count": 663,
   "metadata": {},
   "outputs": [
    {
     "data": {
      "text/html": [
       "<div>                            <div id=\"ebd699ac-d4b3-402a-bf03-c910d2321694\" class=\"plotly-graph-div\" style=\"height:800px; width:450px;\"></div>            <script type=\"text/javascript\">                require([\"plotly\"], function(Plotly) {                    window.PLOTLYENV=window.PLOTLYENV || {};                                    if (document.getElementById(\"ebd699ac-d4b3-402a-bf03-c910d2321694\")) {                    Plotly.newPlot(                        \"ebd699ac-d4b3-402a-bf03-c910d2321694\",                        [{\"domain\":{\"x\":[0.0,1.0],\"y\":[0.0,1.0]},\"hovertemplate\":\"route=%{label}\\u003cbr\\u003ecount=%{value}\\u003cextra\\u003e\\u003c\\u002fextra\\u003e\",\"labels\":[\"ART-MBT\",\"CCT-RCP\",\"MVT Alexandria\",\"WOD\"],\"legendgroup\":\"\",\"name\":\"\",\"showlegend\":true,\"values\":[9,2,4,2],\"type\":\"pie\",\"textinfo\":\"value+label\",\"textposition\":\"inside\"}],                        {\"template\":{\"data\":{\"histogram2dcontour\":[{\"type\":\"histogram2dcontour\",\"colorbar\":{\"outlinewidth\":0,\"ticks\":\"\"},\"colorscale\":[[0.0,\"#0d0887\"],[0.1111111111111111,\"#46039f\"],[0.2222222222222222,\"#7201a8\"],[0.3333333333333333,\"#9c179e\"],[0.4444444444444444,\"#bd3786\"],[0.5555555555555556,\"#d8576b\"],[0.6666666666666666,\"#ed7953\"],[0.7777777777777778,\"#fb9f3a\"],[0.8888888888888888,\"#fdca26\"],[1.0,\"#f0f921\"]]}],\"choropleth\":[{\"type\":\"choropleth\",\"colorbar\":{\"outlinewidth\":0,\"ticks\":\"\"}}],\"histogram2d\":[{\"type\":\"histogram2d\",\"colorbar\":{\"outlinewidth\":0,\"ticks\":\"\"},\"colorscale\":[[0.0,\"#0d0887\"],[0.1111111111111111,\"#46039f\"],[0.2222222222222222,\"#7201a8\"],[0.3333333333333333,\"#9c179e\"],[0.4444444444444444,\"#bd3786\"],[0.5555555555555556,\"#d8576b\"],[0.6666666666666666,\"#ed7953\"],[0.7777777777777778,\"#fb9f3a\"],[0.8888888888888888,\"#fdca26\"],[1.0,\"#f0f921\"]]}],\"heatmap\":[{\"type\":\"heatmap\",\"colorbar\":{\"outlinewidth\":0,\"ticks\":\"\"},\"colorscale\":[[0.0,\"#0d0887\"],[0.1111111111111111,\"#46039f\"],[0.2222222222222222,\"#7201a8\"],[0.3333333333333333,\"#9c179e\"],[0.4444444444444444,\"#bd3786\"],[0.5555555555555556,\"#d8576b\"],[0.6666666666666666,\"#ed7953\"],[0.7777777777777778,\"#fb9f3a\"],[0.8888888888888888,\"#fdca26\"],[1.0,\"#f0f921\"]]}],\"heatmapgl\":[{\"type\":\"heatmapgl\",\"colorbar\":{\"outlinewidth\":0,\"ticks\":\"\"},\"colorscale\":[[0.0,\"#0d0887\"],[0.1111111111111111,\"#46039f\"],[0.2222222222222222,\"#7201a8\"],[0.3333333333333333,\"#9c179e\"],[0.4444444444444444,\"#bd3786\"],[0.5555555555555556,\"#d8576b\"],[0.6666666666666666,\"#ed7953\"],[0.7777777777777778,\"#fb9f3a\"],[0.8888888888888888,\"#fdca26\"],[1.0,\"#f0f921\"]]}],\"contourcarpet\":[{\"type\":\"contourcarpet\",\"colorbar\":{\"outlinewidth\":0,\"ticks\":\"\"}}],\"contour\":[{\"type\":\"contour\",\"colorbar\":{\"outlinewidth\":0,\"ticks\":\"\"},\"colorscale\":[[0.0,\"#0d0887\"],[0.1111111111111111,\"#46039f\"],[0.2222222222222222,\"#7201a8\"],[0.3333333333333333,\"#9c179e\"],[0.4444444444444444,\"#bd3786\"],[0.5555555555555556,\"#d8576b\"],[0.6666666666666666,\"#ed7953\"],[0.7777777777777778,\"#fb9f3a\"],[0.8888888888888888,\"#fdca26\"],[1.0,\"#f0f921\"]]}],\"surface\":[{\"type\":\"surface\",\"colorbar\":{\"outlinewidth\":0,\"ticks\":\"\"},\"colorscale\":[[0.0,\"#0d0887\"],[0.1111111111111111,\"#46039f\"],[0.2222222222222222,\"#7201a8\"],[0.3333333333333333,\"#9c179e\"],[0.4444444444444444,\"#bd3786\"],[0.5555555555555556,\"#d8576b\"],[0.6666666666666666,\"#ed7953\"],[0.7777777777777778,\"#fb9f3a\"],[0.8888888888888888,\"#fdca26\"],[1.0,\"#f0f921\"]]}],\"mesh3d\":[{\"type\":\"mesh3d\",\"colorbar\":{\"outlinewidth\":0,\"ticks\":\"\"}}],\"scatter\":[{\"fillpattern\":{\"fillmode\":\"overlay\",\"size\":10,\"solidity\":0.2},\"type\":\"scatter\"}],\"parcoords\":[{\"type\":\"parcoords\",\"line\":{\"colorbar\":{\"outlinewidth\":0,\"ticks\":\"\"}}}],\"scatterpolargl\":[{\"type\":\"scatterpolargl\",\"marker\":{\"colorbar\":{\"outlinewidth\":0,\"ticks\":\"\"}}}],\"bar\":[{\"error_x\":{\"color\":\"#2a3f5f\"},\"error_y\":{\"color\":\"#2a3f5f\"},\"marker\":{\"line\":{\"color\":\"#E5ECF6\",\"width\":0.5},\"pattern\":{\"fillmode\":\"overlay\",\"size\":10,\"solidity\":0.2}},\"type\":\"bar\"}],\"scattergeo\":[{\"type\":\"scattergeo\",\"marker\":{\"colorbar\":{\"outlinewidth\":0,\"ticks\":\"\"}}}],\"scatterpolar\":[{\"type\":\"scatterpolar\",\"marker\":{\"colorbar\":{\"outlinewidth\":0,\"ticks\":\"\"}}}],\"histogram\":[{\"marker\":{\"pattern\":{\"fillmode\":\"overlay\",\"size\":10,\"solidity\":0.2}},\"type\":\"histogram\"}],\"scattergl\":[{\"type\":\"scattergl\",\"marker\":{\"colorbar\":{\"outlinewidth\":0,\"ticks\":\"\"}}}],\"scatter3d\":[{\"type\":\"scatter3d\",\"line\":{\"colorbar\":{\"outlinewidth\":0,\"ticks\":\"\"}},\"marker\":{\"colorbar\":{\"outlinewidth\":0,\"ticks\":\"\"}}}],\"scattermapbox\":[{\"type\":\"scattermapbox\",\"marker\":{\"colorbar\":{\"outlinewidth\":0,\"ticks\":\"\"}}}],\"scatterternary\":[{\"type\":\"scatterternary\",\"marker\":{\"colorbar\":{\"outlinewidth\":0,\"ticks\":\"\"}}}],\"scattercarpet\":[{\"type\":\"scattercarpet\",\"marker\":{\"colorbar\":{\"outlinewidth\":0,\"ticks\":\"\"}}}],\"carpet\":[{\"aaxis\":{\"endlinecolor\":\"#2a3f5f\",\"gridcolor\":\"white\",\"linecolor\":\"white\",\"minorgridcolor\":\"white\",\"startlinecolor\":\"#2a3f5f\"},\"baxis\":{\"endlinecolor\":\"#2a3f5f\",\"gridcolor\":\"white\",\"linecolor\":\"white\",\"minorgridcolor\":\"white\",\"startlinecolor\":\"#2a3f5f\"},\"type\":\"carpet\"}],\"table\":[{\"cells\":{\"fill\":{\"color\":\"#EBF0F8\"},\"line\":{\"color\":\"white\"}},\"header\":{\"fill\":{\"color\":\"#C8D4E3\"},\"line\":{\"color\":\"white\"}},\"type\":\"table\"}],\"barpolar\":[{\"marker\":{\"line\":{\"color\":\"#E5ECF6\",\"width\":0.5},\"pattern\":{\"fillmode\":\"overlay\",\"size\":10,\"solidity\":0.2}},\"type\":\"barpolar\"}],\"pie\":[{\"automargin\":true,\"type\":\"pie\"}]},\"layout\":{\"autotypenumbers\":\"strict\",\"colorway\":[\"#636efa\",\"#EF553B\",\"#00cc96\",\"#ab63fa\",\"#FFA15A\",\"#19d3f3\",\"#FF6692\",\"#B6E880\",\"#FF97FF\",\"#FECB52\"],\"font\":{\"color\":\"#2a3f5f\"},\"hovermode\":\"closest\",\"hoverlabel\":{\"align\":\"left\"},\"paper_bgcolor\":\"white\",\"plot_bgcolor\":\"#E5ECF6\",\"polar\":{\"bgcolor\":\"#E5ECF6\",\"angularaxis\":{\"gridcolor\":\"white\",\"linecolor\":\"white\",\"ticks\":\"\"},\"radialaxis\":{\"gridcolor\":\"white\",\"linecolor\":\"white\",\"ticks\":\"\"}},\"ternary\":{\"bgcolor\":\"#E5ECF6\",\"aaxis\":{\"gridcolor\":\"white\",\"linecolor\":\"white\",\"ticks\":\"\"},\"baxis\":{\"gridcolor\":\"white\",\"linecolor\":\"white\",\"ticks\":\"\"},\"caxis\":{\"gridcolor\":\"white\",\"linecolor\":\"white\",\"ticks\":\"\"}},\"coloraxis\":{\"colorbar\":{\"outlinewidth\":0,\"ticks\":\"\"}},\"colorscale\":{\"sequential\":[[0.0,\"#0d0887\"],[0.1111111111111111,\"#46039f\"],[0.2222222222222222,\"#7201a8\"],[0.3333333333333333,\"#9c179e\"],[0.4444444444444444,\"#bd3786\"],[0.5555555555555556,\"#d8576b\"],[0.6666666666666666,\"#ed7953\"],[0.7777777777777778,\"#fb9f3a\"],[0.8888888888888888,\"#fdca26\"],[1.0,\"#f0f921\"]],\"sequentialminus\":[[0.0,\"#0d0887\"],[0.1111111111111111,\"#46039f\"],[0.2222222222222222,\"#7201a8\"],[0.3333333333333333,\"#9c179e\"],[0.4444444444444444,\"#bd3786\"],[0.5555555555555556,\"#d8576b\"],[0.6666666666666666,\"#ed7953\"],[0.7777777777777778,\"#fb9f3a\"],[0.8888888888888888,\"#fdca26\"],[1.0,\"#f0f921\"]],\"diverging\":[[0,\"#8e0152\"],[0.1,\"#c51b7d\"],[0.2,\"#de77ae\"],[0.3,\"#f1b6da\"],[0.4,\"#fde0ef\"],[0.5,\"#f7f7f7\"],[0.6,\"#e6f5d0\"],[0.7,\"#b8e186\"],[0.8,\"#7fbc41\"],[0.9,\"#4d9221\"],[1,\"#276419\"]]},\"xaxis\":{\"gridcolor\":\"white\",\"linecolor\":\"white\",\"ticks\":\"\",\"title\":{\"standoff\":15},\"zerolinecolor\":\"white\",\"automargin\":true,\"zerolinewidth\":2},\"yaxis\":{\"gridcolor\":\"white\",\"linecolor\":\"white\",\"ticks\":\"\",\"title\":{\"standoff\":15},\"zerolinecolor\":\"white\",\"automargin\":true,\"zerolinewidth\":2},\"scene\":{\"xaxis\":{\"backgroundcolor\":\"#E5ECF6\",\"gridcolor\":\"white\",\"linecolor\":\"white\",\"showbackground\":true,\"ticks\":\"\",\"zerolinecolor\":\"white\",\"gridwidth\":2},\"yaxis\":{\"backgroundcolor\":\"#E5ECF6\",\"gridcolor\":\"white\",\"linecolor\":\"white\",\"showbackground\":true,\"ticks\":\"\",\"zerolinecolor\":\"white\",\"gridwidth\":2},\"zaxis\":{\"backgroundcolor\":\"#E5ECF6\",\"gridcolor\":\"white\",\"linecolor\":\"white\",\"showbackground\":true,\"ticks\":\"\",\"zerolinecolor\":\"white\",\"gridwidth\":2}},\"shapedefaults\":{\"line\":{\"color\":\"#2a3f5f\"}},\"annotationdefaults\":{\"arrowcolor\":\"#2a3f5f\",\"arrowhead\":0,\"arrowwidth\":1},\"geo\":{\"bgcolor\":\"white\",\"landcolor\":\"#E5ECF6\",\"subunitcolor\":\"white\",\"showland\":true,\"showlakes\":true,\"lakecolor\":\"white\"},\"title\":{\"x\":0.05},\"mapbox\":{\"style\":\"light\"}}},\"legend\":{\"tracegroupgap\":0},\"margin\":{\"t\":35,\"l\":5,\"r\":5,\"b\":5},\"title\":{\"x\":0.5},\"width\":450,\"height\":800,\"yaxis\":{\"title\":{}},\"xaxis\":{\"title\":{\"text\":\"Number of Riders\"}},\"showlegend\":false},                        {\"responsive\": true}                    ).then(function(){\n",
       "                            \n",
       "var gd = document.getElementById('ebd699ac-d4b3-402a-bf03-c910d2321694');\n",
       "var x = new MutationObserver(function (mutations, observer) {{\n",
       "        var display = window.getComputedStyle(gd).display;\n",
       "        if (!display || display === 'none') {{\n",
       "            console.log([gd, 'removed!']);\n",
       "            Plotly.purge(gd);\n",
       "            observer.disconnect();\n",
       "        }}\n",
       "}});\n",
       "\n",
       "// Listen for the removal of the full notebook cells\n",
       "var notebookContainer = gd.closest('#notebook-container');\n",
       "if (notebookContainer) {{\n",
       "    x.observe(notebookContainer, {childList: true});\n",
       "}}\n",
       "\n",
       "// Listen for the clearing of the current output cell\n",
       "var outputEl = gd.closest('.output');\n",
       "if (outputEl) {{\n",
       "    x.observe(outputEl, {childList: true});\n",
       "}}\n",
       "\n",
       "                        })                };                });            </script>        </div>"
      ]
     },
     "metadata": {},
     "output_type": "display_data"
    }
   ],
   "source": [
    "first_ride_routes = first_ride.groupby(['route']).size().reset_index().rename(columns={0:'count'})\n",
    "fig = px.pie(first_ride_routes, values='count', names='route')\n",
    "fig.update_layout(\n",
    "    title_x=0.5,\n",
    "    width=450,\n",
    "    height=800,\n",
    "    margin=dict(l=5, r=5, t=35, b=5),  # left, right, top, bottom margins\n",
    "    yaxis=dict(title=None),\n",
    "    xaxis_title='Number of Riders',\n",
    "    showlegend=False\n",
    ")\n",
    "fig.update_traces(textposition='inside', textinfo='value+label')\n",
    "fig.show()\n",
    "fig.write_image('new_rider_route_distribution.png', format='png')\n"
   ]
  },
  {
   "cell_type": "code",
   "execution_count": 664,
   "metadata": {},
   "outputs": [
    {
     "data": {
      "text/html": [
       "<div>                            <div id=\"7fdad0f7-3fb8-45c0-b9e9-0dbc729c54fe\" class=\"plotly-graph-div\" style=\"height:800px; width:450px;\"></div>            <script type=\"text/javascript\">                require([\"plotly\"], function(Plotly) {                    window.PLOTLYENV=window.PLOTLYENV || {};                                    if (document.getElementById(\"7fdad0f7-3fb8-45c0-b9e9-0dbc729c54fe\")) {                    Plotly.newPlot(                        \"7fdad0f7-3fb8-45c0-b9e9-0dbc729c54fe\",                        [{\"alignmentgroup\":\"True\",\"hovertemplate\":\"count=%{x}\\u003cbr\\u003edate=%{y}\\u003cextra\\u003e\\u003c\\u002fextra\\u003e\",\"legendgroup\":\"\",\"marker\":{\"color\":\"#636efa\",\"pattern\":{\"shape\":\"\"}},\"name\":\"\",\"offsetgroup\":\"\",\"orientation\":\"h\",\"showlegend\":false,\"textposition\":\"auto\",\"x\":[1,1,1,2,1,1,1,1,1,1,2,2,2],\"xaxis\":\"x\",\"y\":[\"2024-02-10T00:00:00\",\"2024-02-24T00:00:00\",\"2024-04-06T00:00:00\",\"2024-04-20T00:00:00\",\"2024-05-11T00:00:00\",\"2024-05-25T00:00:00\",\"2024-06-15T00:00:00\",\"2024-07-27T00:00:00\",\"2024-08-24T00:00:00\",\"2024-09-21T00:00:00\",\"2024-09-28T00:00:00\",\"2024-10-19T00:00:00\",\"2024-11-09T00:00:00\"],\"yaxis\":\"y\",\"type\":\"bar\"}],                        {\"template\":{\"data\":{\"histogram2dcontour\":[{\"type\":\"histogram2dcontour\",\"colorbar\":{\"outlinewidth\":0,\"ticks\":\"\"},\"colorscale\":[[0.0,\"#0d0887\"],[0.1111111111111111,\"#46039f\"],[0.2222222222222222,\"#7201a8\"],[0.3333333333333333,\"#9c179e\"],[0.4444444444444444,\"#bd3786\"],[0.5555555555555556,\"#d8576b\"],[0.6666666666666666,\"#ed7953\"],[0.7777777777777778,\"#fb9f3a\"],[0.8888888888888888,\"#fdca26\"],[1.0,\"#f0f921\"]]}],\"choropleth\":[{\"type\":\"choropleth\",\"colorbar\":{\"outlinewidth\":0,\"ticks\":\"\"}}],\"histogram2d\":[{\"type\":\"histogram2d\",\"colorbar\":{\"outlinewidth\":0,\"ticks\":\"\"},\"colorscale\":[[0.0,\"#0d0887\"],[0.1111111111111111,\"#46039f\"],[0.2222222222222222,\"#7201a8\"],[0.3333333333333333,\"#9c179e\"],[0.4444444444444444,\"#bd3786\"],[0.5555555555555556,\"#d8576b\"],[0.6666666666666666,\"#ed7953\"],[0.7777777777777778,\"#fb9f3a\"],[0.8888888888888888,\"#fdca26\"],[1.0,\"#f0f921\"]]}],\"heatmap\":[{\"type\":\"heatmap\",\"colorbar\":{\"outlinewidth\":0,\"ticks\":\"\"},\"colorscale\":[[0.0,\"#0d0887\"],[0.1111111111111111,\"#46039f\"],[0.2222222222222222,\"#7201a8\"],[0.3333333333333333,\"#9c179e\"],[0.4444444444444444,\"#bd3786\"],[0.5555555555555556,\"#d8576b\"],[0.6666666666666666,\"#ed7953\"],[0.7777777777777778,\"#fb9f3a\"],[0.8888888888888888,\"#fdca26\"],[1.0,\"#f0f921\"]]}],\"heatmapgl\":[{\"type\":\"heatmapgl\",\"colorbar\":{\"outlinewidth\":0,\"ticks\":\"\"},\"colorscale\":[[0.0,\"#0d0887\"],[0.1111111111111111,\"#46039f\"],[0.2222222222222222,\"#7201a8\"],[0.3333333333333333,\"#9c179e\"],[0.4444444444444444,\"#bd3786\"],[0.5555555555555556,\"#d8576b\"],[0.6666666666666666,\"#ed7953\"],[0.7777777777777778,\"#fb9f3a\"],[0.8888888888888888,\"#fdca26\"],[1.0,\"#f0f921\"]]}],\"contourcarpet\":[{\"type\":\"contourcarpet\",\"colorbar\":{\"outlinewidth\":0,\"ticks\":\"\"}}],\"contour\":[{\"type\":\"contour\",\"colorbar\":{\"outlinewidth\":0,\"ticks\":\"\"},\"colorscale\":[[0.0,\"#0d0887\"],[0.1111111111111111,\"#46039f\"],[0.2222222222222222,\"#7201a8\"],[0.3333333333333333,\"#9c179e\"],[0.4444444444444444,\"#bd3786\"],[0.5555555555555556,\"#d8576b\"],[0.6666666666666666,\"#ed7953\"],[0.7777777777777778,\"#fb9f3a\"],[0.8888888888888888,\"#fdca26\"],[1.0,\"#f0f921\"]]}],\"surface\":[{\"type\":\"surface\",\"colorbar\":{\"outlinewidth\":0,\"ticks\":\"\"},\"colorscale\":[[0.0,\"#0d0887\"],[0.1111111111111111,\"#46039f\"],[0.2222222222222222,\"#7201a8\"],[0.3333333333333333,\"#9c179e\"],[0.4444444444444444,\"#bd3786\"],[0.5555555555555556,\"#d8576b\"],[0.6666666666666666,\"#ed7953\"],[0.7777777777777778,\"#fb9f3a\"],[0.8888888888888888,\"#fdca26\"],[1.0,\"#f0f921\"]]}],\"mesh3d\":[{\"type\":\"mesh3d\",\"colorbar\":{\"outlinewidth\":0,\"ticks\":\"\"}}],\"scatter\":[{\"fillpattern\":{\"fillmode\":\"overlay\",\"size\":10,\"solidity\":0.2},\"type\":\"scatter\"}],\"parcoords\":[{\"type\":\"parcoords\",\"line\":{\"colorbar\":{\"outlinewidth\":0,\"ticks\":\"\"}}}],\"scatterpolargl\":[{\"type\":\"scatterpolargl\",\"marker\":{\"colorbar\":{\"outlinewidth\":0,\"ticks\":\"\"}}}],\"bar\":[{\"error_x\":{\"color\":\"#2a3f5f\"},\"error_y\":{\"color\":\"#2a3f5f\"},\"marker\":{\"line\":{\"color\":\"#E5ECF6\",\"width\":0.5},\"pattern\":{\"fillmode\":\"overlay\",\"size\":10,\"solidity\":0.2}},\"type\":\"bar\"}],\"scattergeo\":[{\"type\":\"scattergeo\",\"marker\":{\"colorbar\":{\"outlinewidth\":0,\"ticks\":\"\"}}}],\"scatterpolar\":[{\"type\":\"scatterpolar\",\"marker\":{\"colorbar\":{\"outlinewidth\":0,\"ticks\":\"\"}}}],\"histogram\":[{\"marker\":{\"pattern\":{\"fillmode\":\"overlay\",\"size\":10,\"solidity\":0.2}},\"type\":\"histogram\"}],\"scattergl\":[{\"type\":\"scattergl\",\"marker\":{\"colorbar\":{\"outlinewidth\":0,\"ticks\":\"\"}}}],\"scatter3d\":[{\"type\":\"scatter3d\",\"line\":{\"colorbar\":{\"outlinewidth\":0,\"ticks\":\"\"}},\"marker\":{\"colorbar\":{\"outlinewidth\":0,\"ticks\":\"\"}}}],\"scattermapbox\":[{\"type\":\"scattermapbox\",\"marker\":{\"colorbar\":{\"outlinewidth\":0,\"ticks\":\"\"}}}],\"scatterternary\":[{\"type\":\"scatterternary\",\"marker\":{\"colorbar\":{\"outlinewidth\":0,\"ticks\":\"\"}}}],\"scattercarpet\":[{\"type\":\"scattercarpet\",\"marker\":{\"colorbar\":{\"outlinewidth\":0,\"ticks\":\"\"}}}],\"carpet\":[{\"aaxis\":{\"endlinecolor\":\"#2a3f5f\",\"gridcolor\":\"white\",\"linecolor\":\"white\",\"minorgridcolor\":\"white\",\"startlinecolor\":\"#2a3f5f\"},\"baxis\":{\"endlinecolor\":\"#2a3f5f\",\"gridcolor\":\"white\",\"linecolor\":\"white\",\"minorgridcolor\":\"white\",\"startlinecolor\":\"#2a3f5f\"},\"type\":\"carpet\"}],\"table\":[{\"cells\":{\"fill\":{\"color\":\"#EBF0F8\"},\"line\":{\"color\":\"white\"}},\"header\":{\"fill\":{\"color\":\"#C8D4E3\"},\"line\":{\"color\":\"white\"}},\"type\":\"table\"}],\"barpolar\":[{\"marker\":{\"line\":{\"color\":\"#E5ECF6\",\"width\":0.5},\"pattern\":{\"fillmode\":\"overlay\",\"size\":10,\"solidity\":0.2}},\"type\":\"barpolar\"}],\"pie\":[{\"automargin\":true,\"type\":\"pie\"}]},\"layout\":{\"autotypenumbers\":\"strict\",\"colorway\":[\"#636efa\",\"#EF553B\",\"#00cc96\",\"#ab63fa\",\"#FFA15A\",\"#19d3f3\",\"#FF6692\",\"#B6E880\",\"#FF97FF\",\"#FECB52\"],\"font\":{\"color\":\"#2a3f5f\"},\"hovermode\":\"closest\",\"hoverlabel\":{\"align\":\"left\"},\"paper_bgcolor\":\"white\",\"plot_bgcolor\":\"#E5ECF6\",\"polar\":{\"bgcolor\":\"#E5ECF6\",\"angularaxis\":{\"gridcolor\":\"white\",\"linecolor\":\"white\",\"ticks\":\"\"},\"radialaxis\":{\"gridcolor\":\"white\",\"linecolor\":\"white\",\"ticks\":\"\"}},\"ternary\":{\"bgcolor\":\"#E5ECF6\",\"aaxis\":{\"gridcolor\":\"white\",\"linecolor\":\"white\",\"ticks\":\"\"},\"baxis\":{\"gridcolor\":\"white\",\"linecolor\":\"white\",\"ticks\":\"\"},\"caxis\":{\"gridcolor\":\"white\",\"linecolor\":\"white\",\"ticks\":\"\"}},\"coloraxis\":{\"colorbar\":{\"outlinewidth\":0,\"ticks\":\"\"}},\"colorscale\":{\"sequential\":[[0.0,\"#0d0887\"],[0.1111111111111111,\"#46039f\"],[0.2222222222222222,\"#7201a8\"],[0.3333333333333333,\"#9c179e\"],[0.4444444444444444,\"#bd3786\"],[0.5555555555555556,\"#d8576b\"],[0.6666666666666666,\"#ed7953\"],[0.7777777777777778,\"#fb9f3a\"],[0.8888888888888888,\"#fdca26\"],[1.0,\"#f0f921\"]],\"sequentialminus\":[[0.0,\"#0d0887\"],[0.1111111111111111,\"#46039f\"],[0.2222222222222222,\"#7201a8\"],[0.3333333333333333,\"#9c179e\"],[0.4444444444444444,\"#bd3786\"],[0.5555555555555556,\"#d8576b\"],[0.6666666666666666,\"#ed7953\"],[0.7777777777777778,\"#fb9f3a\"],[0.8888888888888888,\"#fdca26\"],[1.0,\"#f0f921\"]],\"diverging\":[[0,\"#8e0152\"],[0.1,\"#c51b7d\"],[0.2,\"#de77ae\"],[0.3,\"#f1b6da\"],[0.4,\"#fde0ef\"],[0.5,\"#f7f7f7\"],[0.6,\"#e6f5d0\"],[0.7,\"#b8e186\"],[0.8,\"#7fbc41\"],[0.9,\"#4d9221\"],[1,\"#276419\"]]},\"xaxis\":{\"gridcolor\":\"white\",\"linecolor\":\"white\",\"ticks\":\"\",\"title\":{\"standoff\":15},\"zerolinecolor\":\"white\",\"automargin\":true,\"zerolinewidth\":2},\"yaxis\":{\"gridcolor\":\"white\",\"linecolor\":\"white\",\"ticks\":\"\",\"title\":{\"standoff\":15},\"zerolinecolor\":\"white\",\"automargin\":true,\"zerolinewidth\":2},\"scene\":{\"xaxis\":{\"backgroundcolor\":\"#E5ECF6\",\"gridcolor\":\"white\",\"linecolor\":\"white\",\"showbackground\":true,\"ticks\":\"\",\"zerolinecolor\":\"white\",\"gridwidth\":2},\"yaxis\":{\"backgroundcolor\":\"#E5ECF6\",\"gridcolor\":\"white\",\"linecolor\":\"white\",\"showbackground\":true,\"ticks\":\"\",\"zerolinecolor\":\"white\",\"gridwidth\":2},\"zaxis\":{\"backgroundcolor\":\"#E5ECF6\",\"gridcolor\":\"white\",\"linecolor\":\"white\",\"showbackground\":true,\"ticks\":\"\",\"zerolinecolor\":\"white\",\"gridwidth\":2}},\"shapedefaults\":{\"line\":{\"color\":\"#2a3f5f\"}},\"annotationdefaults\":{\"arrowcolor\":\"#2a3f5f\",\"arrowhead\":0,\"arrowwidth\":1},\"geo\":{\"bgcolor\":\"white\",\"landcolor\":\"#E5ECF6\",\"subunitcolor\":\"white\",\"showland\":true,\"showlakes\":true,\"lakecolor\":\"white\"},\"title\":{\"x\":0.05},\"mapbox\":{\"style\":\"light\"}}},\"xaxis\":{\"anchor\":\"y\",\"domain\":[0.0,1.0],\"title\":{\"text\":\"Number of Riders\"}},\"yaxis\":{\"anchor\":\"x\",\"domain\":[0.0,1.0],\"title\":{},\"fixedrange\":false,\"dtick\":\"M1\",\"range\":[\"2024-12-31T00:00:00\",\"2024-01-01T00:00:00\"]},\"legend\":{\"tracegroupgap\":0},\"title\":{\"text\":\"TBD 2024 New Attendees\",\"x\":0.5},\"barmode\":\"relative\",\"margin\":{\"l\":5,\"r\":5,\"t\":35,\"b\":5},\"width\":450,\"height\":800,\"showlegend\":false},                        {\"responsive\": true}                    ).then(function(){\n",
       "                            \n",
       "var gd = document.getElementById('7fdad0f7-3fb8-45c0-b9e9-0dbc729c54fe');\n",
       "var x = new MutationObserver(function (mutations, observer) {{\n",
       "        var display = window.getComputedStyle(gd).display;\n",
       "        if (!display || display === 'none') {{\n",
       "            console.log([gd, 'removed!']);\n",
       "            Plotly.purge(gd);\n",
       "            observer.disconnect();\n",
       "        }}\n",
       "}});\n",
       "\n",
       "// Listen for the removal of the full notebook cells\n",
       "var notebookContainer = gd.closest('#notebook-container');\n",
       "if (notebookContainer) {{\n",
       "    x.observe(notebookContainer, {childList: true});\n",
       "}}\n",
       "\n",
       "// Listen for the clearing of the current output cell\n",
       "var outputEl = gd.closest('.output');\n",
       "if (outputEl) {{\n",
       "    x.observe(outputEl, {childList: true});\n",
       "}}\n",
       "\n",
       "                        })                };                });            </script>        </div>"
      ]
     },
     "metadata": {},
     "output_type": "display_data"
    }
   ],
   "source": [
    "fig = px.bar(\n",
    "    first_ride_count, y='date', x='count',\n",
    "    title=\"TBD 2024 New Attendees\",\n",
    "    \n",
    ")\n",
    "# fig.add_trace(go.Scatter(x=df[\"num_riders\"], y=df[\"date\"], mode='lines'))\n",
    "\n",
    "fig.update_yaxes(\n",
    "    fixedrange=False,\n",
    "    dtick=\"M1\",\n",
    "    # tickformat=\"%b\",\n",
    "    range=[pd.to_datetime('2024-12-31'), pd.to_datetime('2024-01-01')]\n",
    ")\n",
    "fig.update_layout(\n",
    "    title_x=0.5,\n",
    "    width=450,\n",
    "    height=800,\n",
    "    margin=dict(l=5, r=5, t=35, b=5),  # left, right, top, bottom margins\n",
    "    yaxis=dict(title=None),\n",
    "    xaxis_title='Number of Riders',\n",
    "    showlegend=False\n",
    ")\n",
    "fig.show()"
   ]
  },
  {
   "cell_type": "code",
   "execution_count": 665,
   "metadata": {},
   "outputs": [
    {
     "data": {
      "text/plain": [
       "np.float64(8467.6)"
      ]
     },
     "execution_count": 665,
     "metadata": {},
     "output_type": "execute_result"
    }
   ],
   "source": [
    "# SUMPRODUCT: Total miles * num_riders i.e. \"Total TBD miles this year\" \n",
    "(df['miles'] * df['num_riders']).sum()"
   ]
  },
  {
   "cell_type": "code",
   "execution_count": null,
   "metadata": {},
   "outputs": [],
   "source": []
  }
 ],
 "metadata": {
  "kernelspec": {
   "display_name": "Python 3",
   "language": "python",
   "name": "python3"
  },
  "language_info": {
   "codemirror_mode": {
    "name": "ipython",
    "version": 3
   },
   "file_extension": ".py",
   "mimetype": "text/x-python",
   "name": "python",
   "nbconvert_exporter": "python",
   "pygments_lexer": "ipython3",
   "version": "3.12.6"
  }
 },
 "nbformat": 4,
 "nbformat_minor": 2
}
